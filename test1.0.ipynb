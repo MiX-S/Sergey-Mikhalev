{
 "cells": [
  {
   "cell_type": "markdown",
   "metadata": {},
   "source": [
    "# Итоговый тест\n",
    "\n",
    "| <font size=3>№</font> | <font size=3>Название задачи</font> | <font size=3>Общее число баллов за решение</font> | <font size=3>Оценка времени, необходимого для решения, мин</font> | <font size=3>Число строк кода</font> | <font size=3>Идейная сложность</font> | <font size=3>Требуемая внимательность</font> |\n",
    "| :---: | :---: | :---: | :---: | :---: | :---: | :---: |\n",
    "| <font size=3>1</font> | <font size=3>Алфавит</font> | <font size=3> 1 </font> | 10 | 13 | 1 | 1 |\n",
    "| <font size=3>2</font> | <font size=3>Точки и отрезки</font> | <font size=3> 3 </font> | 30 | 50 | 4 | 3 |\n",
    "| <font size=3>3</font> | <font size=3>Аттракцион</font> | <font size=3> 2 </font> | 25 | 26 | 3 | 3 |\n",
    "| <font size=3>4</font> | <font size=3>Устойчивая сортировка выбором</font> | <font size=3> 1,5 </font> | 15 | 23(13) | 2 | 2 |\n",
    "| <font size=3>5</font> | <font size=3>Сравнение сортировки Шелла и сортировки расческой</font> | <font size=3> 1,5 </font> | 25 или 60 мин, если у Вас не готовы функции для сортировки | 73(20) | 1 | 2 |\n",
    "| <font size=3>6</font> | <font size=3>`k`-й по величине элемент</font> | <font size=3> 3 </font> | 60 или 15, если есть хорошие заготовки по быстрой сортировке из дз | 63 | 5 | 5 |\n",
    "| <font size=3>7</font> | <font size=3>Блочная сортировка</font> | <font size=3> 2 </font> | 20 | 36(9) | 3 | 1 |\n",
    "| <font size=3>8</font> | <font size=3>LSD и лексикографический порядок</font> | <font size=3> 2,5 </font> | 35 | 54(25) | 2 | 3 |\n",
    "| <font size=3>9</font> | <font size=3>Удаление среза списка</font> | <font size=3> 3 </font> | 35 | 90(27) | 2 | 4 |\n",
    "| <font size=3>ВСЕГО</font> | <font size=3>&nbsp;</font> | <font size=3> 19,5 </font> | 4 ч 15 мин | 428(246) | | |\n",
    "\n",
    ">В столбце \"Число строк кода\" в скобках указывается, сколько строк нужно написать, если Вы используете заготовки из домашнего задания или семинара.\n",
    "\n",
    "\n",
    "# Задача 1. Алфавит\n",
    "\n",
    "Воспитательница Галя работает в детском саду. Кроме детских игр в этом детском саду проходят занятия. Вот уже неделю ребята изучают буквы английского алфавита. Каждое утро воспитательница выстраивает всех своих подопечных в ряд и они играют в игру.\n",
    "\n",
    "Первый ребенок в ряду громко называет первую букву алфавита – `'A'`. Второй должен назвать `'B'`, третий – `'C'` и так далее. По счастливому стечению обстоятельств всего в группе 26 детей и столько же сколько и букв в английском алфавите.\n",
    "\n",
    "Если каждый ребенок без ошибки назовет свою букву, то группа отпразднует знание английского алфавита и ребята по этому случаю съедят большой торт. Однако, пока что группе не удается правильно назвать все 26 букв и каждое утро то один, то другой называет свою букву неправильно и игра на этом заканчивается.\n",
    "\n",
    "Ребята учат буквы подряд и каждый из них знает первые несколько букв алфавита и не может назвать остальные. Поэтому возможность выиграть напрямую зависит от их расстановки. К примеру, если последним в ряду окажется ребенок, знающий английский алфавит только до буквы `'D'`, то букву он назвать не сможет и группа не выиграет независимо от того, насколько хорошо выучили алфавит остальные ребята.\n",
    "\n",
    "Галя считает, что группа в целом уже достаточно хорошо знает алфавит и хочет помочь своим ребятам выиграть. Для этого ей нужно всего лишь расставить их так, чтобы первый ребенок в ряду знал алфавит хотя бы до буквы `'A'`, второй хотя бы до буквы `'B'` и так далее, последний в ряду должен знать все буквы.\n",
    "\n",
    "Помогите Гале решить: в каком порядке расставить ребят, чтобы они смогли выиграть или выясните, что это пока невозможно.\n",
    "\n",
    "Разрешено использовать встроенные инструменты для сортировки.\n",
    "\n",
    "На вход подается строка из 26 прописных букв. Каждая буква - последняя буква, которую помнит соответствующий детсадовец.\n",
    "\n",
    "Программа должна печатать одно слово: `True` или `False`\n",
    "\n",
    "### Примеры работы программы\n",
    "\n",
    "| <font size=3>Входные данные</font> | <font size=3>Выходные данные</font> |\n",
    "| :---: | :---: |\n",
    "| <font size=3>AAAAAAAAAAAAAAAAAAAAAAAAAA</font> | <font size=3>False</font> |\n",
    "| <font size=3>ZZZZZZZZZZZZZZZZZZZZZZZZZZ</font> | <font size=3>True</font> |\n",
    "| <font size=3>ABCDEFGHIJKLMNOPQRSTUVWXYZ</font> | <font size=3>True</font> |\n",
    "| <font size=3>UYZXIHQPREDJMKLOTFSNCGABWV</font> | <font size=3>True</font> |\n",
    "| <font size=3>ECCEGIILMJLMOQPPQTUTUZZXZZ</font> | <font size=3>True</font> |\n",
    "| <font size=3>EGJPOFBRHAMGJVVUWWXAKARPNI</font> | <font size=3>False</font> |\n",
    "\n",
    "### Критерии\n",
    "\n",
    "За правильное решение начисляется 1 балл"
   ]
  },
  {
   "cell_type": "code",
   "execution_count": 12,
   "metadata": {},
   "outputs": [],
   "source": [
    "def alph(s):\n",
    "    min_req = 'ABCDEFGHIJKLMNOPQRSTUVWXYZ'\n",
    "\n",
    "    s_sort = sorted(s)\n",
    "    for i in range(len(s_sort)):\n",
    "        if s_sort[i] < min_req[i]:\n",
    "            return False\n",
    "    return True"
   ]
  },
  {
   "cell_type": "code",
   "execution_count": 19,
   "metadata": {},
   "outputs": [
    {
     "data": {
      "text/plain": [
       "False"
      ]
     },
     "execution_count": 19,
     "metadata": {},
     "output_type": "execute_result"
    }
   ],
   "source": [
    "s = 'EGJPOFBRHAMGJVVUWWXAKARPNI'\n",
    "\n",
    "alph(s)"
   ]
  },
  {
   "cell_type": "markdown",
   "metadata": {},
   "source": [
    "# Задача 2. Точки и отрезки\n",
    "\n",
    "Дано `N` отрезков на числовой прямой и `M` точек на этой же прямой. Для каждой из данных точек определите, скольким отрезкам она принадлежит. Точка $x$ считается принадлежащей отрезку с концами $a$ и $b$, если выполняется двойное неравенство $\\min(a, b) \\le x \\le \\max(a, b)$.\n",
    "\n",
    "На вход подается число `N`, затем `N` отрезков: каждый в отдельной строке. И в конце на вход подается `M` точекб разделенных пробелами. Границы отрезков и точки - вещественные числа.\n",
    "\n",
    "На выходе должно быть `M` целых чисел, разделенных пробелами: количества отрезков, которым принадлежат точки. **Количества отрезков должны быть выведены в том же порядке, в котором точки были поданы на вход.**\n",
    "\n",
    "### Примеры работы программы\n",
    "\n",
    "| <font size=3>Входные данные</font> | <font size=3>Выходные данные</font> |\n",
    "| :---: | :---: |\n",
    "| <font size=3>2<br>1 2<br>2 3<br>0 1 2 3 4</font> | <font size=3>0 1 2 1 0</font> |\n",
    "| <font size=3>3<br>1 10<br>-1 3<br>7 12<br>-6 -1 0 1 3 4 7 10 12 13</font> | <font size=3>0 1 1 2 2 1 2 2 1 0</font> |\n",
    "| <font size=3>3<br>-1 10<br>-2 4<br>6 20<br>-2 4 1 -7 40 2.5 -0.3</font> | <font size=3>1 2 2 0 0 2 2</font> |\n",
    "\n",
    "### Критерии\n",
    "\n",
    "1. Если задача правильно решена перебором с помощью алгоритма $O(N^2)$, то начисляется 1 балл.\n",
    "\n",
    "2. Если задача оптимально считает отрезки с эффективностью $O(N \\log N)$, то начисляются 2,5 балла.\n",
    "\n",
    "3. Правильные решения с эффективностью $O(N \\log N)$, имеющие недочеты, оцениваются в 2 балла.\n",
    "\n",
    "4. Дополнительно 0,5 балла можно получить, если запомнить порядок следования точек во входных данных и использовать его для расположения в правильном порядке  количеств отрезков, в которые  попали точки. Восстановление порядка должно работать также быстро, как \"легкая сортировка\" из `train1.ipynb`."
   ]
  },
  {
   "cell_type": "code",
   "execution_count": null,
   "metadata": {},
   "outputs": [],
   "source": [
    "for i in range(len(dots)):\n",
    "    \n",
    "    # left - наибольший инд отзезка, для которого левая граница меньше или =\n",
    "    # right - наименьш. инд, для которого правая граница >=\n",
    "    left, right = find(segm_sort, dots[i])\n",
    "    \n",
    "    if right > left:\n",
    "        counts[i] += right - left"
   ]
  },
  {
   "cell_type": "code",
   "execution_count": 66,
   "metadata": {},
   "outputs": [],
   "source": [
    "segments = [(1, 10), (-1, 3), (7, 12)]\n",
    "dots = [-6, -1, 0, 1, 3, 4, 7, 10, 12, 13]\n",
    "\n",
    "M = len(dots)\n",
    "dots_sort = sorted(dots)\n",
    "segm_sort = sorted(segments, key = lambda x: x[0])\n",
    "\n",
    "counts = [0] * M\n",
    "    \n",
    "for i in range(len(segm_sort)):\n",
    "    \n",
    "    # Получить границы точек, которые попадают отрезок\n",
    "    left, right = find(dots_sort, segm_sort[i])\n",
    "    \n",
    "    for j in range(left, right + 1):\n",
    "        counts[j] += 1"
   ]
  },
  {
   "cell_type": "code",
   "execution_count": 65,
   "metadata": {},
   "outputs": [
    {
     "data": {
      "text/plain": [
       "[0, 1, 1, 2, 2, 1, 2, 2, 1, 0]"
      ]
     },
     "execution_count": 65,
     "metadata": {},
     "output_type": "execute_result"
    }
   ],
   "source": [
    "counts"
   ]
  },
  {
   "cell_type": "code",
   "execution_count": 57,
   "metadata": {},
   "outputs": [],
   "source": [
    "def find(A, segm):\n",
    "    left = binary_search(A, segm[0])\n",
    "    if A[left] < segm[0]:\n",
    "        left += 1\n",
    "    \n",
    "    right = binary_search(A, segm[1])\n",
    "    if A[right] < segm[1]:\n",
    "        right -= right\n",
    "        \n",
    "    return left, right\n",
    "\n",
    "def binary_search(A, x):\n",
    "    L = 0\n",
    "    R = len(A) - 1\n",
    "    while L <= R:\n",
    "        n = (L + R) // 2\n",
    "        if A[n] == x:\n",
    "            return n\n",
    "        elif A[n] > x:\n",
    "            R = n - 1\n",
    "        else:\n",
    "            L = n + 1\n",
    "    return n"
   ]
  },
  {
   "cell_type": "markdown",
   "metadata": {},
   "source": [
    "# Задача 3. Аттракцион\n",
    "\n",
    "На протяжении многих лет в Байтландии существует парк развлечений “Funny byte”, в котором представлено много различных аттракционов: колесо вычислений, веселые горки с трассами в форме интегралов, равнобедренная ромашка и многие другие.\n",
    "\n",
    "В последние годы популярность “Funny byte” стала неуклонно падать. В целях привлечения посетителей руководство парка решило открыть новый аттракцион, который представляет собой сложный механизм.\n",
    "\n",
    "Кресла аттракциона расположены в `N` рядов по `M` кресел в каждом. То есть каждое кресло характеризуется номером ряда и номером колонки, в котором оно находится. Ряды нумеруются последовательно сверху вниз начиная с единицы, колонки нумеруются слева направо начиная с единицы. Каждое кресло имеет свой уникальный номер. Кресло, находящееся в `i`-м ряду и в `j`-ой колонке, имеет номер `(i-1)*M + j`.\n",
    "\n",
    "После посадки отдыхающих, кресла поднимают вверх над землей. И начинается веселье! Механизм аттракциона случайным образом производит некоторое количество операций. Под одной операцией понимается взаимная перестановка двух рядов либо двух колонок. При взаимной перестановке двух рядов или колонок каждое кресло в ряду или колонке заменятся на соответствующее ему кресло в другом ряду или колонке.\n",
    "\n",
    "И вот аттракцион завершил свою работу. Но есть одна трудность! Кресла надо вернуть в начальное положение при помощи таких же операций. Как количество, так и сами операции не обязательно должны быть идентичны тем, которые производил аттракцион во время сеанса. Руководство парка решило, что вернуть кресла в начальное положение необходимо не более чем за `(N + M)` операций.\n",
    "\n",
    "Такая задача оказалась не по силам разработчикам механизма. Помогите им! От вас требуется разработать программу, позволяющую вернуть кресла в начальное положение. Гарантируется, что решение существует.\n",
    "\n",
    "На вход подается число `N`, а затем `N` строк из `M` целых чисел, разделенных пробелами, в каждой. Каждая `k`-я поданная на вход строка содержит расположение кресел в `k`-м ряде после завершения работы аттракциона. \n",
    "\n",
    "Программа должна распечатать перестановки в аттракционе, которые требуется выполнить, чтобы привести его в порядок. Каждая перестановка печатается в отдельной строке и состоит из трех чисел, разделенных пробелами.\n",
    "\n",
    "1. Если первое число равно 0, то переставляются ряды, а если 1, то переставляются колонки.\n",
    "\n",
    "2. Второе и третье числа - номера переставляемых колонок или рядов. **Сначала печатается меньший номер, затем больший.**\n",
    "\n",
    "**Если есть несколько решений, можно привести любое из них.**\n",
    "\n",
    "### Примеры работы программы\n",
    "\n",
    "| <font size=3>Входные данные</font> | <font size=3>Выходные данные</font> |\n",
    "| :---: | :---: |\n",
    "| <font size=3>2<br>1 2 3<br>4 5 6</font> | <font size=3></font> |\n",
    "| <font size=3>2<br>4 6 5<br>1 2 3</font> | <font size=3>0 1 2</font> |\n",
    "| <font size=3>3<br>9 8 7<br>6 5 4<br>3 2 1</font> | <font size=3>0 1 3<br>1 1 3</font> |\n",
    "| <font size=3>3<br>9 7 8<br>6 4 5<br>3 1 2</font> | <font size=3>0 1 3<br>1 2 3<br>1 1 2</font> |\n",
    "\n",
    "\n",
    "### Критерии\n",
    "\n",
    "За рабочее решение, выполняющее не более `(N + M)` операций, начисляются 2 балла"
   ]
  },
  {
   "cell_type": "code",
   "execution_count": 86,
   "metadata": {},
   "outputs": [
    {
     "data": {
      "text/plain": [
       "[[6, 4, 5], [9, 7, 8], [3, 1, 2]]"
      ]
     },
     "execution_count": 86,
     "metadata": {},
     "output_type": "execute_result"
    }
   ],
   "source": [
    "def flip(w, s, correct_s):\n",
    "    w[s], w[correct_s] = w[correct_s], w[s]\n",
    "    return w"
   ]
  },
  {
   "cell_type": "code",
   "execution_count": 243,
   "metadata": {},
   "outputs": [
    {
     "name": "stdout",
     "output_type": "stream",
     "text": [
      "[[9, 7, 8], [6, 4, 5], [3, 1, 2]] 0 2\n",
      "[[3, 1, 2], [6, 4, 5], [9, 7, 8]] 1 1\n",
      "[[3, 1, 2], [6, 4, 5], [9, 7, 8]] 0 0\n",
      "[[3, 1, 2], [6, 4, 5], [9, 7, 8]] 0 2\n",
      "[[2, 1, 3], [5, 4, 6], [8, 7, 9]] 1 0\n",
      "[[1, 2, 3], [4, 5, 6], [7, 8, 9]] 1 1\n"
     ]
    }
   ],
   "source": [
    "A = [[9, 7, 8], [6, 4, 5], [3, 1, 2]]\n",
    "\n",
    "N = len(A)\n",
    "M = len(A[0])\n",
    "decision = ''\n",
    "\n",
    "# Приведем в порядок строки за N замен\n",
    "q = set([i for i in range(N)])\n",
    "for i in range(N):\n",
    "    \n",
    "    # Выбираем любую строку\n",
    "    s = q.pop()\n",
    "    \n",
    "    # Смотрим на первый элемент и определяем, в какой строке он должен быть\n",
    "    correct_s = (A[s][0] - 1) // M\n",
    "    print(A, s, correct_s)\n",
    "    \n",
    "    # Меняем строки между собой\n",
    "    A[s], A[correct_s] = A[correct_s], A[s]\n",
    "    if s != correct_s:\n",
    "        decision += '0 ' + str(min(s, correct_s) + 1) + ' ' + str(max(s, correct_s) + 1) + '\\n'\n",
    "    \n",
    "    # Добавляем элемент s обратно во множество и забираем correct_s\n",
    "    q.add(s)\n",
    "    q.remove(correct_s)\n",
    "    \n",
    "    \n",
    "# Приведем в порядок столбцы за M замен\n",
    "q = set([i for i in range(M)])\n",
    "for i in range(M):\n",
    "    \n",
    "    # Выбираем любой столбец\n",
    "    s = q.pop()\n",
    "    \n",
    "    # Смотрим на первый элемент и определяем, в каком столбце он должен быть\n",
    "    correct_s = (A[0][s] - 1) % N\n",
    "    print(A, s, correct_s)\n",
    "    \n",
    "    # Меняем столбцы между собой\n",
    "    A = [flip(w, s, correct_s) for w in A]\n",
    "    if s != correct_s:\n",
    "        decision += '1 ' + str(min(s, correct_s) + 1) + ' ' + str(max(s, correct_s) + 1) + '\\n'\n",
    "    \n",
    "    # Добавляем элемент s обратно во множество и забираем correct_s\n",
    "    q.add(s)\n",
    "    q.remove(correct_s)"
   ]
  },
  {
   "cell_type": "code",
   "execution_count": 244,
   "metadata": {},
   "outputs": [
    {
     "data": {
      "text/plain": [
       "[[1, 2, 3], [4, 5, 6], [7, 8, 9]]"
      ]
     },
     "execution_count": 244,
     "metadata": {},
     "output_type": "execute_result"
    }
   ],
   "source": [
    "A"
   ]
  },
  {
   "cell_type": "code",
   "execution_count": 245,
   "metadata": {},
   "outputs": [
    {
     "name": "stdout",
     "output_type": "stream",
     "text": [
      "0 1 3\n",
      "1 1 3\n",
      "1 1 2\n",
      "\n"
     ]
    }
   ],
   "source": [
    "print(decision)"
   ]
  },
  {
   "cell_type": "markdown",
   "metadata": {},
   "source": [
    "# Задача 4. Устойчивая сортировка выбором\n",
    "\n",
    "Реализуйте устойчивую версию сортировки выбором `stable_selection_sort()`. Функция должна принимать на вход список чисел и сортировать его на месте, то есть переставлять элементы оригинального списка. Функция не должна ничего возвращать.\n",
    "\n",
    "Запрещается использовать готовые решения, найденные в сети интернет.\n",
    "\n",
    "### Критерии\n",
    "\n",
    "За рабочее решение начисляются 1,5 балла"
   ]
  },
  {
   "cell_type": "code",
   "execution_count": 137,
   "metadata": {},
   "outputs": [],
   "source": [
    "A = ['aw', 'bs', 'br', 'rr', 'nt', 'ra', 'ba', 'bb', 'bc', 'bf', 'be']\n",
    "\n",
    "\n",
    "# Сортировка по первой букве\n",
    "def find_min(A):\n",
    "    next_min = A[0]\n",
    "    num_min = 0\n",
    "    \n",
    "    for i in range(len(A)):\n",
    "        if A[i][0] < next_min[0]:\n",
    "            next_min = A[i]\n",
    "            num_min = i\n",
    "    return next_min, num_min\n",
    "    \n",
    "\n",
    "def stable_selection_sort(A):\n",
    "    for i in range(len(A) - 1):\n",
    "        next_min, num_min = find_min(A[i:])\n",
    "        tmp = A[i]\n",
    "        A[i] = next_min\n",
    "        A[num_min + i] = tmp"
   ]
  },
  {
   "cell_type": "code",
   "execution_count": 138,
   "metadata": {},
   "outputs": [
    {
     "data": {
      "text/plain": [
       "['aw', 'bs', 'br', 'ba', 'bb', 'bc', 'bf', 'be', 'nt', 'rr', 'ra']"
      ]
     },
     "execution_count": 138,
     "metadata": {},
     "output_type": "execute_result"
    }
   ],
   "source": [
    "choice_sort(A)\n",
    "A"
   ]
  },
  {
   "cell_type": "markdown",
   "metadata": {},
   "source": [
    "# Задача 5. Сравнение сортировки Шелла и сортировки расческой\n",
    "\n",
    "Используя модуль `timeit` сравните скорость работы \n",
    "\n",
    "1. сортировки Шелла в классическом варианте,\n",
    "\n",
    "- сортировки Шелла на основе последовательности Пратта,\n",
    "\n",
    "- сортировки расческой.\n",
    "\n",
    "На одной картинке постройте графики зависимости времени, необходимого для сортировки массива от его размера. Размер массива варьируйте от $2^3$ до $2^{14}$.\n",
    "\n",
    ">Чтобы подписать лнии на графики, при построении нужно передавать аргумент `label`, а затем вызвать метод `matplotlib.pyplot.legend()`. Для определения места, в котором появится легенда, используются аргументы `bbox_to_anchor` и `loc`. Первый показывает, в какой точке графика будет прикреплена легенда, а `loc` определяет, за какую точку будет прикреплена легенда. Если `loc == 2`, легенда будет закреплена за свой левый верхний угол.\n",
    "\n",
    "### Критерии\n",
    "\n",
    "За правильное измерение скорости сортировки при условии, что есть график с подписанными осями и кривыми, начисляются 1,5 балла."
   ]
  },
  {
   "cell_type": "code",
   "execution_count": 139,
   "metadata": {},
   "outputs": [
    {
     "data": {
      "image/png": "[encoded data removed]",
      "text/plain": [
       "<Figure size 432x288 with 1 Axes>"
      ]
     },
     "metadata": {},
     "output_type": "display_data"
    }
   ],
   "source": [
    "import matplotlib.pyplot as plt\n",
    "import math\n",
    "import random\n",
    "\n",
    "%matplotlib inline\n",
    "plt.plot(\n",
    "    [i*0.1 for i in range(-100, 100) if i != 0],\n",
    "    [math.log(abs(i*0.1)) for i in range(-100, 100) if i != 0],\n",
    "    label='$\\ln |x|$'\n",
    ")\n",
    "plt.plot(\n",
    "    [i for i in range(-10, 10)],\n",
    "    [random.uniform(-1, 1) for _ in range(-10, 10)],\n",
    "    label=\"crazy\"\n",
    ")\n",
    "plt.legend(bbox_to_anchor=(.02, .98), loc=2)\n",
    "plt.show()"
   ]
  },
  {
   "cell_type": "code",
   "execution_count": 213,
   "metadata": {},
   "outputs": [
    {
     "data": {
      "image/png": "[encoded data removed]",
      "text/plain": [
       "<Figure size 432x288 with 1 Axes>"
      ]
     },
     "metadata": {},
     "output_type": "display_data"
    }
   ],
   "source": [
    "%matplotlib inline\n",
    "plt.plot(\n",
    "    [i * 1000 for i in range(1, 50)],\n",
    "    time_comb,\n",
    "    label='comb'\n",
    ")\n",
    "plt.plot(\n",
    "    [i * 1000 for i in range(1, 50)],\n",
    "    time_sedg,\n",
    "    label=\"sedgewick\"\n",
    ")\n",
    "plt.plot(\n",
    "    [i * 1000 for i in range(1, 50)],\n",
    "    time_pratt,\n",
    "    label=\"pratt\"\n",
    ")\n",
    "plt.legend(bbox_to_anchor=(.02, .98), loc=2)\n",
    "plt.xlabel('Num iterations')\n",
    "plt.show()"
   ]
  },
  {
   "cell_type": "code",
   "execution_count": 201,
   "metadata": {},
   "outputs": [],
   "source": [
    "import random\n",
    "import time\n",
    "\n",
    "def measure_time(sort_func, gaps = ''):\n",
    "    times = []\n",
    "    for i in range(1, 50):\n",
    "        N = 1000 * i\n",
    "        L=list(range(N))\n",
    "        random.shuffle(L)\n",
    "\n",
    "        start_time = time.time()\n",
    "        sort_func(L, gaps)\n",
    "        times.append(time.time() - start_time)\n",
    "    return times"
   ]
  },
  {
   "cell_type": "code",
   "execution_count": 202,
   "metadata": {
    "scrolled": true
   },
   "outputs": [],
   "source": [
    "time_comb = measure_time(comb_sort)\n",
    "time_sedg = measure_time(shell_sort, gaps = 'Sedgewick')\n",
    "time_pratt = measure_time(shell_sort, gaps = 'Pratt')\n",
    "\n",
    "len(time_comb)"
   ]
  },
  {
   "cell_type": "code",
   "execution_count": 166,
   "metadata": {},
   "outputs": [],
   "source": [
    "def comb_sort(A, gaps = ''):\n",
    "    \n",
    "    gap = len(A)\n",
    "    decr_fact = 1.247\n",
    "    Sorted = False\n",
    "    \n",
    "    while Sorted == False:\n",
    "        \n",
    "        # print(A, gap)\n",
    "        gap = int(gap / decr_fact)\n",
    "        if gap <= 1:\n",
    "            gap = 1\n",
    "            Sorted = True\n",
    "        \n",
    "        # A single \"comb\" over the input list\n",
    "        i = 0\n",
    "        while i + gap < len(A):\n",
    "            if A[i] > A[i + gap]:\n",
    "                A[i], A[i + gap] = A[i + gap], A[i]\n",
    "                Sorted = False\n",
    "            i += 1\n",
    "    \n",
    "    return A"
   ]
  },
  {
   "cell_type": "code",
   "execution_count": 141,
   "metadata": {},
   "outputs": [
    {
     "data": {
      "text/plain": [
       "[109, 41, 19, 5, 1]"
      ]
     },
     "execution_count": 141,
     "metadata": {},
     "output_type": "execute_result"
    }
   ],
   "source": [
    "def Sedgewick_gaps(n):\n",
    "    d = []\n",
    "    i = 0\n",
    "    while True:\n",
    "        \n",
    "        if i % 2 == 0:\n",
    "            d_i = 9 * (2**i - 2**(i/2)) + 1 \n",
    "        else:\n",
    "            d_i = 8 * 2**i - 6 * 2**((i + 1) / 2) + 1\n",
    "        \n",
    "        if d_i >= n:\n",
    "            break\n",
    "        d.append(int(d_i))\n",
    "        i += 1\n",
    "    \n",
    "    return sorted(d, reverse=True)\n",
    "\n",
    "Sedgewick_gaps(200)"
   ]
  },
  {
   "cell_type": "code",
   "execution_count": 182,
   "metadata": {},
   "outputs": [
    {
     "data": {
      "text/plain": [
       "[18, 16, 12, 9, 8, 6, 4, 3, 2, 1]"
      ]
     },
     "execution_count": 182,
     "metadata": {},
     "output_type": "execute_result"
    }
   ],
   "source": [
    "from math import log\n",
    "\n",
    "def Pratt_gaps(n):\n",
    "    d = []\n",
    "    \n",
    "    for i in range(int(log(n, 2))):\n",
    "        for j in range(int(log(n, 3))):\n",
    "            \n",
    "            d_i = 2**i * 3**j\n",
    "            if d_i > n/2:\n",
    "                break\n",
    "            d.append(d_i)\n",
    "    \n",
    "    return sorted(d, reverse=True)\n",
    "\n",
    "Pratt_gaps(40)"
   ]
  },
  {
   "cell_type": "code",
   "execution_count": 176,
   "metadata": {},
   "outputs": [],
   "source": [
    "def shell_sort(A, gaps = \"Sedgewick\"):\n",
    "\n",
    "    if gaps == \"Sedgewick\":\n",
    "        gaps = Sedgewick_gaps(len(A))\n",
    "    elif gaps == \"Pratt\":\n",
    "        gaps = Pratt_gaps(len(A))\n",
    "    else:\n",
    "        raise Exception(\"Try another gaps method\")\n",
    "    \n",
    "\n",
    "    # Start with the largest gap and work down to a gap of 1\n",
    "    for gap in gaps:\n",
    "\n",
    "        # Do a gapped insertion sort for this gap size.\n",
    "        # The first gap elements a[0..gap-1] are already in gapped order\n",
    "        # keep adding one more element until the entire array is gap sorted\n",
    "        for i in range(gap, len(A), 1):\n",
    "            \n",
    "            # add a[i] to the elements that have been gap sorted\n",
    "            # save a[i] in temp and make a hole at position i\n",
    "            temp = A[i]\n",
    "            # shift earlier gap-sorted elements up until the correct location for a[i] is found\n",
    "            j = i\n",
    "            while j >= gap and A[j - gap] > temp:\n",
    "                A[j] = A[j - gap]\n",
    "                j = j - gap\n",
    "                \n",
    "            # put temp (the original a[i]) in its correct location\n",
    "            A[j] = temp\n",
    "    \n",
    "    return A"
   ]
  },
  {
   "cell_type": "markdown",
   "metadata": {},
   "source": [
    "# Задача 6. $k$-й по величине элемент\n",
    "\n",
    "Найти $k$-е по величине значение в массиве из $N$ элементов (не сортируя массив полностью). Можно менять исходный массив.\n",
    "\n",
    "Формат входных и выходных данных не имеет принципиального значения. Решением будет функция `quick_search()`, принимающая список и позицию элемента в отсортированном массиве.\n",
    "\n",
    "### Примеры работы программы\n",
    "\n",
    "| <font size=3>Входные данные</font> | <font size=3>Выходные данные</font> |\n",
    "| :---: | :---: |\n",
    "| <font size=3>3 2 3 7 1 8 6 6 6 6 -1 5<br>4</font> | <font size=3>7</font> |\n",
    "\n",
    "\n",
    "### Критерии\n",
    "\n",
    "За рабочее решение со средней эффективностью $O(N)$ начисляются 3 балла."
   ]
  },
  {
   "cell_type": "code",
   "execution_count": 224,
   "metadata": {},
   "outputs": [],
   "source": [
    "def find_index(A, x):\n",
    "    \n",
    "    if len(A) == 0:\n",
    "        return 0\n",
    "    middle = len(A) // 2\n",
    "    c = A[middle]\n",
    "    \n",
    "    if c == x:\n",
    "        return middle\n",
    "    elif x > c:\n",
    "        # print(A[:middle])\n",
    "        return binary_search_recirsive(A[:middle], x)\n",
    "    else:\n",
    "        # print(middle)\n",
    "        return middle + 1 + binary_search_recirsive(A[middle + 1:], x)\n",
    "    \n",
    "def insert(A, x):\n",
    "    \n",
    "    index = find_index(A, x)\n",
    "    if np.isnan(index):\n",
    "        index = 0\n",
    "    A.insert(index, x)\n",
    "    return A[:-1]"
   ]
  },
  {
   "cell_type": "code",
   "execution_count": 225,
   "metadata": {},
   "outputs": [],
   "source": [
    "def find_k_max(A, k):\n",
    "    \n",
    "    # sort first k elements\n",
    "    first_k = sorted(A[:k])\n",
    "    \n",
    "    # hold max_k as k maximal element\n",
    "    for i in range(k, len(A)):\n",
    "        if A[i] > first_k[-1]:\n",
    "            # insert A[i] in its position\n",
    "            first_k = insert(first_k, A[i])\n",
    "            \n",
    "    return first_k[-1]"
   ]
  },
  {
   "cell_type": "code",
   "execution_count": 226,
   "metadata": {},
   "outputs": [],
   "source": [
    "# Рекурсивная реализация\n",
    "\n",
    "def binary_search_recirsive(A, x):\n",
    "    \n",
    "    # Если элемент не найден, вернуть nan\n",
    "    if len(A) == 0:\n",
    "        return np.nan\n",
    "    middle = len(A) // 2\n",
    "    c = A[middle]\n",
    "    \n",
    "    if c == x:\n",
    "        return middle\n",
    "    elif x < c:\n",
    "        # print(A[:middle])\n",
    "        return binary_search_recirsive(A[:middle], x)\n",
    "    else:\n",
    "        # print(middle)\n",
    "        return middle + 1 + binary_search_recirsive(A[middle + 1:], x)"
   ]
  },
  {
   "cell_type": "code",
   "execution_count": 228,
   "metadata": {},
   "outputs": [
    {
     "data": {
      "text/plain": [
       "18.0"
      ]
     },
     "execution_count": 228,
     "metadata": {},
     "output_type": "execute_result"
    }
   ],
   "source": [
    "import numpy as np\n",
    "x = np.linspace(0, 22, 23)\n",
    "\n",
    "find_k_max(x, 5)"
   ]
  },
  {
   "cell_type": "markdown",
   "metadata": {},
   "source": [
    "# Задача 7. Блочная сортировка\n",
    "\n",
    "`N` точек равномерно распределены внутри единичного круга с центром в начале координат. Отсортируйте их по тому, насколько они близки к началу координат. Испольуйте блочную сортировку.\n",
    "\n",
    "### Критерии\n",
    "\n",
    "За рабочее решение начисляются 2 балла."
   ]
  },
  {
   "cell_type": "code",
   "execution_count": 276,
   "metadata": {},
   "outputs": [
    {
     "data": {
      "text/plain": [
       "[(0, 0),\n",
       " (1, 2),\n",
       " (1.7320508075688772, 1.4142135623730951),\n",
       " (2, 2),\n",
       " (1, 5),\n",
       " (7, 0)]"
      ]
     },
     "execution_count": 276,
     "metadata": {},
     "output_type": "execute_result"
    }
   ],
   "source": [
    "dots = [(1, 2), (1, 5), (0, 0), (7, 0), (2, 2), (3**0.5, 2**0.5)]\n",
    "\n",
    "distances = [(dot[0]**2 + dot[1]**2)**0.5 for dot in dots]\n",
    "\n",
    "# D = {(dot[0]**2 + dot[1]**2)**0.5: dot for dot in dots}\n",
    "D = {}\n",
    "for dot in dots:\n",
    "    d = (dot[0]**2 + dot[1]**2)**0.5\n",
    "    if d not in D.keys():\n",
    "        D[d] = [dot]\n",
    "    else:\n",
    "        D[d].append(dot)\n",
    "\n",
    "sorted_dist = sorted(distances)\n",
    "sorted_dots = []\n",
    "for dist in list(set(sorted_dist)):\n",
    "    sorted_dots += D[dist]\n",
    "sorted_dots"
   ]
  },
  {
   "cell_type": "code",
   "execution_count": 241,
   "metadata": {},
   "outputs": [],
   "source": [
    "def insert_sort(A):\n",
    "    \n",
    "    for i in range(1, len(A)):\n",
    "        # Первые i элементов уже отсортированы. Возьмем (i+1)-й элемент\n",
    "        j = i\n",
    "        while (j >= 1) and (A[j] < A[j - 1]):\n",
    "            A[j - 1], A[j] = A[j], A[j - 1]\n",
    "            j = j - 1\n",
    "\n",
    "\n",
    "def bucket_sort(L, k):\n",
    "    \n",
    "    buckets = [[] for i in range(k)]\n",
    "    \n",
    "    # Разделение на корзины\n",
    "    for elem in L:\n",
    "        i_bucket = int(elem // (1 / k))\n",
    "        buckets[i_bucket].append(elem)\n",
    "        \n",
    "    # Сортировка вставками каждой корзины\n",
    "    for b in buckets:\n",
    "        insert_sort(b)\n",
    "        \n",
    "    # Слияние отсортированных корзин\n",
    "    index = 0\n",
    "    for b in buckets:\n",
    "        L[index: index + len(b)] = b\n",
    "        index += len(b)"
   ]
  },
  {
   "cell_type": "code",
   "execution_count": null,
   "metadata": {},
   "outputs": [],
   "source": []
  },
  {
   "cell_type": "markdown",
   "metadata": {},
   "source": [
    "# Задача 8. LSD и лексикографический порядок\n",
    "\n",
    "Напишите функцию для сортировки слов английского алфавита с помощью алгоритма LSD.\n",
    "\n",
    "### Критерии\n",
    "\n",
    "За рабочее решение начисляются 2,5 балла."
   ]
  },
  {
   "cell_type": "code",
   "execution_count": null,
   "metadata": {
    "scrolled": false
   },
   "outputs": [],
   "source": []
  },
  {
   "cell_type": "markdown",
   "metadata": {},
   "source": [
    "# Задача 9. Удаление среза списка\n",
    "\n",
    "Допишите в реализацию двусвязного списка метод, позволяющий удалять срезы с шагом 1 с помощью команды\n",
    "```python\n",
    "del my_list[i:j]\n",
    "```\n",
    "\n",
    "Случай, когда границы среза выходят за границы списка не рассматривать.\n",
    "\n",
    "### Критерии\n",
    "\n",
    "3 балла начисляются при условии, что **все** связи в списке корректно модифицируются, а `self.head` и `self.tail` указывают на действительные голову и хвост списка. \n",
    "\n",
    ">Для проверки обратных связей рекомендуется добавить и отладить метод `print_reverse()`, который будет печатать элементы списка, начиная с хвоста."
   ]
  },
  {
   "cell_type": "code",
   "execution_count": null,
   "metadata": {},
   "outputs": [],
   "source": []
  }
 ],
 "metadata": {
  "kernelspec": {
   "display_name": "Python 3",
   "language": "python",
   "name": "python3"
  },
  "language_info": {
   "codemirror_mode": {
    "name": "ipython",
    "version": 3
   },
   "file_extension": ".py",
   "mimetype": "text/x-python",
   "name": "python",
   "nbconvert_exporter": "python",
   "pygments_lexer": "ipython3",
   "version": "3.6.5"
  }
 },
 "nbformat": 4,
 "nbformat_minor": 2
}

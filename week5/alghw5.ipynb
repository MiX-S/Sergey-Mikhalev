{
 "cells": [
  {
   "cell_type": "markdown",
   "metadata": {},
   "source": [
    "# Упражнение 1. Удаление элемента из односвязного списка\n",
    "\n",
    "Реализуйте метод [`__delitem__()`](https://docs.python.org/3/reference/datamodel.html#object.__delitem__) для класса `SinglyLinkedList` из примера 1 лабораторной работы alg5.ipynb. Метод должен удалять элементы списка по индексу.\n",
    "```python\n",
    "del my_list[idx]\n",
    "```\n",
    "Должна быть возможность работы с отрицательными индексами, и встроена проверка значения индекса. Если индекс выходит за границы списка, кидайте исключение `IndexError`."
   ]
  },
  {
   "cell_type": "code",
   "execution_count": 114,
   "metadata": {},
   "outputs": [
    {
     "name": "stdout",
     "output_type": "stream",
     "text": [
      "Inserting\n",
      "Printing\n",
      "25\n",
      "15\n",
      "5\n",
      "Size\n",
      "3\n"
     ]
    }
   ],
   "source": [
    "class Node:\n",
    "    def __init__(self, data, next_node=None):\n",
    "        self.data = data\n",
    "        self.next_node = next_node\n",
    "\n",
    "    def get_data(self):\n",
    "        return self.data\n",
    "\n",
    "    def set_data(self, val):\n",
    "        self.data = val\n",
    "\n",
    "    def get_next_node(self):\n",
    "        return self.next_node\n",
    "\n",
    "\n",
    "class SinglyLinkedList:\n",
    "    def __init__(self):\n",
    "        self.head = None\n",
    "        self.size = 0\n",
    "        \n",
    "    def __str__(self):\n",
    "        if self.head == None:\n",
    "            return '[]'\n",
    "        list_str = '['\n",
    "        curr = self.head\n",
    "        while curr:\n",
    "            list_str += str(curr.data) + ', '\n",
    "            curr = curr.get_next_node()\n",
    "        list_str = list_str[:-2] + ']'\n",
    "        return list_str\n",
    "    \n",
    "    def  __delitem__(self, index):\n",
    "        if index < 0:\n",
    "            index = self.size + index\n",
    "        if index >= self.size:\n",
    "            raise IndexError(\"singly linked list index out of range\")\n",
    "        \n",
    "        if index == 0:\n",
    "            curr = self.head\n",
    "            self.head = self.head.next_node\n",
    "            self.size -= 1\n",
    "            return curr\n",
    "        else:\n",
    "            prev = self.head\n",
    "            next_node = prev.get_next_node().get_next_node()\n",
    "            for _ in range(index - 1):\n",
    "                prev = prev.get_next_node()\n",
    "                next_node = next_node.get_next_node()\n",
    "            curr = prev.get_next_node()\n",
    "            prev.next_node = next_node\n",
    "            self.size -= 1\n",
    "            return curr\n",
    "\n",
    "    def get_size(self):\n",
    "        return self.size\n",
    "    \n",
    "    def insert(self, index, data):\n",
    "        if index < 0:\n",
    "            index = self.size + index + 1\n",
    "        if index > self.size:\n",
    "            raise IndexError(\"singly linked list index out of range\")\n",
    "        \n",
    "        if index == 0:\n",
    "            self.add_node(data)\n",
    "        else:\n",
    "            prev = self.head\n",
    "            curr = prev.get_next_node()\n",
    "            for _ in range(index - 1):\n",
    "                prev = prev.get_next_node()\n",
    "                curr = curr.get_next_node()\n",
    "            new_node = Node(data, curr)\n",
    "            prev.next_node = new_node\n",
    "            self.size += 1\n",
    "\n",
    "    def add_node(self, data):\n",
    "        new_node = Node(data, self.head)\n",
    "        self.head = new_node\n",
    "        self.size += 1\n",
    "       \n",
    "    def print_list(self):\n",
    "        curr = self.head\n",
    "        while curr:\n",
    "            print(curr.data)\n",
    "            curr = curr.get_next_node()\n",
    "\n",
    "\n",
    "my_list = SinglyLinkedList()\n",
    "print(\"Inserting\")\n",
    "my_list.add_node(5)\n",
    "my_list.add_node(15)\n",
    "my_list.add_node(25)\n",
    "print(\"Printing\")\n",
    "my_list.print_list()\n",
    "print(\"Size\")\n",
    "print(my_list.get_size())"
   ]
  },
  {
   "cell_type": "code",
   "execution_count": 115,
   "metadata": {},
   "outputs": [
    {
     "name": "stdout",
     "output_type": "stream",
     "text": [
      "[25, 15, 5]\n"
     ]
    }
   ],
   "source": [
    "print(my_list)"
   ]
  },
  {
   "cell_type": "code",
   "execution_count": 90,
   "metadata": {},
   "outputs": [
    {
     "name": "stdout",
     "output_type": "stream",
     "text": [
      "[25, 15, 5, 2]\n"
     ]
    }
   ],
   "source": [
    "my_list.insert(3, 2)\n",
    "\n",
    "print(my_list)"
   ]
  },
  {
   "cell_type": "code",
   "execution_count": 68,
   "metadata": {},
   "outputs": [
    {
     "name": "stdout",
     "output_type": "stream",
     "text": [
      "[]\n"
     ]
    }
   ],
   "source": [
    "del my_list[0]\n",
    "\n",
    "print(my_list)"
   ]
  },
  {
   "cell_type": "markdown",
   "metadata": {},
   "source": [
    "# Упражнение 2. Двусвязный список\n",
    "\n",
    "Реализуйте двусвязный список в виде класса `DoublyLinkedList`. У двусвязного списка, кроме поля `head`, должно быть еще поле `tail`, указывающее на последний элемент списка. "
   ]
  },
  {
   "cell_type": "markdown",
   "metadata": {},
   "source": [
    "    def __str__(self):\n",
    "        if self.head == None:\n",
    "            return '[]'\n",
    "        list_str = ']'\n",
    "        curr = self.head\n",
    "        while curr:\n",
    "            list_str = ', ' + str(curr.data) + list_str\n",
    "            curr = curr.get_next_node()\n",
    "        list_str = '[' + list_str[2:]\n",
    "        return list_str"
   ]
  },
  {
   "cell_type": "code",
   "execution_count": 118,
   "metadata": {},
   "outputs": [],
   "source": [
    "class Node:\n",
    "    def __init__(self, data, next_node=None, prev_node=None):\n",
    "        self.data = data\n",
    "        self.next_node = next_node\n",
    "        self.prev_node = prev_node\n",
    "\n",
    "    def get_data(self):\n",
    "        return self.data\n",
    "\n",
    "    def set_data(self, val):\n",
    "        self.data = val\n",
    "\n",
    "    def get_next_node(self):\n",
    "        return self.next_node\n",
    "    \n",
    "    def get_prev_node(self):\n",
    "        return self.prev_node"
   ]
  },
  {
   "cell_type": "code",
   "execution_count": 255,
   "metadata": {},
   "outputs": [],
   "source": [
    "class DoublyLinkedList:\n",
    "    def __init__(self):\n",
    "        self.head = None\n",
    "        self.tail = None\n",
    "        self.size = 0\n",
    "        \n",
    "    def __str__(self):\n",
    "        if self.head == None:\n",
    "            return '[]'\n",
    "        list_str = '['\n",
    "        curr = self.head\n",
    "        while curr:\n",
    "            list_str += str(curr.data) + ', '\n",
    "            curr = curr.get_next_node()\n",
    "        list_str = list_str[:-2] + ']'\n",
    "        return list_str\n",
    "    \n",
    "    def  __delitem__(self, index):\n",
    "        if index < 0:\n",
    "            index = self.size + index\n",
    "        if index >= self.size:\n",
    "            raise IndexError(\"singly linked list index out of range\")\n",
    "            \n",
    "        if index == 0:\n",
    "            curr = self.head\n",
    "            self.head = self.head.next_node\n",
    "            self.head.prev_node = None\n",
    "            self.size -= 1\n",
    "        else:\n",
    "            curr = self.__getitem__(index)\n",
    "            curr.prev_node.next_node = curr.next_node\n",
    "            if curr.next_node is not None:\n",
    "                curr.next_node.prev_node = curr.prev_node\n",
    "            self.size -= 1\n",
    "            \n",
    "\n",
    "    def get_size(self):\n",
    "        return self.size\n",
    "    \n",
    "    def insert(self, index, data):\n",
    "        if index < 0:\n",
    "            index = self.size + index + 1\n",
    "        if index > self.size:\n",
    "            raise IndexError(\"singly linked list index out of range\")\n",
    "        \n",
    "        if index == 0:\n",
    "            self.add_node(data)\n",
    "        else:\n",
    "            curr = self.__getitem__(index)\n",
    "            print(curr.data)\n",
    "            new_node = Node(data, curr, curr.prev_node)\n",
    "            curr.prev_node.next_node = new_node\n",
    "            if curr == None:\n",
    "                self.tail = new_node\n",
    "            else:\n",
    "                curr.prev_node = new_node\n",
    "            self.size += 1\n",
    "\n",
    "    def add_node(self, data):\n",
    "        new_node = Node(data, self.head, None)\n",
    "        if self.head is not None:\n",
    "            self.head.prev_node = new_node\n",
    "        self.head = new_node\n",
    "        if new_node.get_next_node() is None:\n",
    "            self.tail = new_node\n",
    "        self.size += 1\n",
    "       \n",
    "    def print_list(self):\n",
    "        curr = self.head\n",
    "        while curr:\n",
    "            print(curr.data)\n",
    "            curr = curr.get_next_node()\n",
    "            \n",
    "    def __getitem__(self, index):\n",
    "            \n",
    "        if isinstance(index, int):\n",
    "            if index < 0:\n",
    "                index = self.size + index\n",
    "            if index > self.size:\n",
    "                raise IndexError(\"Double linked list index out of range\")\n",
    "            curr = self.head\n",
    "            for _ in range(index):\n",
    "                curr = curr.get_next_node()\n",
    "                \n",
    "            return curr\n",
    "        \n",
    "        elif isinstance(index, slice):\n",
    "            start = self.size + index.start if index.start < 0 else index.start\n",
    "            stop = self.stop + index.stop if index.stop < 0 else index.stop\n",
    "            index = slice(max(start, 0), min(stop, self.size))\n",
    "            print(index)\n",
    "            if index.start > index.stop:\n",
    "                raise ValueError(\"Stop is greater then stars\")\n",
    "\n",
    "            # Создание нового списка:\n",
    "            new_list = DoublyLinkedList()\n",
    "            \n",
    "            curr = self.head\n",
    "            for _ in range(index.start):\n",
    "                curr = curr.get_next_node()\n",
    "            for _ in range(index.stop - index.start):\n",
    "                new_list.add_node(curr.data)\n",
    "                curr = curr.get_next_node()\n",
    "                \n",
    "            return new_list\n",
    "        \n",
    "        else:\n",
    "            raise TypeError(\"list indices must be integers or slices, not str\")"
   ]
  },
  {
   "cell_type": "code",
   "execution_count": 256,
   "metadata": {},
   "outputs": [
    {
     "name": "stdout",
     "output_type": "stream",
     "text": [
      "Inserting\n",
      "[3, -3, 25, 15, 5]\n"
     ]
    }
   ],
   "source": [
    "my_list = DoublyLinkedList()\n",
    "print(\"Inserting\")\n",
    "my_list.add_node(5)\n",
    "my_list.add_node(15)\n",
    "my_list.add_node(25)\n",
    "my_list.add_node(-3)\n",
    "my_list.add_node(3)\n",
    "\n",
    "print(my_list)"
   ]
  },
  {
   "cell_type": "code",
   "execution_count": 257,
   "metadata": {},
   "outputs": [
    {
     "name": "stdout",
     "output_type": "stream",
     "text": [
      "slice(0, 5, None)\n",
      "[5, 15, 25, -3, 3]\n"
     ]
    }
   ],
   "source": [
    "print(my_list[-10:6])"
   ]
  },
  {
   "cell_type": "code",
   "execution_count": 218,
   "metadata": {},
   "outputs": [
    {
     "name": "stdout",
     "output_type": "stream",
     "text": [
      "15\n",
      "[3, -3, 25, 4, 15, 5]\n"
     ]
    }
   ],
   "source": [
    "my_list.insert(3, 4)\n",
    "\n",
    "print(my_list)"
   ]
  },
  {
   "cell_type": "code",
   "execution_count": 192,
   "metadata": {},
   "outputs": [
    {
     "ename": "TypeError",
     "evalue": "list indices must be integers or slices, not str",
     "output_type": "error",
     "traceback": [
      "\u001b[1;31m---------------------------------------------------------------------------\u001b[0m",
      "\u001b[1;31mTypeError\u001b[0m                                 Traceback (most recent call last)",
      "\u001b[1;32m<ipython-input-192-b96e679c5342>\u001b[0m in \u001b[0;36m<module>\u001b[1;34m()\u001b[0m\n\u001b[1;32m----> 1\u001b[1;33m \u001b[0mmy_list\u001b[0m\u001b[1;33m[\u001b[0m\u001b[1;34m'a'\u001b[0m\u001b[1;33m]\u001b[0m\u001b[1;33m\u001b[0m\u001b[0m\n\u001b[0m",
      "\u001b[1;32m<ipython-input-190-aa3a5b5e90e4>\u001b[0m in \u001b[0;36m__getitem__\u001b[1;34m(self, index)\u001b[0m\n\u001b[0;32m    105\u001b[0m \u001b[1;33m\u001b[0m\u001b[0m\n\u001b[0;32m    106\u001b[0m         \u001b[1;32melse\u001b[0m\u001b[1;33m:\u001b[0m\u001b[1;33m\u001b[0m\u001b[0m\n\u001b[1;32m--> 107\u001b[1;33m             \u001b[1;32mraise\u001b[0m \u001b[0mTypeError\u001b[0m\u001b[1;33m(\u001b[0m\u001b[1;34m\"list indices must be integers or slices, not str\"\u001b[0m\u001b[1;33m)\u001b[0m\u001b[1;33m\u001b[0m\u001b[0m\n\u001b[0m",
      "\u001b[1;31mTypeError\u001b[0m: list indices must be integers or slices, not str"
     ]
    }
   ],
   "source": [
    "my_list['a']"
   ]
  },
  {
   "cell_type": "markdown",
   "metadata": {},
   "source": [
    "# Упражнение 3. Элемент списка, срез списка\n",
    "\n",
    "Реализуйте получение значения узла по его индексу и срез списка. Срез списка должен создавать новый список, состоящий из копий соответствующих узлов. Ограничьтесь срезами с шагом 1, сохраняющими порядок элементов. Создавать из объекта класса `DoublyLinkedList` объект встроенного типа Python **запрещается**.<br>  \n",
    "Для получения элемента по индексу и срезов используется метод [`__getitem__()`](https://docs.python.org/3/reference/datamodel.html#object.__getitem__), позволяющий передать аргумент в квадратных скобках.\n",
    "### Пример\n",
    "\n",
    "```python\n",
    "class Sequence:\n",
    "    \"\"\"\n",
    "    Класс, реализующий числовые последовательности. \n",
    "    Доступ к элементу последовательности осуществляется\n",
    "    по его индексу с помощью квадратных скобок.\n",
    "    \"\"\"\n",
    "    def __init__(self, func):\n",
    "        \"\"\"func - функция, принимающая на вход одно число и возвращающая число\"\"\"\n",
    "        self.func = func\n",
    "        \n",
    "    def __getitem__(self, index):\n",
    "        return self.func(index)\n",
    "        \n",
    "        \n",
    "squares = Sequence(lambda x: x**2)\n",
    "print(squares[3])\n",
    "print(squares[5])\n",
    "```\n",
    "В квадратные скобки можно передавать специальные объекты, называемы срезами [`slice`](https://docs.python.org/3/library/functions.html#slice).\n",
    "```python\n",
    "l = [1, 2, 3, 4, 5, 6, 7, 8]\n",
    "sl1 = slice(0, 5)\n",
    "sl2 = slice(10, 0, -2)\n",
    "print(l[sl1])\n",
    "print(l[sl2])\n",
    "```\n",
    "Срез можно создать встроенной функцией `slice()` или привычным способом: с помощью двоеточий в квадратных скобках.\n",
    "```python\n",
    "l = [1, 2, 3, 4, 5, 6, 7, 8]\n",
    "print(l[:5])\n",
    "```\n",
    "У срезов есть три поля `start`, `stop`, `step` и один метод `indices()`.\n",
    "```python\n",
    "sl = slice(-1, 3, 2)\n",
    "print(sl.start)\n",
    "print(sl.stop)\n",
    "print(sl.step)\n",
    "# Метод slice.indices() приимает на вход длину последовательности и\n",
    "# возвращает кортеж из трех элементов (start, stop, step). В отличие\n",
    "# от полей slice.start и slice.stop элементы кортежа всегда положительные.\n",
    "print(sl.indices(20))\n",
    "```\n",
    "Проверку, является ли аргумент `__getitem__()` срезом, можно выполнить с помощью \n",
    "```python\n",
    "isinstance(index, slice)\n",
    "```\n",
    ">Если в квадратные скобки подано число, убедитесь, что оно целое и принадлежит правильному диапазону. В противном случае бросьте исключение `IndexError`."
   ]
  },
  {
   "cell_type": "code",
   "execution_count": 84,
   "metadata": {},
   "outputs": [
    {
     "name": "stdout",
     "output_type": "stream",
     "text": [
      "[-3, 25, 15]\n"
     ]
    }
   ],
   "source": [
    "my_list = DoublyLinkedList()\n",
    "\n",
    "my_list.add_node(5)\n",
    "my_list.add_node(15)\n",
    "my_list.add_node(25)\n",
    "my_list.add_node(-3)\n",
    "my_list.add_node(3)\n",
    "\n",
    "print(my_list[1:3])"
   ]
  },
  {
   "cell_type": "code",
   "execution_count": 87,
   "metadata": {},
   "outputs": [
    {
     "name": "stdout",
     "output_type": "stream",
     "text": [
      "[5, 15, 25, -3, 3]\n"
     ]
    }
   ],
   "source": [
    "print(my_list)"
   ]
  },
  {
   "cell_type": "code",
   "execution_count": 88,
   "metadata": {},
   "outputs": [
    {
     "data": {
      "text/plain": [
       "15"
      ]
     },
     "execution_count": 88,
     "metadata": {},
     "output_type": "execute_result"
    }
   ],
   "source": [
    "my_list[3]"
   ]
  },
  {
   "cell_type": "code",
   "execution_count": null,
   "metadata": {
    "collapsed": true
   },
   "outputs": [],
   "source": []
  },
  {
   "cell_type": "markdown",
   "metadata": {},
   "source": [
    "# Упражнение 4. Очередь на основе списка\n",
    "\n",
    "Реализуйте очередь на основе односвязного списка в виде класса `ListBasedQueue`.\n",
    "\n",
    ">Подсказка: заведите поле `tail` для хранения указателя на конец очереди."
   ]
  },
  {
   "cell_type": "code",
   "execution_count": 259,
   "metadata": {},
   "outputs": [],
   "source": [
    "class Node:\n",
    "    def __init__(self, data, next_node=None):\n",
    "        self.data = data\n",
    "        self.next_node = next_node\n",
    "\n",
    "    def get_data(self):\n",
    "        return self.data\n",
    "\n",
    "    def set_data(self, val):\n",
    "        self.data = val\n",
    "\n",
    "    def get_next_node(self):\n",
    "        return self.next_node"
   ]
  },
  {
   "cell_type": "code",
   "execution_count": 268,
   "metadata": {},
   "outputs": [],
   "source": [
    "class ListBasedQueue:\n",
    "    \n",
    "    def __init__(self):\n",
    "        self.head = None\n",
    "        self.size = 0\n",
    "        self.tail = None\n",
    "        \n",
    "    def __str__(self):\n",
    "        if self.head == None:\n",
    "            return '[]'\n",
    "        list_str = '['\n",
    "        curr = self.tail\n",
    "        while curr:\n",
    "            list_str += str(curr.data) + ', '\n",
    "            curr = curr.get_next_node()\n",
    "        list_str = list_str[:-2] + ']'\n",
    "        return list_str\n",
    "    \n",
    "    def enqueue(self, value):\n",
    "        new_node = Node(value, None)\n",
    "        if self.head is None:\n",
    "            self.head = new_node\n",
    "            self.tail = new_node\n",
    "        else:\n",
    "            self.head.next_node = new_node\n",
    "            self.head = new_node\n",
    "        self.size += 1\n",
    "        \n",
    "    def dequeue(self):\n",
    "        if self.size < 1:\n",
    "            raise Exception\n",
    "        elif self.size == 1:\n",
    "            data = self.head.data\n",
    "            self.head = None\n",
    "            self.tail = None\n",
    "            self.size = 0\n",
    "        else:\n",
    "            data = self.tail.data\n",
    "            self.tail = self.tail.next_node\n",
    "            self.size -= 1\n",
    "        return data"
   ]
  },
  {
   "cell_type": "code",
   "execution_count": 269,
   "metadata": {},
   "outputs": [],
   "source": [
    "A = ListBasedQueue()\n",
    "A.enqueue('1')\n",
    "A.enqueue('hi')\n",
    "A.enqueue(23)"
   ]
  },
  {
   "cell_type": "code",
   "execution_count": 272,
   "metadata": {},
   "outputs": [
    {
     "data": {
      "text/plain": [
       "'hi'"
      ]
     },
     "execution_count": 272,
     "metadata": {},
     "output_type": "execute_result"
    }
   ],
   "source": [
    "A.dequeue()"
   ]
  },
  {
   "cell_type": "code",
   "execution_count": 273,
   "metadata": {},
   "outputs": [
    {
     "name": "stdout",
     "output_type": "stream",
     "text": [
      "[23]\n"
     ]
    }
   ],
   "source": [
    "print(A)"
   ]
  },
  {
   "cell_type": "code",
   "execution_count": 276,
   "metadata": {},
   "outputs": [
    {
     "name": "stdout",
     "output_type": "stream",
     "text": [
      "[0, 1, 2, 3, 4, 5, 6, 7, 8, 9]\n"
     ]
    }
   ],
   "source": [
    "q = ListBasedQueue()\n",
    "for i in range(10):\n",
    "    q.enqueue(i)\n",
    "    \n",
    "print(q)"
   ]
  },
  {
   "cell_type": "code",
   "execution_count": 277,
   "metadata": {},
   "outputs": [
    {
     "name": "stdout",
     "output_type": "stream",
     "text": [
      "0\n",
      "1\n",
      "2\n",
      "3\n",
      "4\n",
      "5\n",
      "6\n",
      "7\n",
      "8\n",
      "9\n"
     ]
    }
   ],
   "source": [
    "for _ in range(10):\n",
    "    print(q.dequeue())"
   ]
  },
  {
   "cell_type": "code",
   "execution_count": null,
   "metadata": {},
   "outputs": [],
   "source": []
  }
 ],
 "metadata": {
  "kernelspec": {
   "display_name": "Python 3",
   "language": "python",
   "name": "python3"
  },
  "language_info": {
   "codemirror_mode": {
    "name": "ipython",
    "version": 3
   },
   "file_extension": ".py",
   "mimetype": "text/x-python",
   "name": "python",
   "nbconvert_exporter": "python",
   "pygments_lexer": "ipython3",
   "version": "3.6.5"
  }
 },
 "nbformat": 4,
 "nbformat_minor": 2
}

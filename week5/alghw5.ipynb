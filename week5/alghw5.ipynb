{
 "cells": [
  {
   "cell_type": "markdown",
   "metadata": {},
   "source": [
    "# Упражнение 1. Удаление элемента из односвязного списка\n",
    "\n",
    "Реализуйте метод [`__delitem__()`](https://docs.python.org/3/reference/datamodel.html#object.__delitem__) для класса `SinglyLinkedList` из примера 1 лабораторной работы alg5.ipynb. Метод должен удалять элементы списка по индексу.\n",
    "```python\n",
    "del my_list[idx]\n",
    "```\n",
    "Должна быть возможность работы с отрицательными индексами, и встроена проверка значения индекса. Если индекс выходит за границы списка, кидайте исключение `IndexError`."
   ]
  },
  {
   "cell_type": "code",
   "execution_count": 19,
   "metadata": {},
   "outputs": [
    {
     "name": "stdout",
     "output_type": "stream",
     "text": [
      "Inserting\n",
      "Printing\n",
      "25\n",
      "15\n",
      "5\n",
      "Size\n",
      "3\n"
     ]
    }
   ],
   "source": [
    "class Node:\n",
    "    def __init__(self, data, next_node=None):\n",
    "        self.data = data\n",
    "        self.next_node = next_node\n",
    "\n",
    "    def get_data(self):\n",
    "        return self.data\n",
    "\n",
    "    def set_data(self, val):\n",
    "        self.data = val\n",
    "\n",
    "    def get_next_node(self):\n",
    "        return self.next_node\n",
    "\n",
    "\n",
    "class SinglyLinkedList:\n",
    "    def __init__(self):\n",
    "        self.head = None\n",
    "        self.size = 0\n",
    "        \n",
    "    def __str__(self):\n",
    "        if self.head == None:\n",
    "            return '[]'\n",
    "        list_str = '['\n",
    "        curr = self.head\n",
    "        while curr:\n",
    "            list_str += str(curr.data) + ', '\n",
    "            curr = curr.get_next_node()\n",
    "        list_str = list_str[:-2] + ']'\n",
    "        return list_str\n",
    "    \n",
    "    def  __delitem__(self, index):\n",
    "        if index < 0:\n",
    "            raise IndexError(\"singly linked list index out of range\")\n",
    "        elif index == 0:\n",
    "            curr = self.head\n",
    "            self.head = self.head.next_node\n",
    "            self.size -= 1\n",
    "            return curr\n",
    "        else:\n",
    "            prev = self.head\n",
    "            try:\n",
    "                next_node = prev.get_next_node().get_next_node()\n",
    "            except AttributeError:\n",
    "                raise IndexError(\"singly linked list index out of range\")\n",
    "            for _ in range(index - 1):\n",
    "                try:\n",
    "                    prev = prev.get_next_node()\n",
    "                    next_node = next_node.get_next_node()\n",
    "                except AttributeError:\n",
    "                    raise IndexError(\"singly linked list index out of range\")\n",
    "            curr = prev.get_next_node()\n",
    "            prev.next_node = next_node\n",
    "            self.size -= 1\n",
    "            return curr\n",
    "\n",
    "    def get_size(self):\n",
    "        return self.size\n",
    "    \n",
    "    def insert(self, index, data):\n",
    "        if index <= 0:\n",
    "            self.add_node(data)\n",
    "        else:\n",
    "            prev = self.head\n",
    "            curr = prev.get_next_node()\n",
    "            for _ in range(index - 1):\n",
    "                try:\n",
    "                    prev = prev.get_next_node()\n",
    "                    curr = curr.get_next_node()\n",
    "                except AttributeError:\n",
    "                    raise IndexError(\"singly linked list index out of range\")\n",
    "            new_node = Node(data, curr)\n",
    "            prev.next_node = new_node\n",
    "            self.size += 1\n",
    "\n",
    "    def add_node(self, data):\n",
    "        new_node = Node(data, self.head)\n",
    "        self.head = new_node\n",
    "        self.size += 1\n",
    "       \n",
    "    def print_list(self):\n",
    "        curr = self.head\n",
    "        while curr:\n",
    "            print(curr.data)\n",
    "            curr = curr.get_next_node()\n",
    "\n",
    "\n",
    "my_list = SinglyLinkedList()\n",
    "print(\"Inserting\")\n",
    "my_list.add_node(5)\n",
    "my_list.add_node(15)\n",
    "my_list.add_node(25)\n",
    "print(\"Printing\")\n",
    "my_list.print_list()\n",
    "print(\"Size\")\n",
    "print(my_list.get_size())"
   ]
  },
  {
   "cell_type": "code",
   "execution_count": 20,
   "metadata": {},
   "outputs": [
    {
     "name": "stdout",
     "output_type": "stream",
     "text": [
      "[25, 15, 5]\n"
     ]
    }
   ],
   "source": [
    "print(my_list)"
   ]
  },
  {
   "cell_type": "code",
   "execution_count": 21,
   "metadata": {},
   "outputs": [],
   "source": [
    "del my_list[1]\n",
    "\n",
    "# Почему не возвращается значение?"
   ]
  },
  {
   "cell_type": "markdown",
   "metadata": {},
   "source": [
    "# Упражнение 2. Двусвязный список\n",
    "\n",
    "Реализуйте двусвязный список в виде класса `DoublyLinkedList`. У двусвязного списка, кроме поля `head`, должно быть еще поле `tail`, указывающее на последний элемент списка. "
   ]
  },
  {
   "cell_type": "code",
   "execution_count": 22,
   "metadata": {},
   "outputs": [],
   "source": [
    "class Node:\n",
    "    def __init__(self, data, next_node=None, prev_node=None):\n",
    "        self.data = data\n",
    "        self.next_node = next_node\n",
    "        self.prev_node = prev_node\n",
    "\n",
    "    def get_data(self):\n",
    "        return self.data\n",
    "\n",
    "    def set_data(self, val):\n",
    "        self.data = val\n",
    "\n",
    "    def get_next_node(self):\n",
    "        return self.next_node\n",
    "    \n",
    "    def get_prev_node(self):\n",
    "        return self.prev_node"
   ]
  },
  {
   "cell_type": "code",
   "execution_count": 82,
   "metadata": {},
   "outputs": [],
   "source": [
    "class DoublyLinkedList:\n",
    "    def __init__(self):\n",
    "        self.head = None\n",
    "        self.tail = None\n",
    "        self.size = 0\n",
    "        \n",
    "    def __str__(self):\n",
    "        if self.head == None:\n",
    "            return '[]'\n",
    "        list_str = ']'\n",
    "        curr = self.head\n",
    "        while curr:\n",
    "            list_str = ', ' + str(curr.data) + list_str\n",
    "            curr = curr.get_next_node()\n",
    "        list_str = '[' + list_str[2:]\n",
    "        return list_str\n",
    "    \n",
    "    def  __delitem__(self, index):\n",
    "        if index < 0:\n",
    "            raise IndexError(\"DoublyLinkedList index out of range\")\n",
    "        elif index == 0:\n",
    "            curr = self.head\n",
    "            self.head = self.head.next_node\n",
    "            self.head.prev_node = None\n",
    "            self.size -= 1\n",
    "            return curr\n",
    "        else:\n",
    "            prev = self.head\n",
    "            try:\n",
    "                next_node = prev.get_next_node().get_next_node()\n",
    "            except AttributeError:\n",
    "                raise IndexError(\"DoublyLinkedList index out of range\")\n",
    "            for _ in range(index - 1):\n",
    "                try:\n",
    "                    prev = prev.get_next_node()\n",
    "                    next_node = next_node.get_next_node()\n",
    "                except AttributeError:\n",
    "                    raise IndexError(\"DoublyLinkedList index out of range\")\n",
    "            curr = prev.get_next_node()\n",
    "            prev.next_node = next_node\n",
    "            next_node.prev_node = prev\n",
    "            self.size -= 1\n",
    "            return curr\n",
    "\n",
    "    def get_size(self):\n",
    "        return self.size\n",
    "    \n",
    "    def insert(self, index, data):\n",
    "        if index <= 0:\n",
    "            self.add_node(data)\n",
    "        else:\n",
    "            prev = self.head\n",
    "            curr = prev.get_next_node()\n",
    "            for _ in range(index - 1):\n",
    "                try:\n",
    "                    prev = prev.get_next_node()\n",
    "                    curr = curr.get_next_node()\n",
    "                except AttributeError:\n",
    "                    raise IndexError(\"DoublyLinkedList index out of range\")\n",
    "            new_node = Node(data, curr, prev)\n",
    "            prev.next_node = new_node\n",
    "            if curr == None:\n",
    "                self.tail = new_node\n",
    "            else:\n",
    "                curr.prev_node = new_node\n",
    "            self.size += 1\n",
    "\n",
    "    def add_node(self, data):\n",
    "        new_node = Node(data, self.head, None)\n",
    "        self.head = new_node\n",
    "        if new_node.get_next_node() == None:\n",
    "            self.tail = new_node\n",
    "        self.size += 1\n",
    "       \n",
    "    def print_list(self):\n",
    "        curr = self.head\n",
    "        while curr:\n",
    "            print(curr.data)\n",
    "            curr = curr.get_next_node()\n",
    "            \n",
    "    def __getitem__(self, index):\n",
    "        \n",
    "        # Работает для положительных индексов\n",
    "        if isinstance(index, int):\n",
    "            if index < 0 or index >= self.size:\n",
    "                raise IndexError(\"Double linked list index out of range\")\n",
    "            curr = self.head\n",
    "            for _ in range(index):\n",
    "                curr = curr.get_next_node()\n",
    "                \n",
    "            return curr.data\n",
    "        \n",
    "        elif isinstance(index, slice):\n",
    "            if index.start < 0 or index.stop >= self.size or index.start > index.stop:\n",
    "                raise IndexError(\"Double linked list index out of range\")\n",
    "                \n",
    "            # Создание нового списка:\n",
    "            new_list = DoublyLinkedList()\n",
    "            \n",
    "            curr = self.head\n",
    "            for _ in range(index.start - 1):\n",
    "                curr = curr.get_next_node()\n",
    "            for _ in range(index.stop):\n",
    "                curr = curr.get_next_node()\n",
    "                new_list.add_node(curr.data)\n",
    "                \n",
    "            return new_list\n",
    "        \n",
    "        else:\n",
    "            raise IndexError(\"Index not an int or slice\")"
   ]
  },
  {
   "cell_type": "code",
   "execution_count": 83,
   "metadata": {},
   "outputs": [
    {
     "name": "stdout",
     "output_type": "stream",
     "text": [
      "Inserting\n",
      "[5, 15, 25, -3, 3]\n"
     ]
    }
   ],
   "source": [
    "my_list = DoublyLinkedList()\n",
    "print(\"Inserting\")\n",
    "my_list.add_node(5)\n",
    "my_list.add_node(15)\n",
    "my_list.add_node(25)\n",
    "my_list.add_node(-3)\n",
    "my_list.add_node(3)\n",
    "\n",
    "print(my_list)"
   ]
  },
  {
   "cell_type": "code",
   "execution_count": 72,
   "metadata": {},
   "outputs": [
    {
     "data": {
      "text/plain": [
       "'2'"
      ]
     },
     "execution_count": 72,
     "metadata": {},
     "output_type": "execute_result"
    }
   ],
   "source": [
    "str(25)[0]"
   ]
  },
  {
   "cell_type": "code",
   "execution_count": 124,
   "metadata": {},
   "outputs": [
    {
     "name": "stdout",
     "output_type": "stream",
     "text": [
      "[25, 15, 5, 4]\n"
     ]
    }
   ],
   "source": [
    "my_list.insert(3, 4)\n",
    "print(my_list)"
   ]
  },
  {
   "cell_type": "code",
   "execution_count": 59,
   "metadata": {},
   "outputs": [
    {
     "name": "stdout",
     "output_type": "stream",
     "text": [
      "[1, 2, 3, 4, 5]\n",
      "[8, 6, 4, 2]\n"
     ]
    }
   ],
   "source": [
    "l = [1, 2, 3, 4, 5, 6, 7, 8]\n",
    "sl1 = slice(0, 5)\n",
    "sl2 = slice(10, 0, -2)\n",
    "print(l[sl1])\n",
    "print(l[sl2])"
   ]
  },
  {
   "cell_type": "markdown",
   "metadata": {},
   "source": [
    "# Упражнение 3. Элемент списка, срез списка\n",
    "\n",
    "Реализуйте получение значения узла по его индексу и срез списка. Срез списка должен создавать новый список, состоящий из копий соответствующих узлов. Ограничьтесь срезами с шагом 1, сохраняющими порядок элементов. Создавать из объекта класса `DoublyLinkedList` объект встроенного типа Python **запрещается**.<br>  \n",
    "Для получения элемента по индексу и срезов используется метод [`__getitem__()`](https://docs.python.org/3/reference/datamodel.html#object.__getitem__), позволяющий передать аргумент в квадратных скобках.\n",
    "### Пример\n",
    "\n",
    "```python\n",
    "class Sequence:\n",
    "    \"\"\"\n",
    "    Класс, реализующий числовые последовательности. \n",
    "    Доступ к элементу последовательности осуществляется\n",
    "    по его индексу с помощью квадратных скобок.\n",
    "    \"\"\"\n",
    "    def __init__(self, func):\n",
    "        \"\"\"func - функция, принимающая на вход одно число и возвращающая число\"\"\"\n",
    "        self.func = func\n",
    "        \n",
    "    def __getitem__(self, index):\n",
    "        return self.func(index)\n",
    "        \n",
    "        \n",
    "squares = Sequence(lambda x: x**2)\n",
    "print(squares[3])\n",
    "print(squares[5])\n",
    "```\n",
    "В квадратные скобки можно передавать специальные объекты, называемы срезами [`slice`](https://docs.python.org/3/library/functions.html#slice).\n",
    "```python\n",
    "l = [1, 2, 3, 4, 5, 6, 7, 8]\n",
    "sl1 = slice(0, 5)\n",
    "sl2 = slice(10, 0, -2)\n",
    "print(l[sl1])\n",
    "print(l[sl2])\n",
    "```\n",
    "Срез можно создать встроенной функцией `slice()` или привычным способом: с помощью двоеточий в квадратных скобках.\n",
    "```python\n",
    "l = [1, 2, 3, 4, 5, 6, 7, 8]\n",
    "print(l[:5])\n",
    "```\n",
    "У срезов есть три поля `start`, `stop`, `step` и один метод `indices()`.\n",
    "```python\n",
    "sl = slice(-1, 3, 2)\n",
    "print(sl.start)\n",
    "print(sl.stop)\n",
    "print(sl.step)\n",
    "# Метод slice.indices() приимает на вход длину последовательности и\n",
    "# возвращает кортеж из трех элементов (start, stop, step). В отличие\n",
    "# от полей slice.start и slice.stop элементы кортежа всегда положительные.\n",
    "print(sl.indices(20))\n",
    "```\n",
    "Проверку, является ли аргумент `__getitem__()` срезом, можно выполнить с помощью \n",
    "```python\n",
    "isinstance(index, slice)\n",
    "```\n",
    ">Если в квадратные скобки подано число, убедитесь, что оно целое и принадлежит правильному диапазону. В противном случае бросьте исключение `IndexError`."
   ]
  },
  {
   "cell_type": "code",
   "execution_count": 84,
   "metadata": {},
   "outputs": [
    {
     "name": "stdout",
     "output_type": "stream",
     "text": [
      "[-3, 25, 15]\n"
     ]
    }
   ],
   "source": [
    "my_list = DoublyLinkedList()\n",
    "\n",
    "my_list.add_node(5)\n",
    "my_list.add_node(15)\n",
    "my_list.add_node(25)\n",
    "my_list.add_node(-3)\n",
    "my_list.add_node(3)\n",
    "\n",
    "print(my_list[1:3])"
   ]
  },
  {
   "cell_type": "code",
   "execution_count": 87,
   "metadata": {},
   "outputs": [
    {
     "name": "stdout",
     "output_type": "stream",
     "text": [
      "[5, 15, 25, -3, 3]\n"
     ]
    }
   ],
   "source": [
    "print(my_list)"
   ]
  },
  {
   "cell_type": "code",
   "execution_count": 88,
   "metadata": {},
   "outputs": [
    {
     "data": {
      "text/plain": [
       "15"
      ]
     },
     "execution_count": 88,
     "metadata": {},
     "output_type": "execute_result"
    }
   ],
   "source": [
    "my_list[3]"
   ]
  },
  {
   "cell_type": "code",
   "execution_count": null,
   "metadata": {
    "collapsed": true
   },
   "outputs": [],
   "source": []
  },
  {
   "cell_type": "markdown",
   "metadata": {},
   "source": [
    "# Упражнение 4. Очередь на основе списка\n",
    "\n",
    "Реализуйте очередь на основе односвязного списка в виде класса `ListBasedQueue`.\n",
    "\n",
    ">Подсказка: заведите поле `tail` для хранения указателя на конец очереди."
   ]
  },
  {
   "cell_type": "code",
   "execution_count": 1,
   "metadata": {},
   "outputs": [],
   "source": [
    "class Node:\n",
    "    def __init__(self, data, next_node=None):\n",
    "        self.data = data\n",
    "        self.next_node = next_node\n",
    "\n",
    "    def get_data(self):\n",
    "        return self.data\n",
    "\n",
    "    def set_data(self, val):\n",
    "        self.data = val\n",
    "\n",
    "    def get_next_node(self):\n",
    "        return self.next_node"
   ]
  },
  {
   "cell_type": "code",
   "execution_count": 25,
   "metadata": {},
   "outputs": [],
   "source": [
    "class ListBasedQueue:\n",
    "    \n",
    "    def __init__(self):\n",
    "        self.head = None\n",
    "        self.size = 0\n",
    "        self.tail = None\n",
    "        \n",
    "    def __str__(self):\n",
    "        if self.head == None:\n",
    "            return '[]'\n",
    "        list_str = '['\n",
    "        curr = self.tail\n",
    "        while curr:\n",
    "            list_str += str(curr.data) + ', '\n",
    "            curr = curr.get_next_node()\n",
    "        list_str = list_str[:-2] + ']'\n",
    "        return list_str\n",
    "    \n",
    "    def enqueue(self, value):\n",
    "        new_node = Node(value, None)\n",
    "        if self.head is None:\n",
    "            self.head = new_node\n",
    "            self.tail = new_node\n",
    "        else:\n",
    "            self.head.next_node = new_node\n",
    "            self.head = new_node\n",
    "        self.size += 1\n",
    "        \n",
    "    def dequeue(self):\n",
    "        if self.size < 1:\n",
    "            raise Exception\n",
    "        elif self.size == 1:\n",
    "            self.head = None\n",
    "            self.tail = None\n",
    "            self.size = 0\n",
    "        else:\n",
    "            self.tail = self.tail.next_node\n",
    "            self.size -= 1"
   ]
  },
  {
   "cell_type": "code",
   "execution_count": 28,
   "metadata": {},
   "outputs": [],
   "source": [
    "A = ListBasedQueue()\n",
    "A.enqueue('1')\n",
    "A.enqueue('hi')\n",
    "A.enqueue(23)"
   ]
  },
  {
   "cell_type": "code",
   "execution_count": 32,
   "metadata": {},
   "outputs": [],
   "source": [
    "A.dequeue()"
   ]
  },
  {
   "cell_type": "code",
   "execution_count": 33,
   "metadata": {},
   "outputs": [
    {
     "name": "stdout",
     "output_type": "stream",
     "text": [
      "[23]\n"
     ]
    }
   ],
   "source": [
    "print(A)"
   ]
  },
  {
   "cell_type": "code",
   "execution_count": null,
   "metadata": {},
   "outputs": [],
   "source": []
  }
 ],
 "metadata": {
  "kernelspec": {
   "display_name": "Python 3",
   "language": "python",
   "name": "python3"
  },
  "language_info": {
   "codemirror_mode": {
    "name": "ipython",
    "version": 3
   },
   "file_extension": ".py",
   "mimetype": "text/x-python",
   "name": "python",
   "nbconvert_exporter": "python",
   "pygments_lexer": "ipython3",
   "version": "3.6.5"
  }
 },
 "nbformat": 4,
 "nbformat_minor": 2
}

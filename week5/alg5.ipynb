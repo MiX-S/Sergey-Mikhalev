{
 "cells": [
  {
   "cell_type": "markdown",
   "metadata": {},
   "source": [
    "# <font color=blue>Линейные структуры данных: список, очередь, стек</font>\n",
    "\n",
    "## <font color=green>Списки</font>\n",
    "\n",
    "**Односвязный список** - структура данных, состоящая из узлов, каждый из который содержит собственно данные и указатель на следующий элемент в списке. \n",
    "\n",
    "**Двусвязный список** - структура данных, состоящая из узлов, каждый из который содержит собственно данные и указатели на предыдущий и следующий элементы в списке. \n",
    "\n",
    "Список и массив схожи в том, что и тот и другой являются линейными структурами данных, однако есть и различия.\n",
    "\n",
    "1. Массив - располагается в непрерывном участке памяти, а список может занимать много разрозненных участков.\n",
    "\n",
    "2. Элементы массива **однотипны** (например, все являются целыми числами), а элементы списка могут относится к разным типам данных, например, нулевой элемент может числом, а первый - строкой.\n",
    "\n",
    "3. Элементы массива занимают свой участок памяти по порядку, то есть в памяти записан нулевой элемент, вплотную за ним первый и так далее. Порядок элементов списка в общем случае не связан с тем, как они расположены в памяти.<br><br>\n",
    "**Пример** реализации перебора элементов массива на языке C, которая показывает, что элементы массива расположены в памяти друг за другом. В примере с кодом внизу создается и печатается массив целых чисел из 10 элементов. Затем в переменную `pointer` помещается указатель на начало массива. Элементы массива печатаются по указателю, который перед печатью нового элемента указатель смещается на 4 байта (объем памяти, занимаемый переменной типа `int`) вправо.\n",
    "```C\n",
    "#include <stdio.h>\n",
    "int main()\n",
    "{\n",
    "     int array[10] = {19, 2, -5, 8, 0, 7, -4, -11, 1, 10};\n",
    "     int elem_size = sizeof(array[0]);  // element size is 4\n",
    "     // Pointer to a place in memory where an array element is stored.\n",
    "     // Pointer is initialized with position of array beginning.\n",
    "     // The reason pointer type is 'void' is that we need pointer to point at individual bytes. \n",
    "     void *pointer = array;  \n",
    "     for(int i=0;i<10;i++) {\n",
    "         // Operator '(int*)' makes pointer interpret memory as int value. \n",
    "         // First '*' operator returns value stored where pointer points.\n",
    "         printf(\"%d\\n\", *(int*)pointer);\n",
    "         // Move pointer 4 bytes to the left\n",
    "         pointer += elem_size;  \n",
    "     }\n",
    "     return 0;\n",
    "}\n",
    "```\n",
    " Чтобы запустить пример, поместите код в текстовый файл `array.c`, а затем выполните команды<br>\n",
    " **UNIX**:\n",
    " ```bash\n",
    " gcc -o array array.c  # компиляция\n",
    " ./array  # запуск\n",
    "  ```\n",
    " **Windows**:\n",
    "   - Откройте командную строку разработчика Visual Studio. Для в меню пуск выполните поиск \"developer command prompt\". Подробно [здесь](https://docs.microsoft.com/ru-ru/cpp/build/walkthrough-compile-a-c-program-on-the-command-line?view=vs-2017).\n",
    "   - Проверьте работает ли у Вас компилятор\n",
    "   ```bash\n",
    "   cl\n",
    "   ```\n",
    "   - Скомпилируйте программу\n",
    "   ```bash\n",
    "   cl array.c\n",
    "   ```\n",
    "   - Посмотрите, что у Вас получилось\n",
    "   ```bash\n",
    "   dir\n",
    "   ```\n",
    "   - Запустите программу\n",
    "   ```bash\n",
    "   array\n",
    "   ```\n",
    "   \n",
    "4. При работе с массивом сразу понятно, где находится его элемент с определенным номером, так как элементы следуют подряд друг за другом и все одинакового размера. Для того, чтобы найти  элемент списка по его номеру необходимо пройти по всем указателям в узлах списка, начиная с первого.\n",
    "\n",
    "5. Вставка или удаление элемента массива с индексом $i$ - трудоемкие операции, так как требуется сдвинуть соответственно вправо или влево все элементы с индексом, превышающем $i$. Вставка или удаление элемента из списка выполняются быстрее, так как, достаточно выделить память под новый элемент и перенаправить указатель у предыдущего элемента (если список двусвязный, потребуется изменение указателя следующего элемента).\n",
    "\n",
    "### Пример 1. Односвязный список"
   ]
  },
  {
   "cell_type": "code",
   "execution_count": 1,
   "metadata": {},
   "outputs": [
    {
     "name": "stdout",
     "output_type": "stream",
     "text": [
      "Inserting\n",
      "Printing\n",
      "25\n",
      "15\n",
      "5\n",
      "Size\n",
      "3\n"
     ]
    }
   ],
   "source": [
    "class Node:\n",
    "    def __init__(self, data, next_node=None):\n",
    "        self.data = data\n",
    "        self.next_node = next_node\n",
    "\n",
    "    def get_data(self):\n",
    "        return self.data\n",
    "\n",
    "    def set_data(self, val):\n",
    "        self.data = val\n",
    "\n",
    "    def get_next_node(self):\n",
    "        return self.next_node\n",
    "\n",
    "\n",
    "class SinglyLinkedList:\n",
    "    def __init__(self):\n",
    "        self.head = None\n",
    "        self.size = 0\n",
    "        \n",
    "    def __str__(self):\n",
    "        list_str = '['\n",
    "        curr = self.head\n",
    "        while curr:\n",
    "            list_str += str(curr.data) + ', '\n",
    "            curr = curr.get_next_node()\n",
    "        list_str = list_str[:-2] + ']'\n",
    "        return list_str\n",
    "\n",
    "    def get_size(self):\n",
    "        return self.size\n",
    "    \n",
    "    def insert(self, index, data):\n",
    "        if index <= 0:\n",
    "            self.add_node(data)\n",
    "        else:\n",
    "            curr = self.head\n",
    "            next_node = curr.get_next_node()\n",
    "            for _ in range(index - 1):\n",
    "                try:\n",
    "                    curr = curr.get_next_node()\n",
    "                    next_node = next_node.get_next_node()\n",
    "                except AttributeError:\n",
    "                    raise IndexError(\"singly linked list index out of range\")\n",
    "            new_node = Node(data, next_node)\n",
    "            curr.next_node = new_node\n",
    "            self.size += 1\n",
    "\n",
    "    def add_node(self, data):\n",
    "        new_node = Node(data, self.head)\n",
    "        self.head = new_node\n",
    "        self.size += 1\n",
    "       \n",
    "    def print_list(self):\n",
    "        curr = self.head\n",
    "        while curr:\n",
    "            print(curr.data)\n",
    "            curr = curr.get_next_node()\n",
    "\n",
    "\n",
    "my_list = SinglyLinkedList()\n",
    "print(\"Inserting\")\n",
    "my_list.add_node(5)\n",
    "my_list.add_node(15)\n",
    "my_list.add_node(25)\n",
    "print(\"Printing\")\n",
    "my_list.print_list()\n",
    "print(\"Size\")\n",
    "print(my_list.get_size())"
   ]
  },
  {
   "cell_type": "code",
   "execution_count": 2,
   "metadata": {},
   "outputs": [
    {
     "name": "stdout",
     "output_type": "stream",
     "text": [
      "[25, 15, 5]\n"
     ]
    }
   ],
   "source": [
    "print(my_list)"
   ]
  },
  {
   "cell_type": "code",
   "execution_count": 3,
   "metadata": {},
   "outputs": [
    {
     "name": "stdout",
     "output_type": "stream",
     "text": [
      "[25, 15, 5, 3]\n"
     ]
    }
   ],
   "source": [
    "my_list.insert(3, 3)\n",
    "print(my_list)"
   ]
  },
  {
   "cell_type": "markdown",
   "metadata": {},
   "source": [
    "### Упражнение 1. Односвязный список\n",
    "\n",
    "Добавьте в класс `SinglyLinkedList` методы `__str__()` и `insert()`.  Метод `__str__()` должен представлять односвязный список так, как объекты встроенного типа `list`: значения элементов перечисляются через запятую и пробел в квадратных скобках. Метод `insert()` должен вставлять элемент в список и принимать на вход два аргумента: индекс нового элемента и его значение (`data`). Если индекс слишком большой, метод должен бросить исключение `IndexError`:\n",
    "```python\n",
    "raise IndexError(\"singly linked list index out of range\")\n",
    "```\n",
    "***\n",
    "##  <font color=green>Очередь</font>\n",
    "\n",
    "**Очередь** - это структура данных с порядком доступа \"первый вошел - первый вышел\" (FIFO - first in, first out). С очередью можно выполнять две операции: `enqueue` - добавление элемента в очередь и `dequeue` - извлечение элемента из очереди.\n",
    "\n",
    "### Пример 2. Реализация очереди на основе массива\n",
    "\n",
    "Очередь может быть реализована на основе массива, списка или стэка. В случае реализации очереди на основе массива, задаются два индекса `start` и `end`, указывающие соответственно на элемент массива, куда будет добавлен элемент очереди, и элемент который будет извлечен из очереди."
   ]
  },
  {
   "cell_type": "code",
   "execution_count": 4,
   "metadata": {},
   "outputs": [
    {
     "name": "stdout",
     "output_type": "stream",
     "text": [
      "0 3\n"
     ]
    }
   ],
   "source": [
    "class Empty(Exception):\n",
    "    def __init__(self, message):\n",
    "        super().__init__(message)\n",
    "\n",
    "\n",
    "class Full(Exception):\n",
    "    def __init__(self, message):\n",
    "        super().__init__(message)\n",
    "\n",
    "\n",
    "class ArrayBasedQueue:\n",
    "    def __init__(self, max_size=10**3):\n",
    "        self.max_size = max_size\n",
    "        self.values = [0] * max_size\n",
    "        self.start, self.end = max_size - 1, max_size - 1\n",
    "        self.size = 0\n",
    "    \n",
    "    def enqueue(self, value):\n",
    "        if self.size >= self.max_size:\n",
    "            raise Full(\"can not add element {} because queue is full\".format(value))\n",
    "        self.values[self.end] = value\n",
    "        self.end -= 1\n",
    "        self.end %= self.max_size\n",
    "        self.size += 1\n",
    "        \n",
    "    def dequeue(self):\n",
    "        # Реализация без уменьшения self.size (без сдвига елементов в массиве self.values)\n",
    "        value = self.values[self.start]\n",
    "        self.start -= 1\n",
    "        return value\n",
    "            \n",
    "    def __getitem__(self, idx): \n",
    "        \"\"\"Method is used to get zeroth and last elements\"\"\"\n",
    "        if idx not in {-1, 0}:\n",
    "            raise IndexError(\"index {} of queue element was used: only 0 and -1 are allowed\".format(idx))\n",
    "        return self.values[idx]\n",
    "\n",
    "\n",
    "q = ArrayBasedQueue(max_size=15)\n",
    "q.enqueue(3)\n",
    "q.enqueue(-2)\n",
    "q.enqueue(4)\n",
    "print(q[0], q[-1])\n",
    "for c in 'abcdefghij':\n",
    "    q.enqueue(c)"
   ]
  },
  {
   "cell_type": "markdown",
   "metadata": {},
   "source": [
    "### Упражнение 2. Очередь\n",
    "\n",
    "Допишите метод `dequeue()` в класс `ArrayBasedQueue`."
   ]
  },
  {
   "cell_type": "code",
   "execution_count": 5,
   "metadata": {},
   "outputs": [
    {
     "data": {
      "text/plain": [
       "3"
      ]
     },
     "execution_count": 5,
     "metadata": {},
     "output_type": "execute_result"
    }
   ],
   "source": [
    "q.dequeue()"
   ]
  },
  {
   "cell_type": "code",
   "execution_count": null,
   "metadata": {},
   "outputs": [],
   "source": []
  }
 ],
 "metadata": {
  "kernelspec": {
   "display_name": "Python 3",
   "language": "python",
   "name": "python3"
  },
  "language_info": {
   "codemirror_mode": {
    "name": "ipython",
    "version": 3
   },
   "file_extension": ".py",
   "mimetype": "text/x-python",
   "name": "python",
   "nbconvert_exporter": "python",
   "pygments_lexer": "ipython3",
   "version": "3.6.5"
  }
 },
 "nbformat": 4,
 "nbformat_minor": 2
}

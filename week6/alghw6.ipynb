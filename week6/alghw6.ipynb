{
 "cells": [
  {
   "cell_type": "markdown",
   "metadata": {},
   "source": [
    "# Упражнение 1. Хорошие слова\n",
    "\n",
    "Назовём слово хорошим, если выполнено одно из условий.\n",
    "\n",
    "- Оно равно слову «0».\n",
    "\n",
    "- Оно начинается на символ «1», а затем следует хорошее слово.\n",
    "\n",
    "- Оно начинается на символ «2», а затем следует два записанных друг за другом хороших слова.\n",
    "\n",
    "- Оно начинается на символ «3», а затем следует три записанных друг за другом хороших слова.\n",
    "\n",
    "Примеры хороших слов: `10`, `200`, `3000`, `21010`, `2010`, `3020010`, `11111110`, `30011111110`.\n",
    "\n",
    "Напишите функцию, возвращающую `True`, если слово хорошее, и `False`, если не хорошее.\n",
    "\n",
    "Решите задачу двумя способами: с помощью рекурсии и с помощью стека."
   ]
  },
  {
   "cell_type": "markdown",
   "metadata": {},
   "source": [
    "#### 1. Решение с помощью рекурсии"
   ]
  },
  {
   "cell_type": "code",
   "execution_count": 24,
   "metadata": {},
   "outputs": [],
   "source": [
    "# num - число хороших слов, которые должны быть в слове word\n",
    "def word_is_good(word, num):\n",
    "    \n",
    "    if num == 0 and len(word) == 0:\n",
    "        return True\n",
    "    elif num == 0 or len(word) == 0:\n",
    "        return False\n",
    "    else:\n",
    "        return word_is_good(word[1:], num - 1 + int(word[0]))"
   ]
  },
  {
   "cell_type": "code",
   "execution_count": 40,
   "metadata": {},
   "outputs": [
    {
     "data": {
      "text/plain": [
       "True"
      ]
     },
     "execution_count": 40,
     "metadata": {},
     "output_type": "execute_result"
    }
   ],
   "source": [
    "word = '30011111110'\n",
    "num = int(word[0])\n",
    "\n",
    "word_is_good(word[1:], num)"
   ]
  },
  {
   "cell_type": "markdown",
   "metadata": {},
   "source": [
    "#### 2. Решение с помощью стека"
   ]
  },
  {
   "cell_type": "code",
   "execution_count": 7,
   "metadata": {},
   "outputs": [],
   "source": [
    "from collections import *\n",
    "\n",
    "def word_is_good(word):\n",
    "    \n",
    "    dq = deque()\n",
    "    # Append the first number from the word\n",
    "    dq.append(int(word[0]))\n",
    "    \n",
    "    for num in word[1:]:\n",
    "        \n",
    "        if len(dq) == 0:\n",
    "            return False\n",
    "        curr = dq.pop()\n",
    "        \n",
    "        if int(num) == 0:\n",
    "            if curr > 1:\n",
    "                dq.append(curr - 1)\n",
    "            \n",
    "        elif int(num) == 1:\n",
    "            dq.append(curr)\n",
    "        \n",
    "        elif int(num) == 2:\n",
    "            if curr > 1:\n",
    "                dq.append(curr - 1)\n",
    "            dq.append(2)\n",
    "            \n",
    "        elif int(num) == 3:\n",
    "            if curr > 1:\n",
    "                dq.append(curr - 1)\n",
    "            dq.append(3)\n",
    "    \n",
    "    if len(dq) == 0:\n",
    "        return True\n",
    "    else:\n",
    "        return False"
   ]
  },
  {
   "cell_type": "code",
   "execution_count": 23,
   "metadata": {},
   "outputs": [
    {
     "data": {
      "text/plain": [
       "True"
      ]
     },
     "execution_count": 23,
     "metadata": {},
     "output_type": "execute_result"
    }
   ],
   "source": [
    "word_is_good('30011111110')"
   ]
  },
  {
   "cell_type": "code",
   "execution_count": 2,
   "metadata": {},
   "outputs": [
    {
     "data": {
      "text/plain": [
       "deque(['3', 'r'])"
      ]
     },
     "execution_count": 2,
     "metadata": {},
     "output_type": "execute_result"
    }
   ],
   "source": [
    "from collections import *\n",
    "stack = deque()\n",
    "stack.append('3')\n",
    "stack.append('r')\n",
    "\n",
    "stack"
   ]
  },
  {
   "cell_type": "code",
   "execution_count": 23,
   "metadata": {},
   "outputs": [
    {
     "ename": "AttributeError",
     "evalue": "'collections.deque' object has no attribute 'push'",
     "output_type": "error",
     "traceback": [
      "\u001b[1;31m---------------------------------------------------------------------------\u001b[0m",
      "\u001b[1;31mAttributeError\u001b[0m                            Traceback (most recent call last)",
      "\u001b[1;32m<ipython-input-23-705184cc667c>\u001b[0m in \u001b[0;36m<module>\u001b[1;34m()\u001b[0m\n\u001b[1;32m----> 1\u001b[1;33m \u001b[0mstack\u001b[0m\u001b[1;33m.\u001b[0m\u001b[0mpush\u001b[0m\u001b[1;33m(\u001b[0m\u001b[1;36m2\u001b[0m\u001b[1;33m)\u001b[0m\u001b[1;33m\u001b[0m\u001b[0m\n\u001b[0m",
      "\u001b[1;31mAttributeError\u001b[0m: 'collections.deque' object has no attribute 'push'"
     ]
    }
   ],
   "source": [
    "stack.push(2)"
   ]
  },
  {
   "cell_type": "markdown",
   "metadata": {},
   "source": [
    "# Упражнение 2. Сортировочная станция\n",
    "\n",
    "Реализуйте [алгоритм сортировочной станции](https://ru.wikipedia.org/wiki/%D0%90%D0%BB%D0%B3%D0%BE%D1%80%D0%B8%D1%82%D0%BC_%D1%81%D0%BE%D1%80%D1%82%D0%B8%D1%80%D0%BE%D0%B2%D0%BE%D1%87%D0%BD%D0%BE%D0%B9_%D1%81%D1%82%D0%B0%D0%BD%D1%86%D0%B8%D0%B8)."
   ]
  },
  {
   "cell_type": "code",
   "execution_count": 47,
   "metadata": {},
   "outputs": [],
   "source": [
    "# Реализация перевода выражений из инфиксной нотации в обратную польскую нотацию: \"3 + 4 × (2 − 1)\" -> \"3 4 2 1 − × +\"\n",
    "from collections import *\n",
    "\n",
    "def shunting_yard_algorithm(input_sequence):\n",
    "    \n",
    "    stack = deque()\n",
    "    output_sequence = ''\n",
    "    i = 0\n",
    "    \n",
    "    while i < len(input_sequence):\n",
    "        if input_sequence[i].isdigit():\n",
    "            output_sequence += input_sequence[i]\n",
    "            \n",
    "        # if the token is a function then:\n",
    "        #     push it onto the operator stack \n",
    "        \n",
    "        if is_operator(input_sequence[i]):\n",
    "            while len(stack) > 0 and stack[-1] != '(' and right_precedence(input_sequence[i], stack[-1]):\n",
    "                output_sequence += stack.pop()\n",
    "            stack.append(input_sequence[i])\n",
    "        \n",
    "        if input_sequence[i] == '(':\n",
    "            stack.append(input_sequence[i])\n",
    "            \n",
    "        if input_sequence[i] == ')':\n",
    "            while stack[-1] != '(':\n",
    "                output_sequence += stack.pop()\n",
    "            if stack[-1] == '(':\n",
    "                stack.pop()\n",
    "        i += 1\n",
    "    \n",
    "    # after while loop, if operator stack not null, pop everything to output queue\n",
    "    while len(stack) != 0:\n",
    "        output_sequence += stack.pop()\n",
    "    return output_sequence"
   ]
  },
  {
   "cell_type": "code",
   "execution_count": 48,
   "metadata": {},
   "outputs": [],
   "source": [
    "def is_operator(token):\n",
    "    if token in ['+', '-', '*', '/']:\n",
    "        return True\n",
    "    return False\n",
    "\n",
    "\n",
    "def right_precedence(operator1, operator2):\n",
    "    precedence = {'+': 0, '-': 0, '*': 1, '/': 1}\n",
    "    \n",
    "    # if (there is a function at the top of the operator stack) or \\\n",
    "    # (there is an operator at the top of the operator stack with greater precedence) or \\\n",
    "    # (the operator at the top of the operator stack has equal precedence and is left associative) or \\\n",
    "    if precedence[operator1] <= precedence[operator2]:\n",
    "        return True\n",
    "    return False"
   ]
  },
  {
   "cell_type": "code",
   "execution_count": 49,
   "metadata": {},
   "outputs": [
    {
     "data": {
      "text/plain": [
       "'3421-*+'"
      ]
     },
     "execution_count": 49,
     "metadata": {},
     "output_type": "execute_result"
    }
   ],
   "source": [
    "shunting_yard_algorithm('3+4*(2-1)')"
   ]
  },
  {
   "cell_type": "markdown",
   "metadata": {},
   "source": [
    "# Упражнение 3. Очередь на основе стека\n",
    "\n",
    "Реализуйте очередь, которая использует 2 стека для своего функционирования: в первый стек элементы помещаются, а из второго извлекаются."
   ]
  },
  {
   "cell_type": "code",
   "execution_count": 74,
   "metadata": {},
   "outputs": [],
   "source": [
    "class stacked_queue():\n",
    "    def __init__(self):\n",
    "        self.stack_1 = deque()\n",
    "        self.stack_2 = deque()\n",
    "        \n",
    "    def push(self, data):\n",
    "        self.stack_1.append(data)\n",
    "        \n",
    "    def pop(self):\n",
    "        if len(self.stack_1) == 0:\n",
    "            raise Exception(\"Queue is empty\")\n",
    "        \n",
    "        # Инвертировать первый стек, переложив элементы во второй стек\n",
    "        while len(self.stack_1) != 0:\n",
    "            self.stack_2.append(self.stack_1.pop())\n",
    "        # Достать нужный элемент\n",
    "        elem = self.stack_2.pop()\n",
    "        # Повторить процедуру инвертирования в обратном порядке\n",
    "        while len(self.stack_2) != 0:\n",
    "            self.stack_1.append(self.stack_2.pop())\n",
    "        return elem"
   ]
  },
  {
   "cell_type": "code",
   "execution_count": 78,
   "metadata": {},
   "outputs": [
    {
     "data": {
      "text/plain": [
       "1"
      ]
     },
     "execution_count": 78,
     "metadata": {},
     "output_type": "execute_result"
    }
   ],
   "source": [
    "queue = stacked_queue()\n",
    "\n",
    "queue.push(1)\n",
    "queue.push(2)\n",
    "queue.push(3)\n",
    "\n",
    "queue.pop()"
   ]
  }
 ],
 "metadata": {
  "kernelspec": {
   "display_name": "Python 3",
   "language": "python",
   "name": "python3"
  },
  "language_info": {
   "codemirror_mode": {
    "name": "ipython",
    "version": 3
   },
   "file_extension": ".py",
   "mimetype": "text/x-python",
   "name": "python",
   "nbconvert_exporter": "python",
   "pygments_lexer": "ipython3",
   "version": "3.6.5"
  }
 },
 "nbformat": 4,
 "nbformat_minor": 2
}

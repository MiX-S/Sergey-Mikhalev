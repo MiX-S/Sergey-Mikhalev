{
 "cells": [
  {
   "cell_type": "markdown",
   "metadata": {},
   "source": [
    "## <font color=red>Литература</font>\n",
    "\n",
    "1. Лекции «Алгоритмы: построение, анализ и реализация на языке программирования Си» - Ворожцов А.В., Винокуров Н.А.. Выложена в канале **#edu_materials**\n",
    "\n",
    "\n",
    " # <font color=blue>Алгоритмы сортировки, не использующие сравнение</font>\n",
    " \n",
    " До сих пор мы рассматривали алгоритмы сортировки, основанные на операции сравнения элементов массива друг с другом. Лучшая возможная эффективность таких алгоритмов - $O(n \\cdot \\log n)$. Этот результат можно получить следующим образом.\n",
    " \n",
    "1. Если длина массива $A$ равна $n$, то всего существует $n!$ перестановок элементов $A$.\n",
    "\n",
    "- В процессе сортировки мы определяем, в каком из $n!$ возможных состояний был массив $A$ до сортировки.\n",
    "\n",
    "- Если выполнить $k$ сравнений элементов массива, то можно получить $2^k$ различных результатов.\n",
    "\n",
    "- Чтобы с помощью последовательности сравнений элементов $A$ понять, в каком массив находился состоянии, количество возможных результатов должно быть не меньше числа состояний.\n",
    "\n",
    "- Получаем $2^k \\ge n!$. Если применить формулу Стирлинга $n! \\ge \\sqrt{2 \\pi n} \\left(\\frac{n}{e}\\right)^n e^{\\frac{1}{12 n + 1}}$ (с [уточнением Робинса](https://www.jstor.org/stable/2308012?origin=crossref&seq=1#page_scan_tab_contents)), получаем $k \\ge \\log_2 \\sqrt{2 \\pi} + \\frac{1}{2} \\log_2 n + n \\cdot \\left( \\log_2 n - \\frac{1}{\\ln 2} \\right) + \\frac{1}{(12 n + 1) \\ln 2} \\ge n \\cdot \\left( \\log_2 n - \\frac{1}{\\ln 2} \\right)$ \n",
    "\n",
    "\n",
    "**Однако, если есть дополнительная информация о ключах элементов сортируемого массива $A$, эффективность алгоритма сортировки можно улучшить.**\n",
    "\n",
    "## <font color=green>Сортировка подсчетом (counting sort)</font>\n",
    "\n",
    "Если известно, что число различных элементов в массиве мало, то лучшим решением становится сортировка подсчетом. \n",
    "\n",
    "1. Определить число элементов каждого вида в сортируемом массиве.\n",
    "\n",
    "- Определить порядок видов элементов.\n",
    "\n",
    "- Записать элементы массива в правильном порядке.\n",
    "\n",
    "Если $n$ - размер массива, а $k$ - число видов элементов, то сортировка может быть выполнена в $2$ прохода по массиву. 1 проход требуется для подсчета и еще один для записи элементов в правильном порядке.\n",
    "\n",
    "### Упражнение 1. Сортировка подсчетом списка целых чисел\n",
    "\n",
    "Отсортируйте по возрастанию список целых чисел."
   ]
  },
  {
   "cell_type": "code",
   "execution_count": 8,
   "metadata": {},
   "outputs": [],
   "source": [
    "import random\n",
    "L = [random.randint(1, 5) for _ in range(100)]\n",
    "\n",
    "def count_sort(L):\n",
    "    \n",
    "    # число элементов каждого вида\n",
    "    C = [0] * 5\n",
    "    for elem in L:\n",
    "        C[elem - 1] += 1\n",
    "    \n",
    "    # записать числа обратно в L\n",
    "    index = 0\n",
    "    for elem, n in enumerate(C):\n",
    "        L[index: index + n] = [elem + 1] * n\n",
    "        index += n"
   ]
  },
  {
   "cell_type": "code",
   "execution_count": 9,
   "metadata": {
    "scrolled": true
   },
   "outputs": [
    {
     "name": "stdout",
     "output_type": "stream",
     "text": [
      "[5, 2, 4, 1, 3, 1, 1, 3, 5, 1, 4, 2, 5, 5, 5, 1, 5, 2, 2, 3, 2, 3, 1, 2, 2, 2, 1, 2, 4, 4, 4, 2, 1, 2, 2, 5, 1, 4, 1, 3, 4, 5, 4, 4, 5, 1, 1, 2, 1, 1, 2, 3, 2, 2, 1, 1, 1, 2, 3, 2, 1, 3, 3, 4, 1, 5, 2, 4, 1, 3, 3, 3, 5, 5, 1, 2, 2, 5, 4, 3, 2, 1, 2, 3, 1, 2, 4, 4, 5, 5, 3, 1, 5, 1, 3, 1, 5, 2, 4, 5]\n",
      "[1, 1, 1, 1, 1, 1, 1, 1, 1, 1, 1, 1, 1, 1, 1, 1, 1, 1, 1, 1, 1, 1, 1, 1, 1, 1, 2, 2, 2, 2, 2, 2, 2, 2, 2, 2, 2, 2, 2, 2, 2, 2, 2, 2, 2, 2, 2, 2, 2, 2, 2, 3, 3, 3, 3, 3, 3, 3, 3, 3, 3, 3, 3, 3, 3, 3, 3, 4, 4, 4, 4, 4, 4, 4, 4, 4, 4, 4, 4, 4, 4, 4, 5, 5, 5, 5, 5, 5, 5, 5, 5, 5, 5, 5, 5, 5, 5, 5, 5, 5]\n"
     ]
    }
   ],
   "source": [
    "print(L)\n",
    "count_sort(L)\n",
    "print(L)"
   ]
  },
  {
   "cell_type": "code",
   "execution_count": 15,
   "metadata": {},
   "outputs": [
    {
     "data": {
      "text/plain": [
       "[('a', 1), ('b', 2), ('c', 3), ('h', 6), ('w', 4)]"
      ]
     },
     "execution_count": 15,
     "metadata": {},
     "output_type": "execute_result"
    }
   ],
   "source": [
    "d = dict(a=1, b=2, c=3, w = 4, h = 6)\n",
    "sorted(d.items())"
   ]
  },
  {
   "cell_type": "markdown",
   "metadata": {
    "collapsed": true
   },
   "source": [
    "###  Упражнение 2. Сортировка подсчетом списка слов\n",
    "\n",
    "Список `L` содежит строки, состоящие из строчных букв. Отсортируйте строки по их первой букве. Равные элементы не должны переставляться между собой. Объем используемой памяти не должно зависеть от размера списка."
   ]
  },
  {
   "cell_type": "code",
   "execution_count": 24,
   "metadata": {},
   "outputs": [
    {
     "data": {
      "text/plain": [
       "['a', 'b', 'c', 'h', 'w']"
      ]
     },
     "execution_count": 24,
     "metadata": {},
     "output_type": "execute_result"
    }
   ],
   "source": [
    "sorted(d.keys())"
   ]
  },
  {
   "cell_type": "code",
   "execution_count": 1,
   "metadata": {},
   "outputs": [],
   "source": [
    "import random\n",
    "import string\n",
    "L = [''.join(random.sample(string.ascii_lowercase, random.randint(4, 10))) for _ in range(300)]"
   ]
  },
  {
   "cell_type": "code",
   "execution_count": 36,
   "metadata": {},
   "outputs": [],
   "source": [
    "def count_sort_strings(L):\n",
    "    \n",
    "    # Строки, сгруппированные по первой букве\n",
    "    D = {}\n",
    "    for elem in L:\n",
    "        first_letter = elem[0]\n",
    "        if first_letter in D.keys():\n",
    "            D[first_letter].append(elem)\n",
    "        else:\n",
    "            D[first_letter] = [elem]\n",
    "    \n",
    "    # записать строки обратно в L\n",
    "    sorted_keys = sorted(D.keys())\n",
    "    index = 0\n",
    "    for first_letter in sorted_keys:\n",
    "        n = len(D[first_letter])\n",
    "        L[index: index + n] = D[first_letter]\n",
    "        index += n"
   ]
  },
  {
   "cell_type": "code",
   "execution_count": 37,
   "metadata": {
    "scrolled": true
   },
   "outputs": [
    {
     "name": "stdout",
     "output_type": "stream",
     "text": [
      "True\n",
      "True\n"
     ]
    }
   ],
   "source": [
    "# print(L)\n",
    "L_sorted = sorted(L, key = lambda x: x[0])\n",
    "print(L == L_sorted)\n",
    "count_sort_strings(L)\n",
    "print(L == L_sorted)"
   ]
  },
  {
   "cell_type": "markdown",
   "metadata": {},
   "source": [
    "## <font color=green>Блочная соритровка (bucket sort)</font>\n",
    "\n",
    "Блочная сортировка может быть успешно применена, если известно, как распределены ключи. Если ключи равномерно распределены на интервале $\\left[0, 1\\right)$, то интервал можно разбить на $k$ равных промежутков (блоков или корзин), чтобы распределить по ним элементы сортируемого массива. Далее элементы в каждой из корзин сортируются с помощью другого алгоритма, чаще всего с помощью сортировки вставками. В конце корзины объединяются.\n",
    "\n",
    "Блочную сортировку можно рассматривать, как обобщение сортировки подсчетом.\n",
    "\n",
    "### Упражнение 3. Блочная сортировка\n",
    "\n",
    "Отсортируйте с помощью блочной сортировки список `L`. Определите оптимальное значение числа блоков для сортировки списка из $10^4$ элементов."
   ]
  },
  {
   "cell_type": "code",
   "execution_count": 14,
   "metadata": {},
   "outputs": [],
   "source": [
    "import timeit\n",
    "import random\n",
    "L = [random.uniform(0, 1) for _ in range(10**4)]"
   ]
  },
  {
   "cell_type": "code",
   "execution_count": 15,
   "metadata": {},
   "outputs": [],
   "source": [
    "def insert_sort(A):\n",
    "    \n",
    "    for i in range(1, len(A)):\n",
    "        # Первые i элементов уже отсортированы. Возьмем (i+1)-й элемент\n",
    "        j = i\n",
    "        while (j >= 1) and (A[j] < A[j - 1]):\n",
    "            A[j - 1], A[j] = A[j], A[j - 1]\n",
    "            j = j - 1\n",
    "\n",
    "\n",
    "def bucket_sort(L, k):\n",
    "    \n",
    "    buckets = [[] for i in range(k)]\n",
    "    \n",
    "    # Разделение на корзины\n",
    "    for elem in L:\n",
    "        i_bucket = int(elem // (1 / k))\n",
    "        buckets[i_bucket].append(elem)\n",
    "\n",
    "    # Сортировка вставками каждой корзины\n",
    "    for b in buckets:\n",
    "        insert_sort(b)\n",
    "        \n",
    "    # Слияние отсортированных корзин\n",
    "    index = 0\n",
    "    for b in buckets:\n",
    "        L[index: index + len(b)] = b\n",
    "        index += len(b)"
   ]
  },
  {
   "cell_type": "code",
   "execution_count": 16,
   "metadata": {},
   "outputs": [
    {
     "name": "stdout",
     "output_type": "stream",
     "text": [
      "False\n",
      "True\n"
     ]
    }
   ],
   "source": [
    "L_sorted = sorted(L)\n",
    "print(L_sorted == L)\n",
    "\n",
    "bucket_sort(L, 10)\n",
    "print(L_sorted == L)"
   ]
  },
  {
   "cell_type": "code",
   "execution_count": 13,
   "metadata": {},
   "outputs": [
    {
     "name": "stdout",
     "output_type": "stream",
     "text": [
      "Wall time: 1.19 s\n"
     ]
    }
   ],
   "source": [
    "%%time\n",
    "\n",
    "L = [random.uniform(0, 1) for _ in range(10**4)]\n",
    "bucket_sort(L, 10)"
   ]
  },
  {
   "cell_type": "code",
   "execution_count": 32,
   "metadata": {},
   "outputs": [],
   "source": [
    "import time\n",
    "N_buckets = [int(2*i) for i in range(1, 30)]\n",
    "times = []\n",
    "\n",
    "for k in N_buckets:\n",
    "    start_time = time.time()\n",
    "    L = [random.uniform(0, 1) for _ in range(10**4)]\n",
    "    bucket_sort(L, 10)\n",
    "    finish_time = time.time()\n",
    "    times.append(finish_time - start_time)"
   ]
  },
  {
   "cell_type": "code",
   "execution_count": 33,
   "metadata": {},
   "outputs": [
    {
     "data": {
      "image/png": "[encoded data removed]",
      "text/plain": [
       "<Figure size 432x288 with 1 Axes>"
      ]
     },
     "metadata": {},
     "output_type": "display_data"
    }
   ],
   "source": [
    "import matplotlib.pyplot as plt\n",
    "%matplotlib inline\n",
    "\n",
    "plt.plot(N_buckets, times);"
   ]
  },
  {
   "cell_type": "markdown",
   "metadata": {},
   "source": [
    "## <font color=green>Поразрядная сортировка (radix sort)</font>\n",
    "\n",
    "Поразрядная сортировка - это развитие идей сортировки подсчетом и быстрой сортировки. Пусть ключи, по которым осуществляется сортировка - целые числа. Тогда можно разделить массив на корзины по значениям старших разрядов ключей. Затем каждую из получившихся корзин разделить уже по значениям второго по старшинству разряда и так далее. Подход очень похож на быструю сортировку, однако на практике почти всегда под корзины выделяется дополнительная память, что обеспечивает сортировке стабильность.\n",
    "\n",
    "Поразрядная сортировка есть в двух вариантах: по более значимым цифрам (most significant digit или MSD) и по менее значимым цифрам (least significant digit или LSD). Сверху описан алгоритм MSD.\n",
    "\n",
    "Алгоритм LSD устроен следующим образом.\n",
    "\n",
    "1. Выполняется **устойчивая** (т.е. равные элементы не переставляются) сортировка подсчетом по младшему разряду.\n",
    "\n",
    "2. Корзины соединяются (конкатенируются) в один список.\n",
    "\n",
    "3. Повторяется пункт 1, но сортировка выполняется по следующему по старшинству разряду.\n",
    "\n",
    "### Пример 1. LSD сортировка 20-ти трехзначных чисел\n",
    "\n",
    "```\n",
    "117 821 112 951 340 832 417 392 210 252 939 962 937 715 481 132 192 641 791 988  # исходный массив\n",
    "340 210 821 951 481 641 791 112 832 392 252 962 132 192 715 117 417 937 988 939  # упорядочен младший разряд\n",
    "210 112 715 117 417 821 832 132 937 939 340 641 951 252 962 481 988 791 392 192  # упорядочены 0-й и 1-й разряды\n",
    "112 117 132 192 210 252 340 392 417 481 641 715 791 821 832 937 939 951 962 988\n",
    "```\n",
    "\n",
    "***\n",
    "Время поразрядной сортировки оценивается в $O\\left(w \\cdot (n + d)\\right)$, где $w$ - максимальная длина ключа.\n",
    "\n",
    "| <font size=3>Сложность</font> | <font size=3>Лучший случай</font> |<font size=3>Средняя эффективность</font>|<font size=3>Худший случай</font>|  \n",
    "| :---: | :---: | :---: | :---: |\n",
    "| <font size=3>Время</font> | <font size=3> $O\\left(w \\cdot (n + d)\\right)$ </font> | <font size=3> $O\\left(w \\cdot (n + d)\\right)$ </font> | <font size=3> $O\\left(w \\cdot (n + d)\\right)$ </font> |\n",
    "| <font size=3>Память MSD</font> | <font size=3>$O(n + d \\cdot w)$</font> | <font size=3>$O(n + d \\cdot w)$</font> | <font size=3>$O(n + d \\cdot w)$</font> |\n",
    "| <font size=3>Память LSD</font> | <font size=3>$O(n + d)$</font> | <font size=3>$O(n + d)$</font> | <font size=3>$O(n + d)$</font> |\n",
    "\n",
    "### Упражнение 4. LSD sorting\n",
    "\n",
    "Реализуйте функцию `lsd_sort()` для поразрядной сортировки."
   ]
  },
  {
   "cell_type": "code",
   "execution_count": 7,
   "metadata": {},
   "outputs": [],
   "source": [
    "import random\n",
    "L = list(range(150)) + list(range(100, 250))\n",
    "random.shuffle(L)"
   ]
  },
  {
   "cell_type": "code",
   "execution_count": 14,
   "metadata": {},
   "outputs": [],
   "source": [
    "# Count_sort, который принимает функцию, в качестве ключа\n",
    "\n",
    "def count_sort(L, key = lambda x: x):\n",
    "    \n",
    "    D = {}\n",
    "    for elem in L:\n",
    "        value = key(elem)\n",
    "        if value in D.keys():\n",
    "            D[value].append(elem)\n",
    "        else:\n",
    "            D[value] = [elem]\n",
    "    \n",
    "    sorted_keys = sorted(D.keys())\n",
    "    index = 0\n",
    "    for value in sorted_keys:\n",
    "        n = len(D[value])\n",
    "        L[index: index + n] = D[value]\n",
    "        index += n"
   ]
  },
  {
   "cell_type": "code",
   "execution_count": 12,
   "metadata": {},
   "outputs": [],
   "source": [
    "# Число разрядов\n",
    "n = len(str(max(L)))\n",
    "\n",
    "for i in range(n):\n",
    "    # функция, по которой будем сортировать\n",
    "    f = lambda x: (x / 10 ** i) % 10\n",
    "    count_sort(L, key = f)"
   ]
  },
  {
   "cell_type": "code",
   "execution_count": 13,
   "metadata": {},
   "outputs": [
    {
     "data": {
      "text/plain": [
       "[0,\n",
       " 1,\n",
       " 2,\n",
       " 3,\n",
       " 4,\n",
       " 5,\n",
       " 6,\n",
       " 7,\n",
       " 8,\n",
       " 9,\n",
       " 10,\n",
       " 11,\n",
       " 12,\n",
       " 13,\n",
       " 14,\n",
       " 15,\n",
       " 16,\n",
       " 17,\n",
       " 18,\n",
       " 19,\n",
       " 20,\n",
       " 21,\n",
       " 22,\n",
       " 23,\n",
       " 24,\n",
       " 25,\n",
       " 26,\n",
       " 27,\n",
       " 28,\n",
       " 29,\n",
       " 30,\n",
       " 31,\n",
       " 32,\n",
       " 33,\n",
       " 34,\n",
       " 35,\n",
       " 36,\n",
       " 37,\n",
       " 38,\n",
       " 39,\n",
       " 40,\n",
       " 41,\n",
       " 42,\n",
       " 43,\n",
       " 44,\n",
       " 45,\n",
       " 46,\n",
       " 47,\n",
       " 48,\n",
       " 49,\n",
       " 50,\n",
       " 51,\n",
       " 52,\n",
       " 53,\n",
       " 54,\n",
       " 55,\n",
       " 56,\n",
       " 57,\n",
       " 58,\n",
       " 59,\n",
       " 60,\n",
       " 61,\n",
       " 62,\n",
       " 63,\n",
       " 64,\n",
       " 65,\n",
       " 66,\n",
       " 67,\n",
       " 68,\n",
       " 69,\n",
       " 70,\n",
       " 71,\n",
       " 72,\n",
       " 73,\n",
       " 74,\n",
       " 75,\n",
       " 76,\n",
       " 77,\n",
       " 78,\n",
       " 79,\n",
       " 80,\n",
       " 81,\n",
       " 82,\n",
       " 83,\n",
       " 84,\n",
       " 85,\n",
       " 86,\n",
       " 87,\n",
       " 88,\n",
       " 89,\n",
       " 90,\n",
       " 91,\n",
       " 92,\n",
       " 93,\n",
       " 94,\n",
       " 95,\n",
       " 96,\n",
       " 97,\n",
       " 98,\n",
       " 99,\n",
       " 100,\n",
       " 100,\n",
       " 101,\n",
       " 101,\n",
       " 102,\n",
       " 102,\n",
       " 103,\n",
       " 103,\n",
       " 104,\n",
       " 104,\n",
       " 105,\n",
       " 105,\n",
       " 106,\n",
       " 106,\n",
       " 107,\n",
       " 107,\n",
       " 108,\n",
       " 108,\n",
       " 109,\n",
       " 109,\n",
       " 110,\n",
       " 110,\n",
       " 111,\n",
       " 111,\n",
       " 112,\n",
       " 112,\n",
       " 113,\n",
       " 113,\n",
       " 114,\n",
       " 114,\n",
       " 115,\n",
       " 115,\n",
       " 116,\n",
       " 116,\n",
       " 117,\n",
       " 117,\n",
       " 118,\n",
       " 118,\n",
       " 119,\n",
       " 119,\n",
       " 120,\n",
       " 120,\n",
       " 121,\n",
       " 121,\n",
       " 122,\n",
       " 122,\n",
       " 123,\n",
       " 123,\n",
       " 124,\n",
       " 124,\n",
       " 125,\n",
       " 125,\n",
       " 126,\n",
       " 126,\n",
       " 127,\n",
       " 127,\n",
       " 128,\n",
       " 128,\n",
       " 129,\n",
       " 129,\n",
       " 130,\n",
       " 130,\n",
       " 131,\n",
       " 131,\n",
       " 132,\n",
       " 132,\n",
       " 133,\n",
       " 133,\n",
       " 134,\n",
       " 134,\n",
       " 135,\n",
       " 135,\n",
       " 136,\n",
       " 136,\n",
       " 137,\n",
       " 137,\n",
       " 138,\n",
       " 138,\n",
       " 139,\n",
       " 139,\n",
       " 140,\n",
       " 140,\n",
       " 141,\n",
       " 141,\n",
       " 142,\n",
       " 142,\n",
       " 143,\n",
       " 143,\n",
       " 144,\n",
       " 144,\n",
       " 145,\n",
       " 145,\n",
       " 146,\n",
       " 146,\n",
       " 147,\n",
       " 147,\n",
       " 148,\n",
       " 148,\n",
       " 149,\n",
       " 149,\n",
       " 150,\n",
       " 151,\n",
       " 152,\n",
       " 153,\n",
       " 154,\n",
       " 155,\n",
       " 156,\n",
       " 157,\n",
       " 158,\n",
       " 159,\n",
       " 160,\n",
       " 161,\n",
       " 162,\n",
       " 163,\n",
       " 164,\n",
       " 165,\n",
       " 166,\n",
       " 167,\n",
       " 168,\n",
       " 169,\n",
       " 170,\n",
       " 171,\n",
       " 172,\n",
       " 173,\n",
       " 174,\n",
       " 175,\n",
       " 176,\n",
       " 177,\n",
       " 178,\n",
       " 179,\n",
       " 180,\n",
       " 181,\n",
       " 182,\n",
       " 183,\n",
       " 184,\n",
       " 185,\n",
       " 186,\n",
       " 187,\n",
       " 188,\n",
       " 189,\n",
       " 190,\n",
       " 191,\n",
       " 192,\n",
       " 193,\n",
       " 194,\n",
       " 195,\n",
       " 196,\n",
       " 197,\n",
       " 198,\n",
       " 199,\n",
       " 200,\n",
       " 201,\n",
       " 202,\n",
       " 203,\n",
       " 204,\n",
       " 205,\n",
       " 206,\n",
       " 207,\n",
       " 208,\n",
       " 209,\n",
       " 210,\n",
       " 211,\n",
       " 212,\n",
       " 213,\n",
       " 214,\n",
       " 215,\n",
       " 216,\n",
       " 217,\n",
       " 218,\n",
       " 219,\n",
       " 220,\n",
       " 221,\n",
       " 222,\n",
       " 223,\n",
       " 224,\n",
       " 225,\n",
       " 226,\n",
       " 227,\n",
       " 228,\n",
       " 229,\n",
       " 230,\n",
       " 231,\n",
       " 232,\n",
       " 233,\n",
       " 234,\n",
       " 235,\n",
       " 236,\n",
       " 237,\n",
       " 238,\n",
       " 239,\n",
       " 240,\n",
       " 241,\n",
       " 242,\n",
       " 243,\n",
       " 244,\n",
       " 245,\n",
       " 246,\n",
       " 247,\n",
       " 248,\n",
       " 249]"
      ]
     },
     "execution_count": 13,
     "metadata": {},
     "output_type": "execute_result"
    }
   ],
   "source": [
    "L"
   ]
  },
  {
   "cell_type": "markdown",
   "metadata": {},
   "source": [
    "### <font color=red>Замечание</font>\n",
    "\n",
    "Этот способ теоретически может оказаться быстрее алгоритма быстрой сортировки, однако в практике такие случаи встречаются нечасто. Чтобы поразрядная сортировка была эффективной требуется, чтобы ключи были равномерно распределены по цифрам в каждом из своих разрядов. Например, требуется отсортировать массив целых чисел 110, 110, 111, 112, 115, 111, 119, 118, 119, 117, 120, 116, 116, 112, 113, 114, 113, 117. В данном случае ключи распределены по цифрам в нулевом разряде следующим образом:\n",
    "```\n",
    "'0': 3\n",
    "'1': 2\n",
    "'2': 2\n",
    "'3': 2\n",
    "'4': 1\n",
    "'5': 1\n",
    "'6': 2\n",
    "'7': 2\n",
    "'8': 1\n",
    "'9': 2\n",
    "```\n",
    "В первом разряде используются только два значения из 10-ти возможных: `'1'` и `'2'`, причем последнее встречается лишь один раз, а во втором разряде используется только значение `'1'`. Получается, что при использовании поразрядной сортировки на двух разрядах алгоритм будет \"простаивать\"."
   ]
  },
  {
   "cell_type": "markdown",
   "metadata": {},
   "source": [
    "# <font color=blue>Свойства и классификация алгоритмов сортировки</font>\n",
    "\n",
    "## <font color=green>Устойчивость</font>\n",
    "\n",
    "Алгоритмы сортировки дялятся на устойчивые и неустойчивые. Устойчивые алгоритмы сохраняют порядок элементов с одинаковыми ключами.\n",
    "\n",
    "### Пример 2. Устойчивость\n",
    "\n",
    "Пусть требуется упорядочить слова в списке `[\"Bob\", \"Ann\", \"Angie\"]` по первой букве. Ключи слов `\"Ann\"` и `\"Angie\"` совпадают и равны `\"A\"`. Если сортировка устойчива, то гарантируется, что в упорядоченном списке `\"Ann\"` будет стоять перед `\"Angie\"`.\n",
    "\n",
    "### Упражнение 5. Устойчивость сортировки выбором\n",
    "\n",
    "Почему сортировка выбором в варианте, когда выполняется перестановка элементов, не является устойчивой? Приведите пример. Реализуйте устойчивый вариант сортировки выбором. Для этого нужно вставлять минимальный элемент перед неупорядоченной частью массива."
   ]
  },
  {
   "cell_type": "code",
   "execution_count": null,
   "metadata": {},
   "outputs": [],
   "source": []
  },
  {
   "cell_type": "markdown",
   "metadata": {},
   "source": [
    "### Упражнение 6. Устойчивость сортировки слиянием\n",
    "\n",
    "Какая неточность в реализации сортировки слиянием приведет к тому, что она станет неустойчивой?"
   ]
  },
  {
   "cell_type": "code",
   "execution_count": null,
   "metadata": {
    "collapsed": true
   },
   "outputs": [],
   "source": []
  },
  {
   "cell_type": "markdown",
   "metadata": {},
   "source": [
    "### Упражнение 7. Устойчивость быстрой сортировки\n",
    "\n",
    "Почему быстрая сортировка неустойчива? Приведите пример. Реализуйте устойчивый вариант быстрой сортировки. Для этого нужно закрепить за каждым элементом массива его индекс в исходном массиве и в случае, когда ключи равны, большим будет считаться элемент с большим индексом."
   ]
  },
  {
   "cell_type": "code",
   "execution_count": null,
   "metadata": {
    "collapsed": true
   },
   "outputs": [],
   "source": []
  },
  {
   "cell_type": "markdown",
   "metadata": {},
   "source": [
    "**Вариант быстрой сортировки, в котором ключ расширяется засчет индекса элемента в исходном массиве требует дополнительно $O(n)$ памяти.**\n",
    "\n",
    "## <font color=green>Естественность поведения</font>\n",
    "\n",
    "Алгоритм принято называть естественным, если он эффективно работает на упорядоченных и частично упорядоченных массивах. Алгоритмы сортировки пузырьком и вставками эффективны на частично упорядоченных массивах, в то время как поведение быстрой сортировки и сортировки слиянием не естественно.\n",
    "\n",
    "## <font color=green>Внутренняя и внешняя сортировка</font>\n",
    "\n",
    "Сортировка называется **внутренней**, если массив целиком помещается в оперативной памяти и возможен доступ к произвольному элементу массива. Сортировка называется **внешней**, если данные находятся на носителе большого объема с последовательным доступом к памяти. На этом занятии рассматриваются только алгоритмы внутренней сортировки."
   ]
  },
  {
   "cell_type": "code",
   "execution_count": null,
   "metadata": {
    "collapsed": true
   },
   "outputs": [],
   "source": []
  },
  {
   "cell_type": "markdown",
   "metadata": {},
   "source": [
    "### Упражнение 8. Рекламная акция\n",
    "\n",
    "В сети магазинов \"Н-Аудио\" проводится рекламная акция. Каждый второй товар – бесплатно. Естественно, кассирам дано указание пробивать товары в таком порядке, чтобы магазин потерял как можно меньше денег.\n",
    "\n",
    "По списку товаров определите максимальную сумму в чеке.\n",
    "\n",
    "**Вход**: натуральное число товаров (N < 1000) и далее N натуральных чисел – цены товаров.\n",
    "\n",
    "**Выход**: одно число – максимальная сумма чека.\n",
    "\n",
    "<table class=MsoTableGrid border=1 cellspacing=0 cellpadding=0\n",
    " style='border-collapse:collapse;border:none;mso-border-alt:solid windowtext .5pt;\n",
    " mso-yfti-tbllook:480;mso-padding-alt:0cm 5.4pt 0cm 5.4pt'>\n",
    " <tr style='mso-yfti-irow:0;mso-yfti-firstrow:yes'>\n",
    "  <td width=121 valign=top style='width:90.45pt;border:solid windowtext 1.0pt;\n",
    "  mso-border-alt:solid windowtext .5pt;padding:0cm 5.4pt 0cm 5.4pt'>\n",
    "  <p class=MsoNormal>Вход</p>\n",
    "  </td>\n",
    "  <td width=132 valign=top style='width:99.25pt;border:solid windowtext 1.0pt;\n",
    "  border-left:none;mso-border-left-alt:solid windowtext .5pt;mso-border-alt:\n",
    "  solid windowtext .5pt;padding:0cm 5.4pt 0cm 5.4pt'>\n",
    "  <p class=MsoNormal>Выход</p>\n",
    "  </td>\n",
    "  <td width=385 valign=top style='width:288.85pt;border:solid windowtext 1.0pt;\n",
    "  border-left:none;mso-border-left-alt:solid windowtext .5pt;mso-border-alt:\n",
    "  solid windowtext .5pt;padding:0cm 5.4pt 0cm 5.4pt'>\n",
    "  <p class=MsoNormal>Комментарий</p>\n",
    "  </td>\n",
    " </tr>\n",
    " <tr style='mso-yfti-irow:1;mso-yfti-lastrow:yes'>\n",
    "  <td width=121 valign=top style='width:90.45pt;border:solid windowtext 1.0pt;\n",
    "  border-top:none;mso-border-top-alt:solid windowtext .5pt;mso-border-alt:solid windowtext .5pt;\n",
    "  padding:0cm 5.4pt 0cm 5.4pt'>\n",
    "  <p class=MsoNormal>5 2 1 10 50 10</p>\n",
    "  </td>\n",
    "  <td width=132 valign=top style='width:99.25pt;border-top:none;border-left:\n",
    "  none;border-bottom:solid windowtext 1.0pt;border-right:solid windowtext 1.0pt;\n",
    "  mso-border-top-alt:solid windowtext .5pt;mso-border-left-alt:solid windowtext .5pt;\n",
    "  mso-border-alt:solid windowtext .5pt;padding:0cm 5.4pt 0cm 5.4pt'>\n",
    "  <p class=MsoNormal>70</p>\n",
    "  </td>\n",
    "  <td width=385 valign=top style='width:288.85pt;border-top:none;border-left:\n",
    "  none;border-bottom:solid windowtext 1.0pt;border-right:solid windowtext 1.0pt;\n",
    "  mso-border-top-alt:solid windowtext .5pt;mso-border-left-alt:solid windowtext .5pt;\n",
    "  mso-border-alt:solid windowtext .5pt;padding:0cm 5.4pt 0cm 5.4pt'>\n",
    "  <p class=MsoNormal>Возможен такой порядок: 10 2 50 1 10</p>\n",
    "  </td>\n",
    " </tr>\n",
    "</table>\n"
   ]
  },
  {
   "cell_type": "code",
   "execution_count": null,
   "metadata": {},
   "outputs": [],
   "source": []
  },
  {
   "cell_type": "markdown",
   "metadata": {},
   "source": [
    "### Упражнение 9. Ровно K обменов\n",
    "\n",
    "Даны два числа N и К. Вывести перестановку из N чисел (N чисел от 1 до N без повторений) такую чтобы сортировка пузырьком по возрастанию на соответствующем массиве сделала ровно K обменов. Если возможных ответов несколько – выведите любой.\n",
    "\n",
    "**Вход**: натуральное число N (N < 100) и целое  неотрицательное К. Гарантируется, что для всех наборов тестовых данных решение существует.\n",
    "\n",
    "**Выход**: ответ на задачу.\n",
    "\n",
    "<table class=MsoTableGrid border=1 cellspacing=0 cellpadding=0\n",
    " style='border-collapse:collapse;border:none;mso-border-alt:solid windowtext .5pt;\n",
    " mso-yfti-tbllook:480;mso-padding-alt:0cm 5.4pt 0cm 5.4pt'>\n",
    " <tr style='mso-yfti-irow:0;mso-yfti-firstrow:yes'>\n",
    "  <td width=177 valign=top style='width:133.0pt;border:solid windowtext 1.0pt;\n",
    "  mso-border-alt:solid windowtext .5pt;padding:0cm 5.4pt 0cm 5.4pt'>\n",
    "  <p class=MsoNormal>Вход</p>\n",
    "  </td>\n",
    "  <td width=118 valign=top style='width:88.4pt;border:solid windowtext 1.0pt;\n",
    "  border-left:none;mso-border-left-alt:solid windowtext .5pt;mso-border-alt:\n",
    "  solid windowtext .5pt;padding:0cm 5.4pt 0cm 5.4pt'>\n",
    "  <p class=MsoNormal>Выход</p>\n",
    "  </td>\n",
    "  <td width=343 valign=top style='width:257.15pt;border:solid windowtext 1.0pt;\n",
    "  border-left:none;mso-border-left-alt:solid windowtext .5pt;mso-border-alt:\n",
    "  solid windowtext .5pt;padding:0cm 5.4pt 0cm 5.4pt'>\n",
    "  <p class=MsoNormal>Комментарий</p>\n",
    "  </td>\n",
    " </tr>\n",
    " <tr style='mso-yfti-irow:1;mso-yfti-lastrow:yes'>\n",
    "  <td width=177 valign=top style='width:133.0pt;border:solid windowtext 1.0pt;\n",
    "  border-top:none;mso-border-top-alt:solid windowtext .5pt;mso-border-alt:solid windowtext .5pt;\n",
    "  padding:0cm 5.4pt 0cm 5.4pt'>\n",
    "  <p class=MsoNormal>5 3</p>\n",
    "  </td>\n",
    "  <td width=118 valign=top style='width:88.4pt;border-top:none;border-left:\n",
    "  none;border-bottom:solid windowtext 1.0pt;border-right:solid windowtext 1.0pt;\n",
    "  mso-border-top-alt:solid windowtext .5pt;mso-border-left-alt:solid windowtext .5pt;\n",
    "  mso-border-alt:solid windowtext .5pt;padding:0cm 5.4pt 0cm 5.4pt'>\n",
    "  <p class=MsoNormal>3 1 2 5 4</p>\n",
    "  </td>\n",
    "  <td width=343 valign=top style='width:257.15pt;border-top:none;border-left:\n",
    "  none;border-bottom:solid windowtext 1.0pt;border-right:solid windowtext 1.0pt;\n",
    "  mso-border-top-alt:solid windowtext .5pt;mso-border-left-alt:solid windowtext .5pt;\n",
    "  mso-border-alt:solid windowtext .5pt;padding:0cm 5.4pt 0cm 5.4pt'>\n",
    "  <p class=MsoNormal>В процессе сортировки массива 3 1 2 5 4 будут совершены\n",
    "  обмены: 1<span style='font-family:Symbol;mso-ascii-font-family:\"Times New Roman\";\n",
    "  mso-hansi-font-family:\"Times New Roman\";mso-char-type:symbol;mso-symbol-font-family:\n",
    "  Symbol'><span style='mso-char-type:symbol;mso-symbol-font-family:Symbol'>«</span></span>3\n",
    "  3<span style='font-family:Symbol;mso-ascii-font-family:\"Times New Roman\";\n",
    "  mso-hansi-font-family:\"Times New Roman\";mso-char-type:symbol;mso-symbol-font-family:\n",
    "  Symbol'><span style='mso-char-type:symbol;mso-symbol-font-family:Symbol'>«</span></span>2\n",
    "  и 5<span style='font-family:Symbol;mso-ascii-font-family:\"Times New Roman\";\n",
    "  mso-hansi-font-family:\"Times New Roman\";mso-char-type:symbol;mso-symbol-font-family:\n",
    "  Symbol'><span style='mso-char-type:symbol;mso-symbol-font-family:Symbol'>«</span></span>4.\n",
    "  Возможны и другие варианты ответа.</p>\n",
    "  </td>\n",
    " </tr>\n",
    "</table>\n"
   ]
  },
  {
   "cell_type": "code",
   "execution_count": null,
   "metadata": {
    "collapsed": true
   },
   "outputs": [],
   "source": []
  },
  {
   "cell_type": "markdown",
   "metadata": {},
   "source": [
    "### Упражнение 10. Лента Мебиуса\n",
    "\n",
    "Предположим, что имеется некоторый кусок ленты, разделенный на кадры. Кадры занумерованы с двух сторон. Полоска ленты склеена в лист Мебиуса. Необходимо составить алгоритм упорядочения этой последовательности, предположив, что соседние кадры можно переставлять, (естественно, в упорядоченной последовательности будет один \"скачок\" от минимального элемента к максимальному). Следует учесть, что при перестановке кадров переставляются числа с обеих сторон кадров. \n",
    "\n",
    "Числа на противоположных сторонах кадра могут не совпадать. Всегда ли возможно такое упорядочение?"
   ]
  },
  {
   "cell_type": "code",
   "execution_count": null,
   "metadata": {
    "collapsed": true
   },
   "outputs": [],
   "source": []
  }
 ],
 "metadata": {
  "kernelspec": {
   "display_name": "Python 3",
   "language": "python",
   "name": "python3"
  },
  "language_info": {
   "codemirror_mode": {
    "name": "ipython",
    "version": 3
   },
   "file_extension": ".py",
   "mimetype": "text/x-python",
   "name": "python",
   "nbconvert_exporter": "python",
   "pygments_lexer": "ipython3",
   "version": "3.6.5"
  }
 },
 "nbformat": 4,
 "nbformat_minor": 2
}

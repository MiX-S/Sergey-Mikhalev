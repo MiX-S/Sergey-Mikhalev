{
 "cells": [
  {
   "cell_type": "markdown",
   "metadata": {},
   "source": [
    "# Упражнение 1. Альтернативная реализация сортировки подсчетом\n",
    "\n",
    "Изучите алгоритм сортировки подсчетом, представленный в разделе \"устойчивый алгоритм\" в [статье](https://ru.wikipedia.org/wiki/%D0%A1%D0%BE%D1%80%D1%82%D0%B8%D1%80%D0%BE%D0%B2%D0%BA%D0%B0_%D0%BF%D0%BE%D0%B4%D1%81%D1%87%D1%91%D1%82%D0%BE%D0%BC) из википедии. Реализуйте его на Python."
   ]
  },
  {
   "cell_type": "code",
   "execution_count": 10,
   "metadata": {},
   "outputs": [],
   "source": [
    "import random\n",
    "L = [random.randint(0, 5) for _ in range(100)]\n",
    "\n",
    "def StableCountingSort(L, k):\n",
    "    \n",
    "    # Счетчик числа чисел каждого вида\n",
    "    C = [0] * k\n",
    "    for elem in L:\n",
    "        C[elem] += 1\n",
    "    # Отсортированный массив\n",
    "    B = [0] * len(L)\n",
    "    \n",
    "    for j in range(1, k):\n",
    "        C[j] = C[j] + C[j - 1]\n",
    "    \n",
    "    for i in range(len(L)-1, -1, -1):\n",
    "        C[L[i]] = C[L[i]] - 1\n",
    "        B[C[L[i]]] = L[i]\n",
    "    return B"
   ]
  },
  {
   "cell_type": "code",
   "execution_count": 12,
   "metadata": {},
   "outputs": [
    {
     "name": "stdout",
     "output_type": "stream",
     "text": [
      "[3, 1, 0, 5, 1, 5, 0, 5, 3, 1, 3, 5, 1, 3, 4, 5, 4, 4, 4, 5, 0, 1, 3, 5, 3, 0, 3, 2, 0, 0, 3, 5, 3, 3, 4, 1, 2, 3, 1, 2, 1, 5, 3, 1, 2, 5, 4, 3, 3, 1, 0, 5, 3, 0, 2, 0, 4, 2, 1, 0, 4, 0, 5, 2, 0, 3, 0, 1, 4, 2, 5, 5, 3, 5, 2, 5, 5, 5, 5, 4, 1, 5, 2, 1, 5, 3, 4, 2, 3, 1, 5, 0, 4, 5, 3, 4, 2, 2, 1, 4]\n",
      "[0, 0, 0, 0, 0, 0, 0, 0, 0, 0, 0, 0, 0, 0, 1, 1, 1, 1, 1, 1, 1, 1, 1, 1, 1, 1, 1, 1, 1, 1, 2, 2, 2, 2, 2, 2, 2, 2, 2, 2, 2, 2, 2, 3, 3, 3, 3, 3, 3, 3, 3, 3, 3, 3, 3, 3, 3, 3, 3, 3, 3, 3, 3, 4, 4, 4, 4, 4, 4, 4, 4, 4, 4, 4, 4, 4, 4, 5, 5, 5, 5, 5, 5, 5, 5, 5, 5, 5, 5, 5, 5, 5, 5, 5, 5, 5, 5, 5, 5, 5]\n"
     ]
    }
   ],
   "source": [
    "print(L)\n",
    "B = StableCountingSort(L, 6)\n",
    "print(B)"
   ]
  },
  {
   "cell_type": "markdown",
   "metadata": {},
   "source": [
    "# Упражнение 2. Сортировка подсчетом без буфера\n",
    "\n",
    "Модифицируйте алгоритм из упражнения 1 так, чтобы сортировка производилась без использования вспомогательного буфера для отсортированного массива."
   ]
  },
  {
   "cell_type": "code",
   "execution_count": null,
   "metadata": {
    "collapsed": true
   },
   "outputs": [],
   "source": [
    "def StableCountingSort_no_Buffer(L, k):\n",
    "    \n",
    "    # Счетчик числа чисел каждого вида\n",
    "    C = [0] * k\n",
    "    for elem in L:\n",
    "        C[elem] += 1\n",
    "    \n",
    "    for j in range(1, k):\n",
    "        C[j] = C[j] + C[j - 1]\n",
    "    \n",
    "    for i in range(len(L)):\n",
    "        last_i = len(L) - 1\n",
    "        C[L[last_i]] = C[L[last_i]] - 1\n",
    "        # Swop L[last_i] and L[C[L[last_i]]]\n",
    "        \n",
    "    return B"
   ]
  },
  {
   "cell_type": "markdown",
   "metadata": {},
   "source": [
    "# Упражнение 3. Блочная сортировка для произвольного распределения \n",
    "\n",
    "Пусть элементы сортируемого массива $A$ распределены с плотностью вероятности $\\rho(x)$. Как можно разбить область значений элементов массива на корзины для блочной сортировки? Реализуйте Ваш метод разбиения в виде функции `partition()`, которая будет принимать на вход три аргумента:\n",
    "\n",
    "1. `N` - число блоков;\n",
    "\n",
    "2. `bounds` - кортеж из двух элементов, содержащий левую и правую границы области значений элементов массива;\n",
    "\n",
    "3. `rho` - функция вычисляющая плотность вероятности того, что элемент массива  принимает некоторое значение (функцция принимает одно вещественное число и возвращает одно вещественное число).\n",
    "\n",
    "> Утверждение, что элементы распределены с плотностью вероятности $\\rho(x)$, значит, что вероятность обнаружить элемент массива $e$ на отрезке $[x,~x + \\Delta x]$  равна\n",
    "$$P(e \\in [x,~x + \\Delta x]) = \\int\\limits_x^{x + \\Delta x} \\rho(x) dx$$\n",
    "Считайте, что $\\rho(x)$ не равна нулю только на отрезке `[bounds[0], bounds[1]]`"
   ]
  },
  {
   "cell_type": "code",
   "execution_count": 77,
   "metadata": {},
   "outputs": [],
   "source": [
    "import scipy.integrate as integrate\n",
    "import math\n",
    "from scipy import optimize\n",
    "\n",
    "# result = integrate.quad(lambda x: x, 0, 3)\n",
    "\n",
    "# Плотность распределения\n",
    "def rho(x):\n",
    "    if x < 0 or x > 5:\n",
    "        return 0\n",
    "    return 1/5\n",
    "\n",
    "# Функция распределения\n",
    "def F(y):\n",
    "    return integrate.quad(rho, 0, y)[0]"
   ]
  },
  {
   "cell_type": "code",
   "execution_count": 74,
   "metadata": {},
   "outputs": [],
   "source": [
    "# Функция, находящая следующую точку разбиения области определения\n",
    "# Принимает плотность распределения, начальную точку, вероятность\n",
    "# Необходимо вернуть точку x_1, для которой вероятность попасть в интервал (x_0, x_1) равна p\n",
    "def find_next(rho, x_0, p):\n",
    "    # Функция, которую будем минимизировать\n",
    "    f = lambda x: (F(x) - F(x_0) - p) ** 2\n",
    "    return optimize.minimize(f, 0)\n",
    "\n",
    "def partition(N, bounds, rho):\n",
    "    borders = [bounds[0]]\n",
    "    for i in range(N - 1):\n",
    "        # Точка, в которой значение Функции Распределения увеличивается на 1/N\n",
    "        b = find_next(rho, borders[-1], 1/N)\n",
    "        borders.append(b['x'][0])\n",
    "    borders.append(bounds[1])\n",
    "    return borders"
   ]
  },
  {
   "cell_type": "code",
   "execution_count": 75,
   "metadata": {
    "scrolled": true
   },
   "outputs": [
    {
     "data": {
      "text/plain": [
       "[0,\n",
       " 1.0000000002037268,\n",
       " 1.999999955296519,\n",
       " 2.9999998747371177,\n",
       " 3.9999997476115885,\n",
       " 5]"
      ]
     },
     "execution_count": 75,
     "metadata": {},
     "output_type": "execute_result"
    }
   ],
   "source": [
    "partition(5, (0, 5), rho)"
   ]
  },
  {
   "cell_type": "markdown",
   "metadata": {},
   "source": [
    "# Упражнение 4. Определение оптимального количества блоков (упражнение 3 из alg3)\n",
    "\n",
    "Отсортируйте с помощью блочной сортировки список `L`. Определите оптимальное значение числа блоков для сортировки списка из $10^4$ элементов."
   ]
  },
  {
   "cell_type": "code",
   "execution_count": 117,
   "metadata": {},
   "outputs": [],
   "source": [
    "import timeit\n",
    "import random\n",
    "L = [random.uniform(0, 1) for _ in range(10**4)]"
   ]
  },
  {
   "cell_type": "code",
   "execution_count": 85,
   "metadata": {},
   "outputs": [],
   "source": [
    "def insert_sort(A):\n",
    "    \n",
    "    for i in range(1, len(A)):\n",
    "        # Первые i элементов уже отсортированы. Возьмем (i+1)-й элемент\n",
    "        j = i\n",
    "        while (j >= 1) and (A[j] < A[j - 1]):\n",
    "            A[j - 1], A[j] = A[j], A[j - 1]\n",
    "            j = j - 1\n",
    "\n",
    "\n",
    "def bucket_sort(L, k):\n",
    "    \n",
    "    buckets = [[] for i in range(k)]\n",
    "    \n",
    "    # Разделение на корзины\n",
    "    for elem in L:\n",
    "        i_bucket = int(elem // (1 / k))\n",
    "        buckets[i_bucket].append(elem)\n",
    "\n",
    "    # Сортировка вставками каждой корзины\n",
    "    for b in buckets:\n",
    "        insert_sort(b)\n",
    "        \n",
    "    # Слияние отсортированных корзин\n",
    "    index = 0\n",
    "    for b in buckets:\n",
    "        L[index: index + len(b)] = b\n",
    "        index += len(b)"
   ]
  },
  {
   "cell_type": "code",
   "execution_count": 118,
   "metadata": {},
   "outputs": [],
   "source": [
    "import time\n",
    "N_buckets = [int(80*i) for i in range(1, 50)]\n",
    "times = []\n",
    "\n",
    "for k in N_buckets:\n",
    "    start_time = time.time()\n",
    "    L = [random.uniform(0, 1) for _ in range(10**4)]\n",
    "    bucket_sort(L, k)\n",
    "    finish_time = time.time()\n",
    "    times.append(finish_time - start_time)"
   ]
  },
  {
   "cell_type": "code",
   "execution_count": 119,
   "metadata": {},
   "outputs": [
    {
     "data": {
      "image/png": "[encoded data removed]",
      "text/plain": [
       "<Figure size 432x288 with 1 Axes>"
      ]
     },
     "metadata": {},
     "output_type": "display_data"
    }
   ],
   "source": [
    "import matplotlib.pyplot as plt\n",
    "%matplotlib inline\n",
    "\n",
    "plt.plot(N_buckets, times);\n",
    "plt.xlabel('N_buckets')\n",
    "plt.ylabel('time');"
   ]
  },
  {
   "cell_type": "code",
   "execution_count": null,
   "metadata": {},
   "outputs": [],
   "source": []
  },
  {
   "cell_type": "code",
   "execution_count": null,
   "metadata": {},
   "outputs": [],
   "source": []
  }
 ],
 "metadata": {
  "kernelspec": {
   "display_name": "Python 3",
   "language": "python",
   "name": "python3"
  },
  "language_info": {
   "codemirror_mode": {
    "name": "ipython",
    "version": 3
   },
   "file_extension": ".py",
   "mimetype": "text/x-python",
   "name": "python",
   "nbconvert_exporter": "python",
   "pygments_lexer": "ipython3",
   "version": "3.6.5"
  }
 },
 "nbformat": 4,
 "nbformat_minor": 2
}

{
 "cells": [
  {
   "cell_type": "markdown",
   "metadata": {},
   "source": [
    "### Упражнение 1. Списки с одинаковым содержимым\n",
    "\n",
    "Определите, содержат ли списки $A$ и $B$ из одинаковые наборы элементов.\n",
    "\n",
    "\n",
    "#### Пример\n",
    "\n",
    "| <font size=3>Входные последовательности</font> | <font size=3>Выходная последовательность</font> |\n",
    "| :---: | :---: |\n",
    "| <font size=3>1 3 1<br>1 1 3</font> | <font size=3>True</font> |\n",
    "| <font size=3>1 3 1<br>1 3 3</font> | <font size=3>False</font> |"
   ]
  },
  {
   "cell_type": "code",
   "execution_count": 1,
   "metadata": {},
   "outputs": [],
   "source": [
    "import random\n",
    "alphabet = list(range(5))\n",
    "N = 20\n",
    "A = [random.choice(alphabet) for _ in range(N)]\n",
    "if random.randint(0, 2):\n",
    "    B = [random.choice(alphabet) for _ in range(N)]\n",
    "else:\n",
    "    B = random.shuffle(A)"
   ]
  },
  {
   "cell_type": "code",
   "execution_count": 2,
   "metadata": {},
   "outputs": [
    {
     "name": "stdout",
     "output_type": "stream",
     "text": [
      "False\n"
     ]
    }
   ],
   "source": [
    "# Сравним отсортированные списки\n",
    "\n",
    "A_sorted = sorted(A)\n",
    "B_sorted = sorted(B)\n",
    "\n",
    "print(A_sorted == B_sorted)"
   ]
  },
  {
   "cell_type": "markdown",
   "metadata": {},
   "source": [
    "### Упражнение 2. Наиболее близкие точки\n",
    "\n",
    "Дан список $A$ различных точек на коорднатной прямой. Распечатайте все пары точек, расстояние между которыми минимально."
   ]
  },
  {
   "cell_type": "code",
   "execution_count": 80,
   "metadata": {},
   "outputs": [],
   "source": [
    "import random\n",
    "N = random.randint(10, 20)\n",
    "A = random.sample(range(100), N)"
   ]
  },
  {
   "cell_type": "code",
   "execution_count": 65,
   "metadata": {},
   "outputs": [
    {
     "name": "stdout",
     "output_type": "stream",
     "text": [
      "[11, 16, 17, 18, 24, 29, 35, 36, 44, 47, 53, 56, 57, 59, 74, 76, 92, 98]\n",
      "[(16, 17), (17, 18), (35, 36), (56, 57)]\n"
     ]
    }
   ],
   "source": [
    "A_sorted = sorted(A)\n",
    "pairs = [(A_sorted[0], A_sorted[1])]\n",
    "min_dist = A_sorted[1] - A_sorted[0]\n",
    "\n",
    "for i in range(1, len(A_sorted) - 1):\n",
    "    \n",
    "    if A_sorted[i+1] - A_sorted[i] == min_dist:\n",
    "        pairs.append((A_sorted[i], A_sorted[i+1]))\n",
    "        \n",
    "    if A_sorted[i+1] - A_sorted[i] < min_dist:\n",
    "        min_dist = A_sorted[i+1] - A_sorted[i]\n",
    "        pairs = [(A_sorted[i], A_sorted[i+1])]\n",
    "\n",
    "print(A_sorted)\n",
    "print(pairs)"
   ]
  },
  {
   "cell_type": "markdown",
   "metadata": {},
   "source": [
    "### Упражнение 3. Треугольники\n",
    "\n",
    "Заданы $N$ попарно разлиных длин отрезков. Вычислить количество способов, которыми из этих отрезков можно сложить треугольник. Возможно ли, чтобы алгоритм работал с эффективностью $O(N^2)$?"
   ]
  },
  {
   "cell_type": "code",
   "execution_count": 2,
   "metadata": {},
   "outputs": [],
   "source": [
    "import random\n",
    "N = random.randint(10, 20)\n",
    "A = random.sample(range(100), N)"
   ]
  },
  {
   "cell_type": "code",
   "execution_count": 11,
   "metadata": {},
   "outputs": [],
   "source": [
    "# Brute force algorithm\n",
    "count = 0\n",
    "triangles = []\n",
    "N = len(A)\n",
    "\n",
    "# Переберем все возможные тройки отрезков и проверим возможность построить треугольник\n",
    "for i in range(N - 2):\n",
    "    for j in range(i + 1, N - 1):\n",
    "        for k in range(j + 1, N):\n",
    "            # Проверим возможность построить треугольник\n",
    "            if (A[i] + A[j] > A[k]) and (A[i] + A[k] > A[j]) and (A[j] + A[k] > A[i]):\n",
    "                count += 1\n",
    "                triangles.append((A[i], A[j], A[k]))"
   ]
  },
  {
   "cell_type": "code",
   "execution_count": 28,
   "metadata": {},
   "outputs": [],
   "source": [
    "# slightly better algorithm\n",
    "count2 = 0\n",
    "triangles2 = []\n",
    "N = len(A)\n",
    "\n",
    "A_sorted = sorted(A, reverse=True)\n",
    "for i in range(N - 2):\n",
    "    \n",
    "    for j in range(i + 1, N - 1):\n",
    "        # Выйдем из цикла, если длина второго отрезка <= длины первого отрезка\n",
    "        if A_sorted[j] <= A_sorted[i] / 2:\n",
    "            break\n",
    "            \n",
    "        for k in range(j + 1, N):\n",
    "            # Если нельзя построить треугольник, выходим из цикла\n",
    "            if (A_sorted[j] + A_sorted[k] <= A_sorted[i]):\n",
    "                break\n",
    "                \n",
    "            count2 += 1\n",
    "            triangles2.append((A_sorted[i], A_sorted[j], A_sorted[k]))"
   ]
  },
  {
   "cell_type": "markdown",
   "metadata": {},
   "source": [
    "### Упражнение 4. Сортировка расческой\n",
    "\n",
    "Напишите функцию, сортирующую функцию с помощью алгоритма сортировки [расческой](https://ru.wikipedia.org/wiki/%D0%A1%D0%BE%D1%80%D1%82%D0%B8%D1%80%D0%BE%D0%B2%D0%BA%D0%B0_%D1%80%D0%B0%D1%81%D1%87%D1%91%D1%81%D0%BA%D0%BE%D0%B9)"
   ]
  },
  {
   "cell_type": "code",
   "execution_count": 2,
   "metadata": {},
   "outputs": [],
   "source": [
    "def comb_sort(A):\n",
    "    \n",
    "    gap = len(A)\n",
    "    decr_fact = 1.247\n",
    "    Sorted = False\n",
    "    \n",
    "    while Sorted == False:\n",
    "        \n",
    "        print(A, gap)\n",
    "        gap = int(gap / decr_fact)\n",
    "        if gap <= 1:\n",
    "            gap = 1\n",
    "            Sorted = True\n",
    "        \n",
    "        # A single \"comb\" over the input list\n",
    "        i = 0\n",
    "        while i + gap < len(A):\n",
    "            if A[i] > A[i + gap]:\n",
    "                A[i], A[i + gap] = A[i + gap], A[i]\n",
    "                Sorted = False\n",
    "            i += 1\n",
    "    \n",
    "    return A"
   ]
  },
  {
   "cell_type": "code",
   "execution_count": 87,
   "metadata": {},
   "outputs": [
    {
     "name": "stdout",
     "output_type": "stream",
     "text": [
      "[94, 75, 70, 56, 93, 14, 19, 17, 95, 61, 5, 82, 64, 2, 13] 15\n",
      "[64, 2, 13, 56, 93, 14, 19, 17, 95, 61, 5, 82, 94, 75, 70] 12\n",
      "[61, 2, 13, 56, 75, 14, 19, 17, 95, 64, 5, 82, 94, 93, 70] 9\n",
      "[17, 2, 13, 5, 75, 14, 19, 61, 95, 64, 56, 82, 94, 93, 70] 7\n",
      "[14, 2, 13, 5, 64, 17, 19, 61, 93, 70, 56, 82, 94, 95, 75] 5\n",
      "[14, 2, 13, 5, 64, 17, 19, 61, 93, 70, 56, 82, 94, 95, 75] 4\n",
      "[5, 2, 13, 14, 61, 17, 19, 56, 82, 70, 64, 75, 94, 95, 93] 3\n",
      "[5, 2, 13, 14, 19, 17, 61, 56, 64, 70, 82, 75, 93, 95, 94] 2\n",
      "[2, 5, 13, 14, 17, 19, 56, 61, 64, 70, 75, 82, 93, 94, 95] 1\n"
     ]
    },
    {
     "data": {
      "text/plain": [
       "[2, 5, 13, 14, 17, 19, 56, 61, 64, 70, 75, 82, 93, 94, 95]"
      ]
     },
     "execution_count": 87,
     "metadata": {},
     "output_type": "execute_result"
    }
   ],
   "source": [
    "# A = [6, 11, 18, 19, 21, 23, 31, 35, 44, 54, 59, 63, 65, 66, 69, 76, 89]\n",
    "\n",
    "comb_sort(A)"
   ]
  },
  {
   "cell_type": "markdown",
   "metadata": {},
   "source": [
    "### Упражнение 5. Сортировка Шелла\n",
    "\n",
    "Напишите функцию, сортирующую список с помощью алгоритма сортировки [Шелла](https://ru.wikipedia.org/wiki/%D0%A1%D0%BE%D1%80%D1%82%D0%B8%D1%80%D0%BE%D0%B2%D0%BA%D0%B0_%D0%A8%D0%B5%D0%BB%D0%BB%D0%B0). Добавьте возможность изменения длины промежутка согласно последовательностям Седжвика и Пратта."
   ]
  },
  {
   "cell_type": "code",
   "execution_count": 1,
   "metadata": {},
   "outputs": [
    {
     "data": {
      "text/plain": [
       "[109, 41, 19, 5, 1]"
      ]
     },
     "execution_count": 1,
     "metadata": {},
     "output_type": "execute_result"
    }
   ],
   "source": [
    "def Sedgewick_gaps(n):\n",
    "    d = []\n",
    "    i = 0\n",
    "    while True:\n",
    "        \n",
    "        if i % 2 == 0:\n",
    "            d_i = 9 * (2**i - 2**(i/2)) + 1 \n",
    "        else:\n",
    "            d_i = 8 * 2**i - 6 * 2**((i + 1) / 2) + 1\n",
    "        \n",
    "        if d_i >= n:\n",
    "            break\n",
    "        d.append(int(d_i))\n",
    "        i += 1\n",
    "    \n",
    "    return sorted(d, reverse=True)\n",
    "\n",
    "Sedgewick_gaps(200)"
   ]
  },
  {
   "cell_type": "code",
   "execution_count": 138,
   "metadata": {},
   "outputs": [
    {
     "data": {
      "text/plain": [
       "[18, 16, 12, 9, 8, 6, 4, 3, 2, 1]"
      ]
     },
     "execution_count": 138,
     "metadata": {},
     "output_type": "execute_result"
    }
   ],
   "source": [
    "from math import log\n",
    "\n",
    "def Pratt_gaps(n):\n",
    "    d = []\n",
    "    \n",
    "    for i in range(int(log(n, 2))):\n",
    "        for j in range(int(log(n, 3))):\n",
    "            \n",
    "            d_i = 2**i * 3**j\n",
    "            if d_i > n/2:\n",
    "                break\n",
    "            d.append(d_i)\n",
    "    \n",
    "    return sorted(d, reverse=True)\n",
    "\n",
    "Pratt_gaps(40)"
   ]
  },
  {
   "cell_type": "code",
   "execution_count": 144,
   "metadata": {},
   "outputs": [],
   "source": [
    "def shell_sort(A, gaps = \"Sedgewick\"):\n",
    "\n",
    "    if gaps == \"Sedgewick\":\n",
    "        gaps = Sedgewick_gaps(len(A))\n",
    "    elif gaps == \"Pratt\":\n",
    "        gaps = Pratt_gaps(len(A))\n",
    "    else:\n",
    "        raise Exception(\"Try another gaps method\")\n",
    "    \n",
    "\n",
    "    # Start with the largest gap and work down to a gap of 1\n",
    "    for gap in gaps:\n",
    "\n",
    "        # Do a gapped insertion sort for this gap size.\n",
    "        # The first gap elements a[0..gap-1] are already in gapped order\n",
    "        # keep adding one more element until the entire array is gap sorted\n",
    "        for i in range(gap, len(A), 1):\n",
    "            \n",
    "            print(A, gap)\n",
    "            \n",
    "            # add a[i] to the elements that have been gap sorted\n",
    "            # save a[i] in temp and make a hole at position i\n",
    "            temp = A[i]\n",
    "            # shift earlier gap-sorted elements up until the correct location for a[i] is found\n",
    "            j = i\n",
    "            while j >= gap and A[j - gap] > temp:\n",
    "                A[j] = A[j - gap]\n",
    "                j = j - gap\n",
    "                \n",
    "            # put temp (the original a[i]) in its correct location\n",
    "            A[j] = temp\n",
    "    \n",
    "    return A"
   ]
  },
  {
   "cell_type": "code",
   "execution_count": 151,
   "metadata": {
    "scrolled": true
   },
   "outputs": [
    {
     "name": "stdout",
     "output_type": "stream",
     "text": [
      "[83, 48, 94, 66, 62, 64, 42, 69, 73, 5, 23, 79, 74, 61, 72, 55, 33] 8\n",
      "[73, 48, 94, 66, 62, 64, 42, 69, 83, 5, 23, 79, 74, 61, 72, 55, 33] 8\n",
      "[73, 5, 94, 66, 62, 64, 42, 69, 83, 48, 23, 79, 74, 61, 72, 55, 33] 8\n",
      "[73, 5, 23, 66, 62, 64, 42, 69, 83, 48, 94, 79, 74, 61, 72, 55, 33] 8\n",
      "[73, 5, 23, 66, 62, 64, 42, 69, 83, 48, 94, 79, 74, 61, 72, 55, 33] 8\n",
      "[73, 5, 23, 66, 62, 64, 42, 69, 83, 48, 94, 79, 74, 61, 72, 55, 33] 8\n",
      "[73, 5, 23, 66, 62, 61, 42, 69, 83, 48, 94, 79, 74, 64, 72, 55, 33] 8\n",
      "[73, 5, 23, 66, 62, 61, 42, 69, 83, 48, 94, 79, 74, 64, 72, 55, 33] 8\n",
      "[73, 5, 23, 66, 62, 61, 42, 55, 83, 48, 94, 79, 74, 64, 72, 69, 33] 8\n",
      "[33, 5, 23, 66, 62, 61, 42, 55, 73, 48, 94, 79, 74, 64, 72, 69, 83] 6\n",
      "[33, 5, 23, 66, 62, 61, 42, 55, 73, 48, 94, 79, 74, 64, 72, 69, 83] 6\n",
      "[33, 5, 23, 66, 62, 61, 42, 55, 73, 48, 94, 79, 74, 64, 72, 69, 83] 6\n",
      "[33, 5, 23, 66, 62, 61, 42, 55, 73, 48, 94, 79, 74, 64, 72, 69, 83] 6\n",
      "[33, 5, 23, 48, 62, 61, 42, 55, 73, 66, 94, 79, 74, 64, 72, 69, 83] 6\n",
      "[33, 5, 23, 48, 62, 61, 42, 55, 73, 66, 94, 79, 74, 64, 72, 69, 83] 6\n",
      "[33, 5, 23, 48, 62, 61, 42, 55, 73, 66, 94, 79, 74, 64, 72, 69, 83] 6\n",
      "[33, 5, 23, 48, 62, 61, 42, 55, 73, 66, 94, 79, 74, 64, 72, 69, 83] 6\n",
      "[33, 5, 23, 48, 62, 61, 42, 55, 73, 66, 94, 79, 74, 64, 72, 69, 83] 6\n",
      "[33, 5, 23, 48, 62, 61, 42, 55, 72, 66, 94, 79, 74, 64, 73, 69, 83] 6\n",
      "[33, 5, 23, 48, 62, 61, 42, 55, 72, 66, 94, 79, 74, 64, 73, 69, 83] 6\n",
      "[33, 5, 23, 48, 62, 61, 42, 55, 72, 66, 83, 79, 74, 64, 73, 69, 94] 4\n",
      "[33, 5, 23, 48, 62, 61, 42, 55, 72, 66, 83, 79, 74, 64, 73, 69, 94] 4\n",
      "[33, 5, 23, 48, 62, 61, 42, 55, 72, 66, 83, 79, 74, 64, 73, 69, 94] 4\n",
      "[33, 5, 23, 48, 62, 61, 42, 55, 72, 66, 83, 79, 74, 64, 73, 69, 94] 4\n",
      "[33, 5, 23, 48, 62, 61, 42, 55, 72, 66, 83, 79, 74, 64, 73, 69, 94] 4\n",
      "[33, 5, 23, 48, 62, 61, 42, 55, 72, 66, 83, 79, 74, 64, 73, 69, 94] 4\n",
      "[33, 5, 23, 48, 62, 61, 42, 55, 72, 66, 83, 79, 74, 64, 73, 69, 94] 4\n",
      "[33, 5, 23, 48, 62, 61, 42, 55, 72, 66, 83, 79, 74, 64, 73, 69, 94] 4\n",
      "[33, 5, 23, 48, 62, 61, 42, 55, 72, 66, 83, 79, 74, 64, 73, 69, 94] 4\n",
      "[33, 5, 23, 48, 62, 61, 42, 55, 72, 66, 83, 79, 74, 64, 73, 69, 94] 4\n",
      "[33, 5, 23, 48, 62, 61, 42, 55, 72, 64, 83, 79, 74, 66, 73, 69, 94] 4\n",
      "[33, 5, 23, 48, 62, 61, 42, 55, 72, 64, 73, 79, 74, 66, 83, 69, 94] 4\n",
      "[33, 5, 23, 48, 62, 61, 42, 55, 72, 64, 73, 69, 74, 66, 83, 79, 94] 4\n",
      "[33, 5, 23, 48, 62, 61, 42, 55, 72, 64, 73, 69, 74, 66, 83, 79, 94] 3\n",
      "[33, 5, 23, 48, 62, 61, 42, 55, 72, 64, 73, 69, 74, 66, 83, 79, 94] 3\n",
      "[33, 5, 23, 48, 62, 61, 42, 55, 72, 64, 73, 69, 74, 66, 83, 79, 94] 3\n",
      "[33, 5, 23, 48, 62, 61, 42, 55, 72, 64, 73, 69, 74, 66, 83, 79, 94] 3\n",
      "[33, 5, 23, 42, 62, 61, 48, 55, 72, 64, 73, 69, 74, 66, 83, 79, 94] 3\n",
      "[33, 5, 23, 42, 55, 61, 48, 62, 72, 64, 73, 69, 74, 66, 83, 79, 94] 3\n",
      "[33, 5, 23, 42, 55, 61, 48, 62, 72, 64, 73, 69, 74, 66, 83, 79, 94] 3\n",
      "[33, 5, 23, 42, 55, 61, 48, 62, 72, 64, 73, 69, 74, 66, 83, 79, 94] 3\n",
      "[33, 5, 23, 42, 55, 61, 48, 62, 72, 64, 73, 69, 74, 66, 83, 79, 94] 3\n",
      "[33, 5, 23, 42, 55, 61, 48, 62, 69, 64, 73, 72, 74, 66, 83, 79, 94] 3\n",
      "[33, 5, 23, 42, 55, 61, 48, 62, 69, 64, 73, 72, 74, 66, 83, 79, 94] 3\n",
      "[33, 5, 23, 42, 55, 61, 48, 62, 69, 64, 66, 72, 74, 73, 83, 79, 94] 3\n",
      "[33, 5, 23, 42, 55, 61, 48, 62, 69, 64, 66, 72, 74, 73, 83, 79, 94] 3\n",
      "[33, 5, 23, 42, 55, 61, 48, 62, 69, 64, 66, 72, 74, 73, 83, 79, 94] 3\n",
      "[33, 5, 23, 42, 55, 61, 48, 62, 69, 64, 66, 72, 74, 73, 83, 79, 94] 2\n",
      "[23, 5, 33, 42, 55, 61, 48, 62, 69, 64, 66, 72, 74, 73, 83, 79, 94] 2\n",
      "[23, 5, 33, 42, 55, 61, 48, 62, 69, 64, 66, 72, 74, 73, 83, 79, 94] 2\n",
      "[23, 5, 33, 42, 55, 61, 48, 62, 69, 64, 66, 72, 74, 73, 83, 79, 94] 2\n",
      "[23, 5, 33, 42, 55, 61, 48, 62, 69, 64, 66, 72, 74, 73, 83, 79, 94] 2\n",
      "[23, 5, 33, 42, 48, 61, 55, 62, 69, 64, 66, 72, 74, 73, 83, 79, 94] 2\n",
      "[23, 5, 33, 42, 48, 61, 55, 62, 69, 64, 66, 72, 74, 73, 83, 79, 94] 2\n",
      "[23, 5, 33, 42, 48, 61, 55, 62, 69, 64, 66, 72, 74, 73, 83, 79, 94] 2\n",
      "[23, 5, 33, 42, 48, 61, 55, 62, 69, 64, 66, 72, 74, 73, 83, 79, 94] 2\n",
      "[23, 5, 33, 42, 48, 61, 55, 62, 66, 64, 69, 72, 74, 73, 83, 79, 94] 2\n",
      "[23, 5, 33, 42, 48, 61, 55, 62, 66, 64, 69, 72, 74, 73, 83, 79, 94] 2\n",
      "[23, 5, 33, 42, 48, 61, 55, 62, 66, 64, 69, 72, 74, 73, 83, 79, 94] 2\n",
      "[23, 5, 33, 42, 48, 61, 55, 62, 66, 64, 69, 72, 74, 73, 83, 79, 94] 2\n",
      "[23, 5, 33, 42, 48, 61, 55, 62, 66, 64, 69, 72, 74, 73, 83, 79, 94] 2\n",
      "[23, 5, 33, 42, 48, 61, 55, 62, 66, 64, 69, 72, 74, 73, 83, 79, 94] 2\n",
      "[23, 5, 33, 42, 48, 61, 55, 62, 66, 64, 69, 72, 74, 73, 83, 79, 94] 1\n",
      "[5, 23, 33, 42, 48, 61, 55, 62, 66, 64, 69, 72, 74, 73, 83, 79, 94] 1\n",
      "[5, 23, 33, 42, 48, 61, 55, 62, 66, 64, 69, 72, 74, 73, 83, 79, 94] 1\n",
      "[5, 23, 33, 42, 48, 61, 55, 62, 66, 64, 69, 72, 74, 73, 83, 79, 94] 1\n",
      "[5, 23, 33, 42, 48, 61, 55, 62, 66, 64, 69, 72, 74, 73, 83, 79, 94] 1\n",
      "[5, 23, 33, 42, 48, 61, 55, 62, 66, 64, 69, 72, 74, 73, 83, 79, 94] 1\n",
      "[5, 23, 33, 42, 48, 55, 61, 62, 66, 64, 69, 72, 74, 73, 83, 79, 94] 1\n",
      "[5, 23, 33, 42, 48, 55, 61, 62, 66, 64, 69, 72, 74, 73, 83, 79, 94] 1\n",
      "[5, 23, 33, 42, 48, 55, 61, 62, 66, 64, 69, 72, 74, 73, 83, 79, 94] 1\n",
      "[5, 23, 33, 42, 48, 55, 61, 62, 64, 66, 69, 72, 74, 73, 83, 79, 94] 1\n",
      "[5, 23, 33, 42, 48, 55, 61, 62, 64, 66, 69, 72, 74, 73, 83, 79, 94] 1\n",
      "[5, 23, 33, 42, 48, 55, 61, 62, 64, 66, 69, 72, 74, 73, 83, 79, 94] 1\n",
      "[5, 23, 33, 42, 48, 55, 61, 62, 64, 66, 69, 72, 74, 73, 83, 79, 94] 1\n",
      "[5, 23, 33, 42, 48, 55, 61, 62, 64, 66, 69, 72, 73, 74, 83, 79, 94] 1\n",
      "[5, 23, 33, 42, 48, 55, 61, 62, 64, 66, 69, 72, 73, 74, 83, 79, 94] 1\n",
      "[5, 23, 33, 42, 48, 55, 61, 62, 64, 66, 69, 72, 73, 74, 79, 83, 94] 1\n"
     ]
    },
    {
     "data": {
      "text/plain": [
       "[5, 23, 33, 42, 48, 55, 61, 62, 64, 66, 69, 72, 73, 74, 79, 83, 94]"
      ]
     },
     "execution_count": 151,
     "metadata": {},
     "output_type": "execute_result"
    }
   ],
   "source": [
    "N = random.randint(10, 20)\n",
    "A = random.sample(range(100), N)\n",
    "\n",
    "shell_sort(A, gaps = \"Pratt\")"
   ]
  },
  {
   "cell_type": "markdown",
   "metadata": {},
   "source": [
    "### Упражнение 6. Экспериментальая оценка временной сложности алгоритма\n",
    "\n",
    "Проверьте, верны ли для реализованных Вами алгоритмов их теоретические временные сложности. Исследуйте сортировки выбором, пузырьком, вставками, расческой. Исследуйте сортировку Шелла в вариантах с последовательностями Седжвика, Пратта и в оригинальном варианте с делением длины промежутка пополам.\n",
    "\n",
    "Для того чтобы убедиться в том, что тестируемая сложность $O(f(N))$ подходит, надо изучить зависимость отношения $\\frac{T(N)}{f(N)}$ от $N$. Если $\\displaystyle\\lim_{N\\to \\infty}\\frac{T(N)}{f(N)} = С$, где $C > 0$, то сложность алгоритма не превосходит $O(f(N))$. Если $C > 0$, то сложность алгоритма - $O(f(N))$.\n",
    "\n",
    "Для квадратичных сортировок брать значения $N$, превышающие $10^5$ не следует, так как сортировка будет занимать слишком много времени. У меня сортировка пузырьком списка, состоящего из $10^5$ целых чисел заняла почти 15 мин.\n",
    "\n",
    "Для измерения времени сортировки используйте модуль [`timeit`](https://docs.python.org/3/library/timeit.html). Аргумент `stmt` функции `timeit.timeit()` содержит код, выполняемый `number` раз, после чего вычисляется среднее время его выполнения. Аргумент `setup` содержит код, который выполняется **1** раз до повторных запусков `stmt`. С помощью аргумента `globals` в `timeit.timeit()` передаются имена, необходимые для успешного выполнения `stmt` и `setup`. \n",
    "\n",
    "Обратите внимание, что в `stmt` инициализируется список `a`. Если этого не делать, то начиная со второго повторения `a` будет упорядочен до сортировки.\n",
    "\n",
    "Ниже приведен пример измерения времени сортировки с помощью метода `list.sort()`. Встроенная сортировка Python использует алгоритм [timsort](https://ru.wikipedia.org/wiki/Timsort), который сочетает в себе сортировки вставками и слиянием. Теоретическая сложность алгоритма $O(N \\cdot \\log N)$, однако у меня получилось, что сложность алгоритма ближе к $O(N \\cdot \\log ^2 N)$"
   ]
  },
  {
   "cell_type": "code",
   "execution_count": 3,
   "metadata": {},
   "outputs": [],
   "source": [
    "import timeit\n",
    "import math\n",
    "import matplotlib.pyplot as plt\n",
    "\n",
    "%matplotlib inline"
   ]
  },
  {
   "cell_type": "code",
   "execution_count": null,
   "metadata": {},
   "outputs": [
    {
     "name": "stdout",
     "output_type": "stream",
     "text": [
      "8 length done\n",
      "16 length done\n",
      "32 length done\n",
      "64 length done\n",
      "128 length done\n",
      "256 length done\n",
      "512 length done\n",
      "1024 length done\n",
      "2048 length done\n",
      "4096 length done\n",
      "8192 length done\n",
      "16384 length done\n",
      "32768 length done\n",
      "65536 length done\n",
      "131072 length done\n",
      "262144 length done\n"
     ]
    }
   ],
   "source": [
    "start = 8\n",
    "factor = 2\n",
    "num_points = 20\n",
    "num_repeats = 10\n",
    "N_min = start\n",
    "N_max = start * factor**(num_points - 1)\n",
    "N_list = []\n",
    "T_list = []\n",
    "nlogn_list = []\n",
    "nlogn2_list = []\n",
    "N = N_min\n",
    "setup = \"\"\"\n",
    "import random\n",
    "L=list(range(N))\n",
    "random.shuffle(L)\n",
    "def comb_sort(A):\n",
    "    \n",
    "    gap = len(A)\n",
    "    decr_fact = 1.247\n",
    "    Sorted = False\n",
    "    \n",
    "    while Sorted == False:\n",
    "        \n",
    "        gap = int(gap / decr_fact)\n",
    "        if gap <= 1:\n",
    "            gap = 1\n",
    "            Sorted = True\n",
    "        \n",
    "        # A single \"comb\" over the input list\n",
    "        i = 0\n",
    "        while i + gap < len(A):\n",
    "            if A[i] > A[i + gap]:\n",
    "                A[i], A[i + gap] = A[i + gap], A[i]\n",
    "                Sorted = False\n",
    "            i += 1\n",
    "\"\"\"\n",
    "while N <= N_max:\n",
    "    T = timeit.timeit(\n",
    "        stmt=\"a = L[:];comb_sort(a)\",\n",
    "        setup=setup,\n",
    "        number=num_repeats,\n",
    "        globals=dict(N=N)\n",
    "    )\n",
    "    T_copy = timeit.timeit(\n",
    "        stmt=\"a = L[:]\",\n",
    "        setup=setup,\n",
    "        number=num_repeats,\n",
    "        globals=dict(N=N)\n",
    "    )\n",
    "    T -= T_copy\n",
    "    N_list.append(N)\n",
    "    T_list.append(T)\n",
    "    nlogn_list.append(T / (N ** 2))\n",
    "    nlogn2_list.append(T / (N ** 2 * math.log(N)))\n",
    "    print(\"{} length done\".format(N))\n",
    "    N *= factor\n",
    "    \n",
    "plt.plot(N_list, nlogn_list)\n",
    "plt.xlabel(r\"${N}$\", fontsize=18)\n",
    "plt.ylabel(r\"$\\frac{T(N)}{N \\cdot \\log N}$\", fontsize=18)\n",
    "plt.xscale('log')\n",
    "plt.yscale('log')\n",
    "plt.title('timsort: test time estimate $O(N \\cdot log N)$', fontsize=16)\n",
    "plt.show()\n",
    "\n",
    "plt.plot(N_list, nlogn2_list)\n",
    "plt.xlabel(r\"${N}$\", fontsize=18)\n",
    "plt.ylabel(r\"$\\frac{T(N)}{N \\cdot \\log^2 N}$\", fontsize=18)\n",
    "plt.xscale('log')\n",
    "plt.yscale('log')\n",
    "plt.title('timsort: test time estimate $O(N \\cdot log ^2 N)$', fontsize=16)\n",
    "plt.show()"
   ]
  },
  {
   "cell_type": "markdown",
   "metadata": {},
   "source": [
    "### Упражнение 7. Слияние\n",
    "\n",
    "В двух файлах <font color=green>seq1.txt</font>, <font color=green>seq2.txt</font> записаны возрастающие последовательности целых чисел. Объедините эти последовательности в одну возрастающую последовательность и запишите ее в третий файл. Постарайтесь сделать алгоритм однопроходным.\n",
    "\n",
    "#### Пример\n",
    "\n",
    "| <font size=3>Входные последовательности</font> | <font size=3>Выходная последовательность</font> |\n",
    "| :---: | :---: |\n",
    "| <font size=3>1 3 5 7<br>2 3 4 5 6</font> | <font size=3>1 2 3 3 4 5 5 6 7</font> |"
   ]
  },
  {
   "cell_type": "code",
   "execution_count": 40,
   "metadata": {},
   "outputs": [
    {
     "data": {
      "text/plain": [
       "[1, 2, 3, 3, 4, 5, 5, 6, 7]"
      ]
     },
     "execution_count": 40,
     "metadata": {},
     "output_type": "execute_result"
    }
   ],
   "source": [
    "seq_1 = [1, 3, 5, 7]\n",
    "seq_2 = [2, 3, 4, 5, 6]\n",
    "\n",
    "def merge(seq_1, seq_2):\n",
    "    \n",
    "    merged_seq = []\n",
    "    i, j = (0, 0)\n",
    "    while True:\n",
    "        \n",
    "        # Если 1-ая посл. еще не кончилась и либо 2 посл. кончилась, либо значение в seq_1 <= чем в seq_2\n",
    "        if (i < len(seq_1)) and (j == len(seq_2) or seq_1[i] <= seq_2[j]):\n",
    "            merged_seq.append(seq_1[i])\n",
    "            i += 1\n",
    "        \n",
    "        # Иначе если посл.2 не кончилась\n",
    "        elif j < len(seq_2):\n",
    "            merged_seq.append(seq_2[j])\n",
    "            j += 1\n",
    "            \n",
    "        # Если обе последовательности кончились\n",
    "        else:\n",
    "            break\n",
    "    \n",
    "    return merged_seq\n",
    "\n",
    "merge(seq_1, seq_2)"
   ]
  },
  {
   "cell_type": "code",
   "execution_count": 39,
   "metadata": {},
   "outputs": [
    {
     "data": {
      "text/plain": [
       "[1, 2, 3, 3, 4, 5, 5, 6, 7]"
      ]
     },
     "execution_count": 39,
     "metadata": {},
     "output_type": "execute_result"
    }
   ],
   "source": [
    "seq_1 = [1, 3, 5, 7]\n",
    "seq_2 = [2, 3, 4, 5, 6]\n",
    "\n",
    "# Версия с лекции\n",
    "def merge2(A, B):\n",
    "    \n",
    "    C = [0] * (len(A) + len(B))\n",
    "    i = k = n = 0\n",
    "    \n",
    "    while (i < len(A)) and (k < len(B)):\n",
    "        if A[i] <= B[k]:\n",
    "            C[n] = A[i]\n",
    "            i += 1\n",
    "            n += 1\n",
    "        else:\n",
    "            C[n] = B[k]\n",
    "            k += 1\n",
    "            n += 1\n",
    "    while i < len(A):\n",
    "        C[n] = A[i]\n",
    "        i += 1\n",
    "        n += 1\n",
    "    while k < len(B):\n",
    "        C[n] = B[k]\n",
    "        k += 1\n",
    "        n += 1\n",
    "    return C\n",
    "\n",
    "merge2(seq_1, seq_2)"
   ]
  }
 ],
 "metadata": {
  "kernelspec": {
   "display_name": "Python 3",
   "language": "python",
   "name": "python3"
  },
  "language_info": {
   "codemirror_mode": {
    "name": "ipython",
    "version": 3
   },
   "file_extension": ".py",
   "mimetype": "text/x-python",
   "name": "python",
   "nbconvert_exporter": "python",
   "pygments_lexer": "ipython3",
   "version": "3.6.5"
  }
 },
 "nbformat": 4,
 "nbformat_minor": 2
}

{
 "cells": [
  {
   "cell_type": "markdown",
   "metadata": {},
   "source": [
    "# Упражнение 1. Музей\n",
    "\n",
    "В музее регистрируется в течение суток время прихода и ухода каждого посетителя. Таким образом, за день получены `N` пар значений, где первое значение в паре показывает время прихода посетителя и второе значение - время его ухода. Требуется найти максимальное число посетителей, которые находились в музее одновременно.\n",
    "\n",
    "Можно использовать встроенную функцию `sorted()`. Алгоритм должен иметь временную сложность $N \\log N$"
   ]
  },
  {
   "cell_type": "code",
   "execution_count": 2,
   "metadata": {},
   "outputs": [],
   "source": [
    "times = [(1, 4), (2, 5), (3, 4), (1, 5), (5, 9), (6, 8), (7, 10), (1, 9), (8, 9)]\n",
    "\n",
    "times_in = sorted(list(map(lambda x: x[0], times)))\n",
    "times_out = sorted(list(map(lambda x: x[1], times)))\n",
    "\n",
    "# Список всех временных точек, которые появились во временах прихода/ухода\n",
    "time_points = list(set(times_in) | set(times_out))"
   ]
  },
  {
   "cell_type": "code",
   "execution_count": 12,
   "metadata": {},
   "outputs": [],
   "source": [
    "# Словарь {Временная точка -> число пришедших посетителей в этот момент}\n",
    "change_n_visitors = {t: 0 for t in time_points}\n",
    "\n",
    "for t in times_in:\n",
    "    change_n_visitors[t] += 1\n",
    "    \n",
    "for t in times_out:\n",
    "    change_n_visitors[t] -= 1"
   ]
  },
  {
   "cell_type": "code",
   "execution_count": 20,
   "metadata": {},
   "outputs": [],
   "source": [
    "# Максимальное число посетителей за все предыдущие моменты\n",
    "max_visitors = 0\n",
    "# Полное число посетителей в данный момент\n",
    "n_visitors = 0\n",
    "\n",
    "for t in time_points:\n",
    "    n_visitors += change_n_visitors[t]\n",
    "    if n_visitors > max_visitors:\n",
    "        max_visitors = n_visitors"
   ]
  },
  {
   "cell_type": "code",
   "execution_count": 22,
   "metadata": {},
   "outputs": [
    {
     "name": "stdout",
     "output_type": "stream",
     "text": [
      "5\n"
     ]
    }
   ],
   "source": [
    "print(max_visitors)"
   ]
  },
  {
   "cell_type": "markdown",
   "metadata": {},
   "source": [
    "# Упражнение 2. Гайки и болты\n",
    "\n",
    "У Вас есть коробка с `N` гайками и коробка с `N` болтами. Известно, что для каждого болта в коробке из-под гаек есть пара подходящего размера. Если взять гайку и болт, то можно определить, подходят ли они друг другу, а если не подходят, то понять, что больше - гайка или болт. В то же врямя невозможно сравнить гайку с гайкой или болт с болтом.\n",
    "\n",
    "Напишите алгоритм, который найдет пару каждому крепежному изделию. Придумайте алгоритм с временной сложностью $N \\log N$. Постарайтесь сделать так, чтобы он работал в том случае, если в коробках есть изделия одинакового размера."
   ]
  },
  {
   "cell_type": "code",
   "execution_count": 9,
   "metadata": {},
   "outputs": [],
   "source": [
    "from random import shuffle\n",
    "\n",
    "nuts = [1, 3, 2, 5, 8, 3.4, 5.6, 3]\n",
    "bolts = [1, 3, 2, 5, 8, 3.4, 5.6, 3]\n",
    "shuffle(bolts)"
   ]
  },
  {
   "cell_type": "code",
   "execution_count": 62,
   "metadata": {},
   "outputs": [],
   "source": [
    "pairs = []\n",
    "\n",
    "def find_matches(nuts, bolts):\n",
    "    \n",
    "    if len(nuts) == 0 and len(bolts) == 0:\n",
    "        return []\n",
    "    elif len(nuts) == 1 and len(bolts) == 1:\n",
    "        return [(nuts[0], bolts[0])]\n",
    "    elif len(nuts) == 1 or len(bolts) == 1:\n",
    "        # print(nuts, bolts)\n",
    "        raise Exception\n",
    "    \n",
    "\n",
    "    pivot = nuts[0]\n",
    "    nuts_left, i, nuts_right = 0, 1, len(nuts) - 1\n",
    "    # print(nuts_left, i, nuts_right)\n",
    "    while i <= nuts_right:\n",
    "        if nuts[i] < pivot:\n",
    "            nuts[i], nuts[nuts_left] =  nuts[nuts_left], nuts[i]\n",
    "            nuts_left += 1\n",
    "            i += 1\n",
    "        elif nuts[i] == pivot:\n",
    "            i += 1\n",
    "        else:\n",
    "            nuts[i], nuts[nuts_right] =  nuts[nuts_right], nuts[i]\n",
    "            nuts_right -= 1\n",
    "    \n",
    "    bolts.insert(0, pivot)\n",
    "    bolts_left, i, bolts_right = 0, 1, len(bolts) - 1\n",
    "    while i <= bolts_right:\n",
    "        if bolts[i] < pivot:\n",
    "            bolts[i], bolts[bolts_left] =  bolts[bolts_left], bolts[i]\n",
    "            bolts_left += 1\n",
    "            i += 1\n",
    "        elif bolts[i] == pivot:\n",
    "            i += 1\n",
    "        else:\n",
    "            bolts[i], bolts[bolts_right] =  bolts[bolts_right], bolts[i]\n",
    "            bolts_right -= 1\n",
    "    \n",
    "    print('pivot: ', pivot)\n",
    "    print('left: ', nuts[:nuts_left], bolts[:bolts_left])\n",
    "    pairs.extend(find_matches(nuts[:nuts_left], bolts[:bolts_left]))\n",
    "    # Возвращаем на 1 болт меньше, т.к. добавили лишний pivot\n",
    "    pairs.extend(list(zip(nuts[nuts_left: nuts_right + 1], bolts[bolts_left: bolts_right])))\n",
    "    print('right: ', nuts[nuts_right + 1:], bolts[bolts_right + 1:])\n",
    "    pairs.extend(find_matches(nuts[nuts_right + 1:], bolts[bolts_right + 1:]))"
   ]
  },
  {
   "cell_type": "code",
   "execution_count": 63,
   "metadata": {
    "scrolled": true
   },
   "outputs": [
    {
     "name": "stdout",
     "output_type": "stream",
     "text": [
      "pivot:  1\n",
      "left:  [] []\n",
      "right:  [2, 5, 8, 3.4, 5.6, 3, 3] [8, 3, 2, 5.6, 3.4, 3, 5]\n",
      "pivot:  2\n",
      "left:  [] []\n",
      "right:  [8, 3.4, 5.6, 3, 3, 5] [3, 5.6, 3.4, 3, 5, 8]\n",
      "pivot:  8\n",
      "left:  [3.4, 5.6, 3, 3, 5] [3, 5.6, 3.4, 3, 5]\n",
      "pivot:  3.4\n",
      "left:  [3, 3] [3, 3]\n",
      "pivot:  3\n",
      "left:  [] []\n",
      "right:  [] []\n"
     ]
    },
    {
     "ename": "TypeError",
     "evalue": "'NoneType' object is not iterable",
     "output_type": "error",
     "traceback": [
      "\u001b[1;31m---------------------------------------------------------------------------\u001b[0m",
      "\u001b[1;31mTypeError\u001b[0m                                 Traceback (most recent call last)",
      "\u001b[1;32m<ipython-input-63-cc5dfa9a8773>\u001b[0m in \u001b[0;36m<module>\u001b[1;34m()\u001b[0m\n\u001b[1;32m----> 1\u001b[1;33m \u001b[0mfind_matches\u001b[0m\u001b[1;33m(\u001b[0m\u001b[0mnuts\u001b[0m\u001b[1;33m,\u001b[0m \u001b[0mbolts\u001b[0m\u001b[1;33m)\u001b[0m\u001b[1;33m\u001b[0m\u001b[0m\n\u001b[0m",
      "\u001b[1;32m<ipython-input-62-b948ce2e1767>\u001b[0m in \u001b[0;36mfind_matches\u001b[1;34m(nuts, bolts)\u001b[0m\n\u001b[0;32m     45\u001b[0m     \u001b[0mpairs\u001b[0m\u001b[1;33m.\u001b[0m\u001b[0mextend\u001b[0m\u001b[1;33m(\u001b[0m\u001b[0mlist\u001b[0m\u001b[1;33m(\u001b[0m\u001b[0mzip\u001b[0m\u001b[1;33m(\u001b[0m\u001b[0mnuts\u001b[0m\u001b[1;33m[\u001b[0m\u001b[0mnuts_left\u001b[0m\u001b[1;33m:\u001b[0m \u001b[0mnuts_right\u001b[0m \u001b[1;33m+\u001b[0m \u001b[1;36m1\u001b[0m\u001b[1;33m]\u001b[0m\u001b[1;33m,\u001b[0m \u001b[0mbolts\u001b[0m\u001b[1;33m[\u001b[0m\u001b[0mbolts_left\u001b[0m\u001b[1;33m:\u001b[0m \u001b[0mbolts_right\u001b[0m\u001b[1;33m]\u001b[0m\u001b[1;33m)\u001b[0m\u001b[1;33m)\u001b[0m\u001b[1;33m)\u001b[0m\u001b[1;33m\u001b[0m\u001b[0m\n\u001b[0;32m     46\u001b[0m     \u001b[0mprint\u001b[0m\u001b[1;33m(\u001b[0m\u001b[1;34m'right: '\u001b[0m\u001b[1;33m,\u001b[0m \u001b[0mnuts\u001b[0m\u001b[1;33m[\u001b[0m\u001b[0mnuts_right\u001b[0m \u001b[1;33m+\u001b[0m \u001b[1;36m1\u001b[0m\u001b[1;33m:\u001b[0m\u001b[1;33m]\u001b[0m\u001b[1;33m,\u001b[0m \u001b[0mbolts\u001b[0m\u001b[1;33m[\u001b[0m\u001b[0mbolts_right\u001b[0m \u001b[1;33m+\u001b[0m \u001b[1;36m1\u001b[0m\u001b[1;33m:\u001b[0m\u001b[1;33m]\u001b[0m\u001b[1;33m)\u001b[0m\u001b[1;33m\u001b[0m\u001b[0m\n\u001b[1;32m---> 47\u001b[1;33m     \u001b[0mpairs\u001b[0m\u001b[1;33m.\u001b[0m\u001b[0mextend\u001b[0m\u001b[1;33m(\u001b[0m\u001b[0mfind_matches\u001b[0m\u001b[1;33m(\u001b[0m\u001b[0mnuts\u001b[0m\u001b[1;33m[\u001b[0m\u001b[0mnuts_right\u001b[0m \u001b[1;33m+\u001b[0m \u001b[1;36m1\u001b[0m\u001b[1;33m:\u001b[0m\u001b[1;33m]\u001b[0m\u001b[1;33m,\u001b[0m \u001b[0mbolts\u001b[0m\u001b[1;33m[\u001b[0m\u001b[0mbolts_right\u001b[0m \u001b[1;33m+\u001b[0m \u001b[1;36m1\u001b[0m\u001b[1;33m:\u001b[0m\u001b[1;33m]\u001b[0m\u001b[1;33m)\u001b[0m\u001b[1;33m)\u001b[0m\u001b[1;33m\u001b[0m\u001b[0m\n\u001b[0m",
      "\u001b[1;32m<ipython-input-62-b948ce2e1767>\u001b[0m in \u001b[0;36mfind_matches\u001b[1;34m(nuts, bolts)\u001b[0m\n\u001b[0;32m     45\u001b[0m     \u001b[0mpairs\u001b[0m\u001b[1;33m.\u001b[0m\u001b[0mextend\u001b[0m\u001b[1;33m(\u001b[0m\u001b[0mlist\u001b[0m\u001b[1;33m(\u001b[0m\u001b[0mzip\u001b[0m\u001b[1;33m(\u001b[0m\u001b[0mnuts\u001b[0m\u001b[1;33m[\u001b[0m\u001b[0mnuts_left\u001b[0m\u001b[1;33m:\u001b[0m \u001b[0mnuts_right\u001b[0m \u001b[1;33m+\u001b[0m \u001b[1;36m1\u001b[0m\u001b[1;33m]\u001b[0m\u001b[1;33m,\u001b[0m \u001b[0mbolts\u001b[0m\u001b[1;33m[\u001b[0m\u001b[0mbolts_left\u001b[0m\u001b[1;33m:\u001b[0m \u001b[0mbolts_right\u001b[0m\u001b[1;33m]\u001b[0m\u001b[1;33m)\u001b[0m\u001b[1;33m)\u001b[0m\u001b[1;33m)\u001b[0m\u001b[1;33m\u001b[0m\u001b[0m\n\u001b[0;32m     46\u001b[0m     \u001b[0mprint\u001b[0m\u001b[1;33m(\u001b[0m\u001b[1;34m'right: '\u001b[0m\u001b[1;33m,\u001b[0m \u001b[0mnuts\u001b[0m\u001b[1;33m[\u001b[0m\u001b[0mnuts_right\u001b[0m \u001b[1;33m+\u001b[0m \u001b[1;36m1\u001b[0m\u001b[1;33m:\u001b[0m\u001b[1;33m]\u001b[0m\u001b[1;33m,\u001b[0m \u001b[0mbolts\u001b[0m\u001b[1;33m[\u001b[0m\u001b[0mbolts_right\u001b[0m \u001b[1;33m+\u001b[0m \u001b[1;36m1\u001b[0m\u001b[1;33m:\u001b[0m\u001b[1;33m]\u001b[0m\u001b[1;33m)\u001b[0m\u001b[1;33m\u001b[0m\u001b[0m\n\u001b[1;32m---> 47\u001b[1;33m     \u001b[0mpairs\u001b[0m\u001b[1;33m.\u001b[0m\u001b[0mextend\u001b[0m\u001b[1;33m(\u001b[0m\u001b[0mfind_matches\u001b[0m\u001b[1;33m(\u001b[0m\u001b[0mnuts\u001b[0m\u001b[1;33m[\u001b[0m\u001b[0mnuts_right\u001b[0m \u001b[1;33m+\u001b[0m \u001b[1;36m1\u001b[0m\u001b[1;33m:\u001b[0m\u001b[1;33m]\u001b[0m\u001b[1;33m,\u001b[0m \u001b[0mbolts\u001b[0m\u001b[1;33m[\u001b[0m\u001b[0mbolts_right\u001b[0m \u001b[1;33m+\u001b[0m \u001b[1;36m1\u001b[0m\u001b[1;33m:\u001b[0m\u001b[1;33m]\u001b[0m\u001b[1;33m)\u001b[0m\u001b[1;33m)\u001b[0m\u001b[1;33m\u001b[0m\u001b[0m\n\u001b[0m",
      "\u001b[1;32m<ipython-input-62-b948ce2e1767>\u001b[0m in \u001b[0;36mfind_matches\u001b[1;34m(nuts, bolts)\u001b[0m\n\u001b[0;32m     41\u001b[0m     \u001b[0mprint\u001b[0m\u001b[1;33m(\u001b[0m\u001b[1;34m'pivot: '\u001b[0m\u001b[1;33m,\u001b[0m \u001b[0mpivot\u001b[0m\u001b[1;33m)\u001b[0m\u001b[1;33m\u001b[0m\u001b[0m\n\u001b[0;32m     42\u001b[0m     \u001b[0mprint\u001b[0m\u001b[1;33m(\u001b[0m\u001b[1;34m'left: '\u001b[0m\u001b[1;33m,\u001b[0m \u001b[0mnuts\u001b[0m\u001b[1;33m[\u001b[0m\u001b[1;33m:\u001b[0m\u001b[0mnuts_left\u001b[0m\u001b[1;33m]\u001b[0m\u001b[1;33m,\u001b[0m \u001b[0mbolts\u001b[0m\u001b[1;33m[\u001b[0m\u001b[1;33m:\u001b[0m\u001b[0mbolts_left\u001b[0m\u001b[1;33m]\u001b[0m\u001b[1;33m)\u001b[0m\u001b[1;33m\u001b[0m\u001b[0m\n\u001b[1;32m---> 43\u001b[1;33m     \u001b[0mpairs\u001b[0m\u001b[1;33m.\u001b[0m\u001b[0mextend\u001b[0m\u001b[1;33m(\u001b[0m\u001b[0mfind_matches\u001b[0m\u001b[1;33m(\u001b[0m\u001b[0mnuts\u001b[0m\u001b[1;33m[\u001b[0m\u001b[1;33m:\u001b[0m\u001b[0mnuts_left\u001b[0m\u001b[1;33m]\u001b[0m\u001b[1;33m,\u001b[0m \u001b[0mbolts\u001b[0m\u001b[1;33m[\u001b[0m\u001b[1;33m:\u001b[0m\u001b[0mbolts_left\u001b[0m\u001b[1;33m]\u001b[0m\u001b[1;33m)\u001b[0m\u001b[1;33m)\u001b[0m\u001b[1;33m\u001b[0m\u001b[0m\n\u001b[0m\u001b[0;32m     44\u001b[0m     \u001b[1;31m# Возвращаем на 1 болт меньше, т.к. добавили лишний pivot\u001b[0m\u001b[1;33m\u001b[0m\u001b[1;33m\u001b[0m\u001b[0m\n\u001b[0;32m     45\u001b[0m     \u001b[0mpairs\u001b[0m\u001b[1;33m.\u001b[0m\u001b[0mextend\u001b[0m\u001b[1;33m(\u001b[0m\u001b[0mlist\u001b[0m\u001b[1;33m(\u001b[0m\u001b[0mzip\u001b[0m\u001b[1;33m(\u001b[0m\u001b[0mnuts\u001b[0m\u001b[1;33m[\u001b[0m\u001b[0mnuts_left\u001b[0m\u001b[1;33m:\u001b[0m \u001b[0mnuts_right\u001b[0m \u001b[1;33m+\u001b[0m \u001b[1;36m1\u001b[0m\u001b[1;33m]\u001b[0m\u001b[1;33m,\u001b[0m \u001b[0mbolts\u001b[0m\u001b[1;33m[\u001b[0m\u001b[0mbolts_left\u001b[0m\u001b[1;33m:\u001b[0m \u001b[0mbolts_right\u001b[0m\u001b[1;33m]\u001b[0m\u001b[1;33m)\u001b[0m\u001b[1;33m)\u001b[0m\u001b[1;33m)\u001b[0m\u001b[1;33m\u001b[0m\u001b[0m\n",
      "\u001b[1;32m<ipython-input-62-b948ce2e1767>\u001b[0m in \u001b[0;36mfind_matches\u001b[1;34m(nuts, bolts)\u001b[0m\n\u001b[0;32m     41\u001b[0m     \u001b[0mprint\u001b[0m\u001b[1;33m(\u001b[0m\u001b[1;34m'pivot: '\u001b[0m\u001b[1;33m,\u001b[0m \u001b[0mpivot\u001b[0m\u001b[1;33m)\u001b[0m\u001b[1;33m\u001b[0m\u001b[0m\n\u001b[0;32m     42\u001b[0m     \u001b[0mprint\u001b[0m\u001b[1;33m(\u001b[0m\u001b[1;34m'left: '\u001b[0m\u001b[1;33m,\u001b[0m \u001b[0mnuts\u001b[0m\u001b[1;33m[\u001b[0m\u001b[1;33m:\u001b[0m\u001b[0mnuts_left\u001b[0m\u001b[1;33m]\u001b[0m\u001b[1;33m,\u001b[0m \u001b[0mbolts\u001b[0m\u001b[1;33m[\u001b[0m\u001b[1;33m:\u001b[0m\u001b[0mbolts_left\u001b[0m\u001b[1;33m]\u001b[0m\u001b[1;33m)\u001b[0m\u001b[1;33m\u001b[0m\u001b[0m\n\u001b[1;32m---> 43\u001b[1;33m     \u001b[0mpairs\u001b[0m\u001b[1;33m.\u001b[0m\u001b[0mextend\u001b[0m\u001b[1;33m(\u001b[0m\u001b[0mfind_matches\u001b[0m\u001b[1;33m(\u001b[0m\u001b[0mnuts\u001b[0m\u001b[1;33m[\u001b[0m\u001b[1;33m:\u001b[0m\u001b[0mnuts_left\u001b[0m\u001b[1;33m]\u001b[0m\u001b[1;33m,\u001b[0m \u001b[0mbolts\u001b[0m\u001b[1;33m[\u001b[0m\u001b[1;33m:\u001b[0m\u001b[0mbolts_left\u001b[0m\u001b[1;33m]\u001b[0m\u001b[1;33m)\u001b[0m\u001b[1;33m)\u001b[0m\u001b[1;33m\u001b[0m\u001b[0m\n\u001b[0m\u001b[0;32m     44\u001b[0m     \u001b[1;31m# Возвращаем на 1 болт меньше, т.к. добавили лишний pivot\u001b[0m\u001b[1;33m\u001b[0m\u001b[1;33m\u001b[0m\u001b[0m\n\u001b[0;32m     45\u001b[0m     \u001b[0mpairs\u001b[0m\u001b[1;33m.\u001b[0m\u001b[0mextend\u001b[0m\u001b[1;33m(\u001b[0m\u001b[0mlist\u001b[0m\u001b[1;33m(\u001b[0m\u001b[0mzip\u001b[0m\u001b[1;33m(\u001b[0m\u001b[0mnuts\u001b[0m\u001b[1;33m[\u001b[0m\u001b[0mnuts_left\u001b[0m\u001b[1;33m:\u001b[0m \u001b[0mnuts_right\u001b[0m \u001b[1;33m+\u001b[0m \u001b[1;36m1\u001b[0m\u001b[1;33m]\u001b[0m\u001b[1;33m,\u001b[0m \u001b[0mbolts\u001b[0m\u001b[1;33m[\u001b[0m\u001b[0mbolts_left\u001b[0m\u001b[1;33m:\u001b[0m \u001b[0mbolts_right\u001b[0m\u001b[1;33m]\u001b[0m\u001b[1;33m)\u001b[0m\u001b[1;33m)\u001b[0m\u001b[1;33m)\u001b[0m\u001b[1;33m\u001b[0m\u001b[0m\n",
      "\u001b[1;31mTypeError\u001b[0m: 'NoneType' object is not iterable"
     ]
    }
   ],
   "source": [
    "find_matches(nuts, bolts)"
   ]
  },
  {
   "cell_type": "code",
   "execution_count": 53,
   "metadata": {},
   "outputs": [
    {
     "data": {
      "text/plain": [
       "[1, 3, 2, 5, 8, 3.4, 5.6, 3]"
      ]
     },
     "execution_count": 53,
     "metadata": {},
     "output_type": "execute_result"
    }
   ],
   "source": [
    "nuts"
   ]
  },
  {
   "cell_type": "code",
   "execution_count": 54,
   "metadata": {},
   "outputs": [
    {
     "data": {
      "text/plain": [
       "[5, 1, 8, 3, 2, 5.6, 3.4, 3]"
      ]
     },
     "execution_count": 54,
     "metadata": {},
     "output_type": "execute_result"
    }
   ],
   "source": [
    "bolts"
   ]
  },
  {
   "cell_type": "code",
   "execution_count": 38,
   "metadata": {},
   "outputs": [],
   "source": [
    "a.extend([])"
   ]
  },
  {
   "cell_type": "code",
   "execution_count": 39,
   "metadata": {},
   "outputs": [
    {
     "data": {
      "text/plain": [
       "[3, 5, 23, 7, 5, 6, 6]"
      ]
     },
     "execution_count": 39,
     "metadata": {},
     "output_type": "execute_result"
    }
   ],
   "source": [
    "a"
   ]
  },
  {
   "cell_type": "markdown",
   "metadata": {},
   "source": [
    "# Упражнение 3. Легкая сортировка\n",
    "\n",
    "Целые числа от `1` до `N` в списке `L` переставили случайным  образом. Напишите программу для сортировки списка `L`. Программа должна выполнять не более `N` перестановок и не использовать дополнительную память."
   ]
  },
  {
   "cell_type": "code",
   "execution_count": null,
   "metadata": {
    "collapsed": true
   },
   "outputs": [],
   "source": []
  }
 ],
 "metadata": {
  "kernelspec": {
   "display_name": "Python 3",
   "language": "python",
   "name": "python3"
  },
  "language_info": {
   "codemirror_mode": {
    "name": "ipython",
    "version": 3
   },
   "file_extension": ".py",
   "mimetype": "text/x-python",
   "name": "python",
   "nbconvert_exporter": "python",
   "pygments_lexer": "ipython3",
   "version": "3.6.5"
  }
 },
 "nbformat": 4,
 "nbformat_minor": 2
}

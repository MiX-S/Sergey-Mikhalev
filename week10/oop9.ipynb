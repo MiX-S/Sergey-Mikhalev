{
 "cells": [
  {
   "cell_type": "markdown",
   "metadata": {},
   "source": [
    "# <font color=blue>Итераторы и генераторы</font>\n",
    "\n",
    "## <font color=green>Итераторы</font>\n",
    "\n",
    "Итак, чем же является итератор? Итератор — это вспомогательный объект, возвращающий следующий элемент всякий раз, когда выполняется вызов функции `next()` с передачей этого объекта в качестве аргумента. Таким образом, любой объект, предоставляющий метод `__next__()`, является итератором, возвращающим следующий элемент при вызове этого метода, при этом совершенно неважно как именно это происходит.\n",
    "\n",
    "Итак, итератор — это некая фабрика по производству значений. Всякий раз, когда вы обращаетесь к ней с просьбой \"давай следующее значение\", она знает как сделать это, поскольку сохраняет своё внутреннее состояние между обращениями к ней.\n",
    "\n",
    "Существует бесчисленное множество примеров использования итераторов. Например, все функции пакета itertools возвращают итераторы. \n",
    "\n",
    "Некоторые из которых генерируют бесконечные последовательности:"
   ]
  },
  {
   "cell_type": "code",
   "execution_count": 1,
   "metadata": {},
   "outputs": [
    {
     "name": "stdout",
     "output_type": "stream",
     "text": [
      "13\n",
      "14\n"
     ]
    }
   ],
   "source": [
    "from itertools import count\n",
    "\n",
    "counter = count(start=13)\n",
    "print(next(counter))\n",
    "print(next(counter))"
   ]
  },
  {
   "cell_type": "markdown",
   "metadata": {},
   "source": [
    "В следующем примере генерируются все возможные перестановки элементов из `L`."
   ]
  },
  {
   "cell_type": "code",
   "execution_count": 3,
   "metadata": {},
   "outputs": [
    {
     "name": "stdout",
     "output_type": "stream",
     "text": [
      "(0, 1, 2, 3)\n",
      "(0, 1, 3, 2)\n",
      "(0, 2, 1, 3)\n",
      "(0, 2, 3, 1)\n",
      "(0, 3, 1, 2)\n",
      "(0, 3, 2, 1)\n",
      "(1, 0, 2, 3)\n",
      "(1, 0, 3, 2)\n",
      "(1, 2, 0, 3)\n",
      "(1, 2, 3, 0)\n"
     ]
    }
   ],
   "source": [
    "from itertools import permutations\n",
    "\n",
    "L = list(range(4))\n",
    "\n",
    "perms = permutations(L)\n",
    "\n",
    "for _ in range(10):\n",
    "    print(next(perms))"
   ]
  },
  {
   "cell_type": "markdown",
   "metadata": {},
   "source": [
    "Итератор останавливается, когда выбрасывается исключение `StopIteration`"
   ]
  },
  {
   "cell_type": "code",
   "execution_count": 7,
   "metadata": {},
   "outputs": [
    {
     "name": "stdout",
     "output_type": "stream",
     "text": [
      "1\n",
      "2\n"
     ]
    },
    {
     "ename": "StopIteration",
     "evalue": "",
     "output_type": "error",
     "traceback": [
      "\u001b[1;31m---------------------------------------------------------------------------\u001b[0m",
      "\u001b[1;31mStopIteration\u001b[0m                             Traceback (most recent call last)",
      "\u001b[1;32m<ipython-input-7-8d486c1eda64>\u001b[0m in \u001b[0;36m<module>\u001b[1;34m()\u001b[0m\n\u001b[0;32m      3\u001b[0m \u001b[0mprint\u001b[0m\u001b[1;33m(\u001b[0m\u001b[0mnext\u001b[0m\u001b[1;33m(\u001b[0m\u001b[0mit\u001b[0m\u001b[1;33m)\u001b[0m\u001b[1;33m)\u001b[0m\u001b[1;33m\u001b[0m\u001b[0m\n\u001b[0;32m      4\u001b[0m \u001b[0mprint\u001b[0m\u001b[1;33m(\u001b[0m\u001b[0mnext\u001b[0m\u001b[1;33m(\u001b[0m\u001b[0mit\u001b[0m\u001b[1;33m)\u001b[0m\u001b[1;33m)\u001b[0m\u001b[1;33m\u001b[0m\u001b[0m\n\u001b[1;32m----> 5\u001b[1;33m \u001b[0mprint\u001b[0m\u001b[1;33m(\u001b[0m\u001b[0mnext\u001b[0m\u001b[1;33m(\u001b[0m\u001b[0mit\u001b[0m\u001b[1;33m)\u001b[0m\u001b[1;33m)\u001b[0m\u001b[1;33m\u001b[0m\u001b[0m\n\u001b[0m",
      "\u001b[1;31mStopIteration\u001b[0m: "
     ]
    }
   ],
   "source": [
    "it = iter([1, 2])\n",
    "\n",
    "print(next(it))\n",
    "print(next(it))\n",
    "print(next(it))"
   ]
  },
  {
   "cell_type": "markdown",
   "metadata": {},
   "source": [
    "Итераторы в Python применяются повсеместно:\n",
    "\n",
    "1. При использовании списка `for` объект, по которому выполняется итерация преобразуется в итератор, то есть код\n",
    "\n",
    "```python\n",
    "for a in obj:\n",
    "    do_smth()\n",
    "```\n",
    "\n",
    "реализуется приблизительно так\n",
    "\n",
    "```python\n",
    "it = iter(obj)\n",
    "while True:\n",
    "    try:\n",
    "        a = next(it)\n",
    "    except StopIteration:\n",
    "        break\n",
    "    do_smth(a)\n",
    "```\n",
    "\n",
    "2. `map`-, `zip`-, `enumerate`-, `filter`-, `reversed`- объекты являются итераторами.\n",
    "\n",
    "3. Файловые объекты являются итераторами.\n",
    "\n",
    "### <font color=red>Важно!</font>\n",
    "По итератору можно выполнить тольк один проход. Для повторной итерации нужно создавать новый итератор."
   ]
  },
  {
   "cell_type": "code",
   "execution_count": 10,
   "metadata": {},
   "outputs": [
    {
     "name": "stdout",
     "output_type": "stream",
     "text": [
      "(0, 1)\n",
      "(1, 2)\n"
     ]
    },
    {
     "ename": "StopIteration",
     "evalue": "",
     "output_type": "error",
     "traceback": [
      "\u001b[1;31m---------------------------------------------------------------------------\u001b[0m",
      "\u001b[1;31mStopIteration\u001b[0m                             Traceback (most recent call last)",
      "\u001b[1;32m<ipython-input-10-a4f6c1cb7a86>\u001b[0m in \u001b[0;36m<module>\u001b[1;34m()\u001b[0m\n\u001b[0;32m      2\u001b[0m \u001b[0mprint\u001b[0m\u001b[1;33m(\u001b[0m\u001b[0mnext\u001b[0m\u001b[1;33m(\u001b[0m\u001b[0me\u001b[0m\u001b[1;33m)\u001b[0m\u001b[1;33m)\u001b[0m\u001b[1;33m\u001b[0m\u001b[0m\n\u001b[0;32m      3\u001b[0m \u001b[0mprint\u001b[0m\u001b[1;33m(\u001b[0m\u001b[0mnext\u001b[0m\u001b[1;33m(\u001b[0m\u001b[0me\u001b[0m\u001b[1;33m)\u001b[0m\u001b[1;33m)\u001b[0m\u001b[1;33m\u001b[0m\u001b[0m\n\u001b[1;32m----> 4\u001b[1;33m \u001b[0mnext\u001b[0m\u001b[1;33m(\u001b[0m\u001b[0me\u001b[0m\u001b[1;33m)\u001b[0m\u001b[1;33m\u001b[0m\u001b[0m\n\u001b[0m",
      "\u001b[1;31mStopIteration\u001b[0m: "
     ]
    }
   ],
   "source": [
    "e = enumerate([1, 2])\n",
    "print(next(e))\n",
    "print(next(e))\n",
    "next(e)"
   ]
  },
  {
   "cell_type": "code",
   "execution_count": 12,
   "metadata": {},
   "outputs": [],
   "source": [
    "for i in e:\n",
    "    print(i)"
   ]
  },
  {
   "cell_type": "code",
   "execution_count": 13,
   "metadata": {},
   "outputs": [
    {
     "name": "stdout",
     "output_type": "stream",
     "text": [
      "(0, 1)\n",
      "loop\n",
      "(1, 2)\n"
     ]
    }
   ],
   "source": [
    "e = enumerate([1, 2])\n",
    "print(next(e))\n",
    "print('loop')\n",
    "for i in e:\n",
    "    print(i)"
   ]
  },
  {
   "cell_type": "markdown",
   "metadata": {},
   "source": [
    "## <font color=green>Создание своих итераторов</font>\n",
    "\n",
    "1. В первую очередь у объекта-итератора должен быть метод `__next__()`, возвращающий очередной элемент.\n",
    "\n",
    "2. Если элементы закончились, объект должен бросать исключение `StopIteration`.\n",
    "\n",
    "3. У итератора должен быть метод `__iter__()`. Метод `__iter__()` при примении к объекту встроенной функции `iter()` и возвращает сам итератор. Система `iter()` - `__iter__()` итераторов из контейнеров (списков, словарей, кортежей, множеств) и строк и в итераторах нужна для совместимости интерфейса.\n",
    "\n",
    "### Пример 1. Единицы\n",
    "\n",
    "Итератор, создающий заданное количество единиц."
   ]
  },
  {
   "cell_type": "code",
   "execution_count": 15,
   "metadata": {
    "scrolled": false
   },
   "outputs": [
    {
     "name": "stdout",
     "output_type": "stream",
     "text": [
      "1\n",
      "1\n",
      "1\n"
     ]
    }
   ],
   "source": [
    "class Ones:\n",
    "    def __init__(self, n):\n",
    "        self._n = n\n",
    "        self._counter = 0\n",
    "        \n",
    "    def __iter__(self):\n",
    "        return self\n",
    "    \n",
    "    def __next__(self):\n",
    "        if self._counter < self._n:\n",
    "            self._counter += 1\n",
    "            return 1\n",
    "        else: \n",
    "            raise StopIteration()\n",
    "        \n",
    "        \n",
    "ones = Ones(3)\n",
    "for k in ones:\n",
    "    print(k)"
   ]
  },
  {
   "cell_type": "markdown",
   "metadata": {},
   "source": [
    "### Упражнение 1. Числа Фибоначчи\n",
    "\n",
    "Напишите итератор, для первых `n` чисел Фибоначчи."
   ]
  },
  {
   "cell_type": "code",
   "execution_count": 20,
   "metadata": {},
   "outputs": [],
   "source": [
    "class FibbIter:\n",
    "    def __init__(self, n):\n",
    "        self.n = n\n",
    "        self.counter = 0\n",
    "        self.fibb = (1, 1)\n",
    "        \n",
    "    def __iter__(self):\n",
    "        return self\n",
    "    \n",
    "    def __next__(self):\n",
    "        if self.counter >= self.n:\n",
    "            raise StopIteration()\n",
    "            \n",
    "        if self.counter == 0 or self.counter == 1:\n",
    "            self.counter += 1\n",
    "            return 1\n",
    "        else:\n",
    "            self.fibb = self.fibb[1], self.fibb[0] + self.fibb[1]\n",
    "            self.counter += 1\n",
    "            return self.fibb[1]"
   ]
  },
  {
   "cell_type": "code",
   "execution_count": 22,
   "metadata": {},
   "outputs": [
    {
     "name": "stdout",
     "output_type": "stream",
     "text": [
      "1\n",
      "1\n",
      "2\n",
      "3\n",
      "5\n",
      "8\n",
      "13\n",
      "21\n",
      "34\n",
      "55\n"
     ]
    }
   ],
   "source": [
    "fibb = FibbIter(10)\n",
    "\n",
    "for i in fibb:\n",
    "    print(i)"
   ]
  },
  {
   "cell_type": "markdown",
   "metadata": {},
   "source": [
    "### Упражнение 2. Чтение из файла\n",
    "\n",
    "Напишите итератор считывающий из файла по 10 символов. При последнем считывании, если невозможно вернуть 10 символов, итератор возращает столько, сколько есть."
   ]
  },
  {
   "cell_type": "code",
   "execution_count": 42,
   "metadata": {},
   "outputs": [],
   "source": [
    "class ReadIter:\n",
    "    def __init__(self, path):\n",
    "        self.file = open(path, 'r')\n",
    "        \n",
    "    def __iter__(self):\n",
    "        return self\n",
    "    \n",
    "    def __next__(self):\n",
    "        next_read = self.file.read(10)\n",
    "        if next_read == '':\n",
    "            self.file.close()\n",
    "            raise StopIteration()\n",
    "        return next_read"
   ]
  },
  {
   "cell_type": "code",
   "execution_count": 44,
   "metadata": {},
   "outputs": [
    {
     "name": "stdout",
     "output_type": "stream",
     "text": [
      "'hello,text'\n",
      "',more text'\n",
      "', one more'\n",
      "' string, 1'\n",
      "'234567890'\n"
     ]
    }
   ],
   "source": [
    "reader = ReadIter('text.txt')\n",
    "for i in reader:\n",
    "    print(repr(i))"
   ]
  },
  {
   "cell_type": "markdown",
   "metadata": {},
   "source": [
    "## <font color=green>Генераторы</font>\n",
    "\n",
    "Генераторы - это разновидность итераторов. Их отличает краткость и удобство реализации, благодаря чему они создаются разработчиками гораздо чаще. \n",
    "\n",
    "Генератор – это функция, которая будучи вызванной в функции `next()` возвращает следующий объект согласно алгоритму ее работы. Вместо ключевого слова `return` в генераторе используется `yield`. Проще всего работу генератор посмотреть на примере. Напишем функцию, которая генерирует необходимое нам количество единиц."
   ]
  },
  {
   "cell_type": "code",
   "execution_count": 45,
   "metadata": {},
   "outputs": [
    {
     "name": "stdout",
     "output_type": "stream",
     "text": [
      "1\n",
      "1\n"
     ]
    },
    {
     "ename": "StopIteration",
     "evalue": "",
     "output_type": "error",
     "traceback": [
      "\u001b[1;31m---------------------------------------------------------------------------\u001b[0m",
      "\u001b[1;31mStopIteration\u001b[0m                             Traceback (most recent call last)",
      "\u001b[1;32m<ipython-input-45-b877026f2bd9>\u001b[0m in \u001b[0;36m<module>\u001b[1;34m()\u001b[0m\n\u001b[0;32m      7\u001b[0m \u001b[0mprint\u001b[0m\u001b[1;33m(\u001b[0m\u001b[0mnext\u001b[0m\u001b[1;33m(\u001b[0m\u001b[0mmy_ones\u001b[0m\u001b[1;33m)\u001b[0m\u001b[1;33m)\u001b[0m\u001b[1;33m\u001b[0m\u001b[0m\n\u001b[0;32m      8\u001b[0m \u001b[0mprint\u001b[0m\u001b[1;33m(\u001b[0m\u001b[0mnext\u001b[0m\u001b[1;33m(\u001b[0m\u001b[0mmy_ones\u001b[0m\u001b[1;33m)\u001b[0m\u001b[1;33m)\u001b[0m\u001b[1;33m\u001b[0m\u001b[0m\n\u001b[1;32m----> 9\u001b[1;33m \u001b[0mprint\u001b[0m\u001b[1;33m(\u001b[0m\u001b[0mnext\u001b[0m\u001b[1;33m(\u001b[0m\u001b[0mmy_ones\u001b[0m\u001b[1;33m)\u001b[0m\u001b[1;33m)\u001b[0m\u001b[1;33m\u001b[0m\u001b[0m\n\u001b[0m",
      "\u001b[1;31mStopIteration\u001b[0m: "
     ]
    }
   ],
   "source": [
    "def ones(n):\n",
    "    for _ in range(n):\n",
    "        yield 1\n",
    "        \n",
    "        \n",
    "my_ones = ones(2)\n",
    "print(next(my_ones))\n",
    "print(next(my_ones))\n",
    "print(next(my_ones))"
   ]
  },
  {
   "cell_type": "code",
   "execution_count": 46,
   "metadata": {},
   "outputs": [
    {
     "name": "stdout",
     "output_type": "stream",
     "text": [
      "1\n",
      "1\n",
      "1\n",
      "1\n",
      "1\n"
     ]
    }
   ],
   "source": [
    "my_ones = ones(5)\n",
    "\n",
    "for a in my_ones:\n",
    "    print(a)"
   ]
  },
  {
   "cell_type": "code",
   "execution_count": 47,
   "metadata": {},
   "outputs": [
    {
     "name": "stdout",
     "output_type": "stream",
     "text": [
      "['__class__', '__del__', '__delattr__', '__dir__', '__doc__', '__eq__', '__format__', '__ge__', '__getattribute__', '__gt__', '__hash__', '__init__', '__init_subclass__', '__iter__', '__le__', '__lt__', '__name__', '__ne__', '__new__', '__next__', '__qualname__', '__reduce__', '__reduce_ex__', '__repr__', '__setattr__', '__sizeof__', '__str__', '__subclasshook__', 'close', 'gi_code', 'gi_frame', 'gi_running', 'gi_yieldfrom', 'send', 'throw']\n"
     ]
    }
   ],
   "source": [
    "my_ones = iter(ones(2))\n",
    "print(dir(my_ones))"
   ]
  },
  {
   "cell_type": "markdown",
   "metadata": {},
   "source": [
    "При выполнении инструкции `yield` весь контекст функции (локальные переменные) сохраняются. При следующем примении `next()` к генератору функция продолжает, как ни в чем не бывало, работать с инструкции, следующей за `yield`.\n",
    "\n",
    "Важно отметить, что тело генератора в первый раз выполняется при примении к нему `next()`, а не при его создании."
   ]
  },
  {
   "cell_type": "code",
   "execution_count": 48,
   "metadata": {},
   "outputs": [
    {
     "name": "stdout",
     "output_type": "stream",
     "text": [
      "And now next() is called\n",
      "I am generator\n"
     ]
    }
   ],
   "source": [
    "def gen():\n",
    "    print(\"I am generator\")\n",
    "    yield None\n",
    "    \n",
    "g = gen()\n",
    "print(\"And now next() is called\")\n",
    "next(g)"
   ]
  },
  {
   "cell_type": "markdown",
   "metadata": {},
   "source": [
    "###  Упражнение 3.\n",
    "\n",
    "Реализуйте итераторы из упражнений 1 и 2 в виде генераторов."
   ]
  },
  {
   "cell_type": "code",
   "execution_count": 55,
   "metadata": {},
   "outputs": [],
   "source": [
    "def fibb_gen(n):\n",
    "    fibb = 1, 1\n",
    "    \n",
    "    for i in range(n):\n",
    "        if i < 2:\n",
    "            yield 1\n",
    "        else:\n",
    "            fibb = fibb[1], fibb[0] + fibb[1]\n",
    "            yield fibb[1]"
   ]
  },
  {
   "cell_type": "code",
   "execution_count": 56,
   "metadata": {},
   "outputs": [
    {
     "name": "stdout",
     "output_type": "stream",
     "text": [
      "1\n",
      "1\n",
      "2\n",
      "3\n",
      "5\n",
      "8\n",
      "13\n",
      "21\n",
      "34\n",
      "55\n"
     ]
    }
   ],
   "source": [
    "fib = fibb_gen(10)\n",
    "for i in fib:\n",
    "    print(i)"
   ]
  },
  {
   "cell_type": "code",
   "execution_count": null,
   "metadata": {},
   "outputs": [],
   "source": [
    "def read_gen()"
   ]
  },
  {
   "cell_type": "code",
   "execution_count": null,
   "metadata": {},
   "outputs": [],
   "source": []
  },
  {
   "cell_type": "code",
   "execution_count": null,
   "metadata": {},
   "outputs": [],
   "source": [
    "class ReadIter:\n",
    "    def __init__(self, path):\n",
    "        self.file = open(path, 'r')\n",
    "        \n",
    "    def __iter__(self):\n",
    "        return self\n",
    "    \n",
    "    def __next__(self):\n",
    "        next_read = self.file.read(10)\n",
    "        if next_read == '':\n",
    "            self.file.close()\n",
    "            raise StopIteration()\n",
    "        return next_read"
   ]
  }
 ],
 "metadata": {
  "kernelspec": {
   "display_name": "Python 3",
   "language": "python",
   "name": "python3"
  },
  "language_info": {
   "codemirror_mode": {
    "name": "ipython",
    "version": 3
   },
   "file_extension": ".py",
   "mimetype": "text/x-python",
   "name": "python",
   "nbconvert_exporter": "python",
   "pygments_lexer": "ipython3",
   "version": "3.6.5"
  }
 },
 "nbformat": 4,
 "nbformat_minor": 2
}

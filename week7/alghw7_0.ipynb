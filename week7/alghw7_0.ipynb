{
 "cells": [
  {
   "cell_type": "markdown",
   "metadata": {},
   "source": [
    "# Упражнение 1. Объединение двоичных деревьев поиска\n",
    "\n",
    "Определите для класса `BST` оператор `+=`, который будет добавлять в него все элементы другого экземпляра `BST`"
   ]
  },
  {
   "cell_type": "code",
   "execution_count": 126,
   "metadata": {},
   "outputs": [],
   "source": [
    "# Binary Search Tree Node\n",
    "class BSTNode:\n",
    "    def __init__(self, key, value, left=None, right=None):\n",
    "        self.value = value\n",
    "        self.key = key\n",
    "        self.left = left\n",
    "        self.right = right\n",
    "        \n",
    "        \n",
    "class BST:\n",
    "    def __init__(self):\n",
    "        self.root = None\n",
    "        \n",
    "    def __iadd__(self, another_bst):\n",
    "        for node in another_bst.traverse_nodes():\n",
    "            self.insert(node.key, node.value)\n",
    "        return self\n",
    "        \n",
    "    def _insert(self, key, value, root):\n",
    "        if key == root.key:\n",
    "            root.value = value\n",
    "        elif key < root.key:\n",
    "            if root.left is None:\n",
    "                root.left = BSTNode(key, value)\n",
    "            else:\n",
    "                self._insert(key, value, root.left)\n",
    "        else:\n",
    "            if root.right is None:\n",
    "                root.right = BSTNode(key, value)\n",
    "            else:\n",
    "                self._insert(key, value, root.right)\n",
    "        \n",
    "    def insert(self, key, value):\n",
    "        if self.root is None:\n",
    "            self.root = BSTNode(key, value)\n",
    "        else:\n",
    "            self._insert(key, value, self.root)\n",
    "            \n",
    "    def _find(self, key, root):\n",
    "        if root is None:\n",
    "            return None\n",
    "        if key == root.key:\n",
    "            return root.value\n",
    "        elif key < root.key:\n",
    "            return self._find(key, root.left)\n",
    "        else:\n",
    "            return self._find(key, root.right)\n",
    "        \n",
    "    def _find_iteratively(self, key, root):\n",
    "        if root is None:\n",
    "            return None\n",
    "        current = root\n",
    "        while True:\n",
    "            if key == current.key:\n",
    "                return current\n",
    "            elif key < current.key:\n",
    "                current = current.left\n",
    "            else:\n",
    "                current = current.right\n",
    "            \n",
    "    def find(self, key):\n",
    "        return self._find(key, self.root)\n",
    "    \n",
    "    def _traverse_nodes(self, root, nodes):\n",
    "        if root is None:\n",
    "            return\n",
    "        self._traverse_nodes(root.left, nodes)\n",
    "        nodes.append(root)\n",
    "        self._traverse_nodes(root.right, nodes)\n",
    "    \n",
    "    def _traverse(self, root):\n",
    "        if root is None:\n",
    "            return\n",
    "        self._traverse(root.left)\n",
    "        print(root.value)\n",
    "        self._traverse(root.right)\n",
    "        \n",
    "    def traverse(self):\n",
    "        self._traverse(self.root)\n",
    "        \n",
    "    def traverse_nodes(self):\n",
    "        nodes = []\n",
    "        self._traverse_nodes(self.root, nodes = nodes)\n",
    "        return nodes"
   ]
  },
  {
   "cell_type": "code",
   "execution_count": 127,
   "metadata": {
    "scrolled": true
   },
   "outputs": [
    {
     "name": "stdout",
     "output_type": "stream",
     "text": [
      "Egor\n",
      "Petya\n",
      "Dmitriy\n",
      "Veronica\n"
     ]
    }
   ],
   "source": [
    "bst = BST()\n",
    "bst.insert(5, 'Vasya')\n",
    "bst.insert(5, 'Petya')\n",
    "bst.insert(7, 'Dmitriy')\n",
    "bst.insert(4, 'Egor')\n",
    "bst.insert(8, 'Veronica')\n",
    "\n",
    "bst.traverse()"
   ]
  },
  {
   "cell_type": "code",
   "execution_count": 128,
   "metadata": {},
   "outputs": [
    {
     "name": "stdout",
     "output_type": "stream",
     "text": [
      "Hello\n",
      "Hi\n",
      "Privet\n"
     ]
    }
   ],
   "source": [
    "bst2 = BST()\n",
    "bst2.insert(3, 'Hi')\n",
    "bst2.insert(10, 'Privet')\n",
    "bst2.insert(-1, 'Hello')\n",
    "\n",
    "bst2.traverse()"
   ]
  },
  {
   "cell_type": "code",
   "execution_count": 133,
   "metadata": {},
   "outputs": [
    {
     "name": "stdout",
     "output_type": "stream",
     "text": [
      "Hello\n",
      "Hi\n",
      "Egor\n",
      "Petya\n",
      "Dmitriy\n",
      "Veronica\n",
      "Privet\n"
     ]
    }
   ],
   "source": [
    "bst += bst2\n",
    "\n",
    "bst.traverse()"
   ]
  }
 ],
 "metadata": {
  "kernelspec": {
   "display_name": "Python 3",
   "language": "python",
   "name": "python3"
  },
  "language_info": {
   "codemirror_mode": {
    "name": "ipython",
    "version": 3
   },
   "file_extension": ".py",
   "mimetype": "text/x-python",
   "name": "python",
   "nbconvert_exporter": "python",
   "pygments_lexer": "ipython3",
   "version": "3.6.5"
  }
 },
 "nbformat": 4,
 "nbformat_minor": 2
}

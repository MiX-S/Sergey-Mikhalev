{
 "cells": [
  {
   "cell_type": "markdown",
   "metadata": {},
   "source": [
    "## <font color=green>Пакеты</font>\n",
    "\n",
    "Пакеты в Python позволяют объединять и структурировать модули. Пакет - это каталог, который содержит файл <font color=green>\\_\\_init\\_\\_.py</font> и другие пакеты и модули. \n",
    "\n",
    "### Пример 1. Пакет (из книги \"Программирование на Python 3\" Саммерфильд М.)\n",
    "\n",
    "Например, допустим, что у нас имеется некоторое множество файлов модулей, предназначенных для чтения и записи графических файлов различных форматов с именами <font color=green>Bmp.py</font>, <font color=green>Jpeg.py</font>, <font color=green>Png.py</font>, <font color=green>Tiff.py</font> и <font color=green>Xpm.py</font>, в каждом из которых имеются функции `load()`, `save()` и т. д. Мы могли бы сохранить все эти модули в одном каталоге с программой, но в крупных программных продуктах, использующих массу собственных модулей, модули для работы с графикой, скорее всего, лучше хранить отдельно. Поместив их в свой собственный подкаталог, например Graphics, их можно хранить все вместе. А если поместить в каталог <font color=green>Graphics</font> пустой файл <font color=green>\\_\\_init\\_\\_.py</font>, этот каталог превратится в пакет:\n",
    "\n",
    "```\n",
    "Graphics/\n",
    "├── __init__.py\n",
    "├── Bmp.py\n",
    "├── Jpeg.py\n",
    "├── Png.py\n",
    "├── Tiff.py\n",
    "└── Xpm.py\n",
    "```\n",
    "\n",
    "Пока каталог <font color=green>Graphics</font> является подкаталогом каталога с программой или находится в пути поиска Python, мы будем иметь возможность импортировать любой из этих модулей и использовать их. Мы должны сделать все возможное, чтобы гарантировать несовпадение имени нашего модуля верхнего уровня (<font color=green>Graphics</font>) с каким-то из имен верхнего уровня в стандартной библиотеке – с целью избежать конфликтов имен. (В системе UNIX это легко обеспечить, достаточно лишь использовать в качестве первого символа имени символ верхнего регистра, так как в именах модулей стандартной библиотеки используются только символы нижнего регистра.) Ниже показано, как импортировать и использовать наши модули:\n",
    "\n",
    "```python\n",
    "import Graphics.Bmp\n",
    "image = Graphics.Bmp.load(\"bashful.bmp\")\n",
    "```\n",
    "В небольших программах некоторые программисты предпочитают использовать более короткие имена, и язык Python позволяет делать это двумя, немного отличающимися способами.\n",
    "\n",
    "```python\n",
    "import Graphics.Jpeg as Jpeg\n",
    "image = Jpeg.load(\"doc.jpeg\")\n",
    "```\n",
    "\n",
    "Здесь мы импортировали модуль `Jpeg` из пакета `Graphics` и сообщили интерпретатору, что вместо полного квалифицированного имени `Graphics.Jpeg` хотим использовать более короткое имя `Jpeg`.\n",
    "\n",
    "```python\n",
    "from Graphics import Png\n",
    "image = Png.load(\"dopey.png\")\n",
    "```\n",
    "\n",
    "Этот фрагмент программного кода напрямую импортирует модуль `Png` из пакета `Graphics`. Данная синтаксическая конструкция (`import ... from`) обеспечивает непосредственный доступ к модулю `Png`. Мы не обязаны использовать в нашем программном коде оригинальные имена модулей. Например:\n",
    "\n",
    "```python\n",
    "from Graphics import Tiff as picture\n",
    "image = picture.load(\"grumpy.tiff\")\n",
    "```\n",
    "\n",
    "Возможно импортирование отдельных объектов из модулей, содержащихся в пакетах.\n",
    "\n",
    "```python\n",
    "from Graphics.Jpeg import load as load_jpeg\n",
    "```\n",
    "\n",
    "### <font color=red>Важно!</font>\n",
    "\n",
    "1. При импортировании пакета выполняется **только** файл \\_\\_init\\_\\_.py, а содержащиеся в пакете модули и пакеты **не** выполняются. Попробуйте код\n",
    "```python\n",
    "import Graphics\n",
    "im = Graphics.Tiff.load(\"my_image.tiff\")\n",
    "```\n",
    "\n",
    "2. При импортировании модуля из пакета выполняются все <font color=green>\\_\\_init\\_\\_.py</font> файлы на пути к нужному модулю.<br>\n",
    "Добавьте в <font color=green>\\_\\_init\\_\\_.py</font> код\n",
    "```python\n",
    "print(\"I am __init__.py\")\n",
    "```\n",
    "и выполните\n",
    "```python\n",
    "import Graphics.Png\n",
    "```\n",
    "***\n",
    "\n",
    "### Упражнение 1. Создание пакета\n",
    "\n",
    "Создайте пакет, описанный в примере 1. Добавьте в <font color=green>Graphics</font> пакет <font color=green>Convert</font>, который будет содержать модули <font color=green>jpeg2png.py</font> и <font color=green>png2jpeg.py</font>. Добавьте в модули <font color=green>Bmp.py</font>, <font color=green>Jpeg.py</font>, <font color=green>Png.py</font>, <font color=green>Tiff.py</font>, <font color=green>Xpm.py</font> код\n",
    "```python\n",
    "def load(file_name):\n",
    "    pass\n",
    "```\n",
    "а в модули <font color=green>jpeg2png.py</font> и <font color=green>png2jpeg.py</font> - код\n",
    "```python\n",
    "def convert(file_name):\n",
    "    pass\n",
    "```\n",
    "\n",
    "Далее выполните код из примера 1, а также код\n",
    "```python\n",
    "from Graphics.Convert.jpeg2png import convert as jpeg2png\n",
    "jpeg2png('my_image.jpeg')\n",
    "```"
   ]
  },
  {
   "cell_type": "code",
   "execution_count": 1,
   "metadata": {},
   "outputs": [
    {
     "name": "stdout",
     "output_type": "stream",
     "text": [
      "A am __init__.py\n"
     ]
    }
   ],
   "source": [
    "from Graphics.Convert.jpeg2png import convert as jpeg2png"
   ]
  },
  {
   "cell_type": "code",
   "execution_count": 2,
   "metadata": {},
   "outputs": [
    {
     "name": "stdout",
     "output_type": "stream",
     "text": [
      "in jpeg2png\n"
     ]
    }
   ],
   "source": [
    "jpeg2png('my_image.jpeg')"
   ]
  },
  {
   "cell_type": "markdown",
   "metadata": {},
   "source": [
    "## <font color=green>Импортирование * из пакета</font>\n",
    "\n",
    " Из пакета можно импортировать сразу несколько модулей, если в файле <font color=green>\\_\\_init\\_\\_.py</font> определить список <font color=green>\\_\\_all\\_\\_</font>. В списке <font color=green>\\_\\_all\\_\\_</font> должны перечисляться имена модулей и пакетов которые будут импортированы при использовании инструкции\n",
    "```python\n",
    "from package import *\n",
    "```\n",
    "\n",
    "### Упражнение 2. `from package import *`\n",
    "\n",
    "Модифицируйте пакет `Graphics` так, чтобы при использовании инструкции `from package import *` импортировались модули <font color=green>Jpeg.py</font>, <font color=green>Png.py</font>  и пакет <font color=green>Convert</font>."
   ]
  },
  {
   "cell_type": "code",
   "execution_count": 1,
   "metadata": {},
   "outputs": [
    {
     "name": "stdout",
     "output_type": "stream",
     "text": [
      "A am __init__.py\n",
      "I am __init__2.py\n"
     ]
    }
   ],
   "source": [
    "from Graphics.Convert import *"
   ]
  },
  {
   "cell_type": "code",
   "execution_count": 4,
   "metadata": {},
   "outputs": [
    {
     "name": "stdout",
     "output_type": "stream",
     "text": [
      "in jpeg2png\n"
     ]
    }
   ],
   "source": [
    "jpeg2png.convert('my_image.jpeg')"
   ]
  },
  {
   "cell_type": "code",
   "execution_count": 5,
   "metadata": {},
   "outputs": [
    {
     "ename": "NameError",
     "evalue": "name 'png2jpeg' is not defined",
     "output_type": "error",
     "traceback": [
      "\u001b[1;31m---------------------------------------------------------------------------\u001b[0m",
      "\u001b[1;31mNameError\u001b[0m                                 Traceback (most recent call last)",
      "\u001b[1;32m<ipython-input-5-9aeda9ce40ba>\u001b[0m in \u001b[0;36m<module>\u001b[1;34m()\u001b[0m\n\u001b[1;32m----> 1\u001b[1;33m \u001b[0mpng2jpeg\u001b[0m\u001b[1;33m.\u001b[0m\u001b[0mconvert\u001b[0m\u001b[1;33m(\u001b[0m\u001b[1;34m'dse'\u001b[0m\u001b[1;33m)\u001b[0m\u001b[1;33m\u001b[0m\u001b[0m\n\u001b[0m",
      "\u001b[1;31mNameError\u001b[0m: name 'png2jpeg' is not defined"
     ]
    }
   ],
   "source": [
    "png2jpeg.convert('dse')"
   ]
  },
  {
   "cell_type": "markdown",
   "metadata": {},
   "source": [
    "### <font color=red>Замечание</font>\n",
    "\n",
    "**Использование инструкций вида `from module_or_package import *` не рекомендуется, так как в программе появляется несколько новых имен, которые определены в другом файле. Это повышает риск возникновения ошибок и осложняет отладку.**\n",
    "\n",
    "***"
   ]
  },
  {
   "cell_type": "markdown",
   "metadata": {},
   "source": [
    "## <font color=green>Импортирование модулей внутри пакета</font>\n",
    "\n",
    "**Если модуль $M$ импортируется вместе с пакетом** то появляются 2 новых способа импортировать модули внутри $M$. В модуле $M$ можно импортировать модули, находящиеся в одном с ним каталоге. Это делается с помощью инструкции\n",
    "```\n",
    "package/\n",
    "├── __init__.py\n",
    "├── uncle_module.py\n",
    "└── father\n",
    "    ├── M.py\n",
    "    └── brother_module.py\n",
    "```\n",
    "```python\n",
    "from . import brother_module\n",
    "```\n",
    "Также можно импортировать модули, которые находятся на один уровень выше $M$ в дереве каталогов.\n",
    "```python\n",
    "from .. import uncle_module\n",
    "```\n",
    "### <font color=red>Замечание</font>\n",
    "\n",
    "**Относительное импортирование не работает, если не загружен пакет.**\n",
    "\n",
    "***\n",
    "\n",
    "### Упражнение 3. Относительное импортирование модулей\n",
    "\n",
    "Создайте пакет `package` со структурой, которая приведена выше и добавьте в `M.py` команды относительного импортирования. Попробуйте выполнить `M.py` как скрипт, а затем попробуйте импортировать его вместе с пакетом `package`."
   ]
  },
  {
   "cell_type": "code",
   "execution_count": 1,
   "metadata": {},
   "outputs": [
    {
     "name": "stdout",
     "output_type": "stream",
     "text": [
      "A am __init__.py\n",
      "I am __init__2.py\n",
      "in M\n"
     ]
    }
   ],
   "source": [
    "from Graphics.Convert import M"
   ]
  },
  {
   "cell_type": "code",
   "execution_count": 4,
   "metadata": {},
   "outputs": [
    {
     "name": "stdout",
     "output_type": "stream",
     "text": [
      "in jpeg2png\n"
     ]
    }
   ],
   "source": [
    "M.jpeg2png.convert('my_image.jpeg')"
   ]
  },
  {
   "cell_type": "code",
   "execution_count": 5,
   "metadata": {},
   "outputs": [
    {
     "ename": "AttributeError",
     "evalue": "module 'Graphics.Convert.M' has no attribute 'png2jpeg'",
     "output_type": "error",
     "traceback": [
      "\u001b[1;31m---------------------------------------------------------------------------\u001b[0m",
      "\u001b[1;31mAttributeError\u001b[0m                            Traceback (most recent call last)",
      "\u001b[1;32m<ipython-input-5-3382de1f9a54>\u001b[0m in \u001b[0;36m<module>\u001b[1;34m()\u001b[0m\n\u001b[1;32m----> 1\u001b[1;33m \u001b[0mM\u001b[0m\u001b[1;33m.\u001b[0m\u001b[0mpng2jpeg\u001b[0m\u001b[1;33m.\u001b[0m\u001b[0mconvert\u001b[0m\u001b[1;33m(\u001b[0m\u001b[1;34m'my_image.jpeg'\u001b[0m\u001b[1;33m)\u001b[0m\u001b[1;33m\u001b[0m\u001b[0m\n\u001b[0m",
      "\u001b[1;31mAttributeError\u001b[0m: module 'Graphics.Convert.M' has no attribute 'png2jpeg'"
     ]
    }
   ],
   "source": [
    "M.png2jpeg.convert('my_image.jpeg')"
   ]
  },
  {
   "cell_type": "code",
   "execution_count": 6,
   "metadata": {},
   "outputs": [
    {
     "name": "stdout",
     "output_type": "stream",
     "text": [
      "in Bmp\n"
     ]
    }
   ],
   "source": [
    "M.Bmp.load('my_image.jpeg')"
   ]
  },
  {
   "cell_type": "markdown",
   "metadata": {},
   "source": [
    "### Classes"
   ]
  },
  {
   "cell_type": "code",
   "execution_count": 7,
   "metadata": {},
   "outputs": [
    {
     "name": "stdout",
     "output_type": "stream",
     "text": [
      "Gaw-gaw\n",
      "GAW-GAW\n"
     ]
    }
   ],
   "source": [
    "class Dog:\n",
    "    def say_gaw(self):\n",
    "        if self.angry:\n",
    "            print('GAW-GAW')\n",
    "        else:\n",
    "            print('Gaw-gaw')\n",
    "\n",
    "    def ping(self):\n",
    "        self.angry = True\n",
    "\n",
    "    def feed(self, food_count):\n",
    "        if food_count > 10:\n",
    "            self.angry = False\n",
    "\n",
    "my_dog = Dog()\n",
    "my_dog.feed(20)\n",
    "my_dog.say_gaw()      # напечатает Gaw-gaw\n",
    "my_dog.ping()\n",
    "my_dog.say_gaw()      # напечатает GAW-GAW"
   ]
  },
  {
   "cell_type": "code",
   "execution_count": 8,
   "metadata": {},
   "outputs": [
    {
     "name": "stdout",
     "output_type": "stream",
     "text": [
      "Gaw-gaw\n"
     ]
    }
   ],
   "source": [
    "class Dog:\n",
    "    def __init__(self):\n",
    "        self.angry = False\n",
    "\n",
    "    def say_gaw(self):\n",
    "        if self.angry:\n",
    "            print('GAW-GAW')\n",
    "        else:\n",
    "            print('Gaw-gaw')\n",
    "\n",
    "my_dog = Dog()\n",
    "my_dog.say_gaw()      # ошибки нет, напечатает Gaw-gaw"
   ]
  },
  {
   "cell_type": "code",
   "execution_count": 34,
   "metadata": {},
   "outputs": [
    {
     "name": "stdout",
     "output_type": "stream",
     "text": [
      "GAW-GAW-GAW-\n"
     ]
    }
   ],
   "source": [
    "class Dog:\n",
    "    def __str__(self):\n",
    "        return 'dog: ' + str(self.name)\n",
    "    \n",
    "    def __init__(self, angry, count, name):\n",
    "        self.angry = angry\n",
    "        self.count = count\n",
    "        self.name = name\n",
    "\n",
    "    def say_gaw(self):\n",
    "        if self.angry:\n",
    "            print('GAW-' * self.count)\n",
    "        else:\n",
    "            print('gaw-' * self.count)\n",
    "            \n",
    "    def __add__(self, other):\n",
    "        return Dog(True, 3, self.name + other.name)\n",
    "\n",
    "my_dog = Dog(True, 3, 'Bobik')\n",
    "my_dog.say_gaw()      # ошибки нет, напечатает Gaw-gaw"
   ]
  },
  {
   "cell_type": "code",
   "execution_count": 26,
   "metadata": {},
   "outputs": [
    {
     "name": "stdout",
     "output_type": "stream",
     "text": [
      "dog: Bobik\n"
     ]
    }
   ],
   "source": [
    "print(my_dog)"
   ]
  },
  {
   "cell_type": "code",
   "execution_count": 32,
   "metadata": {},
   "outputs": [
    {
     "name": "stdout",
     "output_type": "stream",
     "text": [
      "dog: Luca\n"
     ]
    }
   ],
   "source": [
    "my_dog2 = Dog(True, 3, 'Luca')\n",
    "print(my_dog2)"
   ]
  },
  {
   "cell_type": "code",
   "execution_count": 36,
   "metadata": {},
   "outputs": [
    {
     "name": "stdout",
     "output_type": "stream",
     "text": [
      "dog: BobikLuca\n"
     ]
    }
   ],
   "source": [
    "print(my_dog + my_dog2)"
   ]
  },
  {
   "cell_type": "code",
   "execution_count": null,
   "metadata": {},
   "outputs": [],
   "source": []
  }
 ],
 "metadata": {
  "kernelspec": {
   "display_name": "Python 3",
   "language": "python",
   "name": "python3"
  },
  "language_info": {
   "codemirror_mode": {
    "name": "ipython",
    "version": 3
   },
   "file_extension": ".py",
   "mimetype": "text/x-python",
   "name": "python",
   "nbconvert_exporter": "python",
   "pygments_lexer": "ipython3",
   "version": "3.6.5"
  }
 },
 "nbformat": 4,
 "nbformat_minor": 2
}

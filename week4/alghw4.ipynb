{
 "cells": [
  {
   "cell_type": "markdown",
   "metadata": {},
   "source": [
    "# Упражнение 1. MSD для сортировки в лексикографическом порядке\n",
    "\n",
    "Реализуйте функцию, выполняющую MSD сортировку английских слов в лексикографическом порядке. \n",
    "\n",
    "1. **Лексикографический порядок** - отношение порядка на множестве слов над алфавитом $\\Sigma = \\left\\lbrace a_1, a_2, ...\\right\\rbrace$, для элементов которого опредлено отношение порядка.<br>\n",
    "\n",
    "- Под **словом** понимается поседовательность элементов алфавита $\\Sigma$.\n",
    "\n",
    "Согласно лексикографическому порядку, сравнение слов выполняется следующим образом.\n",
    "\n",
    "1. Если первые $i-1$ букв слов $A$ и $B$ совпадают, а $A_i \\ge B_i$, то $A \\ge B$. Пример: $\\text{Мария} \\ge \\text{Марина}$.\n",
    "\n",
    "- Если слово $B$ - начало (префикс) слова $A$, то $A \\ge B$. Пример: $\\text{Математика} \\ge \\text{Математик}$\n",
    "\n",
    "\n",
    "**Примеры**\n",
    "\n",
    "1. Упорядочивание слов в словаре. \n",
    "\n",
    "- Сравнение строк в Python.\n",
    "\n",
    "- Целые числа одинаковой длины (старшие разряды заполняются нулями): $000 \\leq 001 \\leq 002 \\leq 003 \\leq ...$"
   ]
  },
  {
   "cell_type": "code",
   "execution_count": 15,
   "metadata": {},
   "outputs": [],
   "source": [
    "def count_sort_strings(L, i, max_length):\n",
    "    D = {}\n",
    "    for elem in L:\n",
    "        letter = elem[i: i + 1]\n",
    "        if letter in D.keys():\n",
    "            D[letter].append(elem)\n",
    "        else:\n",
    "            D[letter] = [elem]\n",
    "    \n",
    "    for letter in D.keys():\n",
    "        if len(D[letter]) > 1:\n",
    "            count_sort_strings(D[letter], i + 1, max_length)\n",
    "    \n",
    "    index = 0\n",
    "    for letter, elems in sorted(D.items()):\n",
    "        L[index: index + len(elems)] = elems\n",
    "        index += int(len(elems))\n",
    "    \n",
    "\n",
    "def MSD_sort(L):\n",
    "    max_length = len(L[0])\n",
    "    for i in range(1, len(L)):\n",
    "        if len(L[i]) > max_length:\n",
    "            max_length = len(L[i])\n",
    "    count_sort_strings(L, 0, max_length)\n"
   ]
  },
  {
   "cell_type": "code",
   "execution_count": 22,
   "metadata": {},
   "outputs": [
    {
     "name": "stdout",
     "output_type": "stream",
     "text": [
      "False\n",
      "True\n"
     ]
    }
   ],
   "source": [
    "import random\n",
    "import string\n",
    "L = [''.join(random.sample(string.ascii_lowercase, random.randint(4, 10))) for _ in range(300)]\n",
    "\n",
    "L_sorted = sorted(L)\n",
    "print(L == L_sorted)\n",
    "MSD_sort(L)\n",
    "print(L == L_sorted)"
   ]
  },
  {
   "cell_type": "markdown",
   "metadata": {},
   "source": [
    "# Упражнение 2. MSD для сортировки целых чисел\n",
    "\n",
    "Напишите функцию для сортировки целых чисел с помощью алгоритма MSD."
   ]
  },
  {
   "cell_type": "code",
   "execution_count": 46,
   "metadata": {},
   "outputs": [],
   "source": [
    "def count_sort_strings(L, i, max_length):\n",
    "    D = {}\n",
    "    for elem in L:\n",
    "        letter = elem[i: i + 1]\n",
    "        if letter in D.keys():\n",
    "            D[letter].append(elem)\n",
    "        else:\n",
    "            D[letter] = [elem]\n",
    "    \n",
    "    for letter in D.keys():\n",
    "        if len(D[letter]) > 1 and (i + 1) < max_length:\n",
    "            count_sort_strings(D[letter], i + 1, max_length)\n",
    "    \n",
    "    index = 0\n",
    "    for letter, elems in sorted(D.items()):\n",
    "        L[index: index + len(elems)] = elems\n",
    "        index += int(len(elems))\n",
    "    \n",
    "\n",
    "def MSD_sort(L):\n",
    "    max_length = len(str(max(L)))\n",
    "    # Дополним числа слева нулями до максимальной длины\n",
    "    L_str = ['0' * (max_length - len(str(L[i]))) + str(L[i]) for i in range(len(L))]\n",
    "    count_sort_strings(L_str, 0, max_length)\n",
    "    L = [int(L_str[i]) for i in range(len(L_str))]\n",
    "    return L"
   ]
  },
  {
   "cell_type": "code",
   "execution_count": 50,
   "metadata": {},
   "outputs": [
    {
     "name": "stdout",
     "output_type": "stream",
     "text": [
      "[0, 1, 2, 3, 4, 5, 6, 7, 8, 9, 10, 11, 12, 13, 14, 15, 16, 17, 18, 19, 20, 21, 22, 23, 24, 25, 26, 27, 28, 29, 30, 31, 32, 33, 34, 35, 36, 37, 38, 39, 40, 41, 42, 43, 44, 45, 46, 47, 48, 49, 50, 51, 52, 53, 54, 55, 56, 57, 58, 59, 60, 61, 62, 63, 64, 65, 66, 67, 68, 69, 70, 71, 72, 73, 74, 75, 76, 77, 78, 79, 80, 81, 82, 83, 84, 85, 86, 87, 88, 89, 90, 91, 92, 93, 94, 95, 96, 97, 98, 99, 100, 100, 101, 101, 102, 102, 103, 103, 104, 104, 105, 105, 106, 106, 107, 107, 108, 108, 109, 109, 110, 110, 111, 111, 112, 112, 113, 113, 114, 114, 115, 115, 116, 116, 117, 117, 118, 118, 119, 119, 120, 120, 121, 121, 122, 122, 123, 123, 124, 124, 125, 125, 126, 126, 127, 127, 128, 128, 129, 129, 130, 130, 131, 131, 132, 132, 133, 133, 134, 134, 135, 135, 136, 136, 137, 137, 138, 138, 139, 139, 140, 140, 141, 141, 142, 142, 143, 143, 144, 144, 145, 145, 146, 146, 147, 147, 148, 148, 149, 149, 150, 151, 152, 153, 154, 155, 156, 157, 158, 159, 160, 161, 162, 163, 164, 165, 166, 167, 168, 169, 170, 171, 172, 173, 174, 175, 176, 177, 178, 179, 180, 181, 182, 183, 184, 185, 186, 187, 188, 189, 190, 191, 192, 193, 194, 195, 196, 197, 198, 199, 200, 201, 202, 203, 204, 205, 206, 207, 208, 209, 210, 211, 212, 213, 214, 215, 216, 217, 218, 219, 220, 221, 222, 223, 224, 225, 226, 227, 228, 229, 230, 231, 232, 233, 234, 235, 236, 237, 238, 239, 240, 241, 242, 243, 244, 245, 246, 247, 248, 249]\n"
     ]
    }
   ],
   "source": [
    "import random\n",
    "L = list(range(150)) + list(range(100, 250))\n",
    "random.shuffle(L)\n",
    "\n",
    "L = MSD_sort(L)\n",
    "print(L)"
   ]
  },
  {
   "cell_type": "markdown",
   "metadata": {},
   "source": [
    "# Упражнение 3. Устойчивая быстрая сортировка\n",
    "\n",
    "Модифицируйте реализованную на занятии \"быструю сортировку\" так, чтобы она стала устойчивой. Используйте расширение ключа."
   ]
  },
  {
   "cell_type": "code",
   "execution_count": 13,
   "metadata": {},
   "outputs": [],
   "source": [
    "def quickSort(A): \n",
    "       \n",
    "    if len(A) <= 1: \n",
    "        return A \n",
    "  \n",
    "    mid = len(A)//2\n",
    "    pivot = A[mid] \n",
    "\n",
    "    smaller, greater = [], [] \n",
    "\n",
    "    for indx, val in enumerate(A): \n",
    "        if indx != mid: \n",
    "            if val < pivot: \n",
    "                smaller.append(val) \n",
    "            elif val > pivot: \n",
    "                greater.append(val) \n",
    "   \n",
    "            else: \n",
    "                if indx < mid: \n",
    "                    smaller.append(val) \n",
    "                else: \n",
    "                    greater.append(val) \n",
    "    return quickSort(smaller) + [pivot] + quickSort(greater) "
   ]
  },
  {
   "cell_type": "code",
   "execution_count": 15,
   "metadata": {},
   "outputs": [
    {
     "data": {
      "text/plain": [
       "[-12, -4, 1, 2, 2, 3, 9, 22, 23.2]"
      ]
     },
     "execution_count": 15,
     "metadata": {},
     "output_type": "execute_result"
    }
   ],
   "source": [
    "A = [1, 2, 9, 3, 22, -12, 2, 23.2, -4]\n",
    "A = quickSort(A)\n",
    "A"
   ]
  },
  {
   "cell_type": "markdown",
   "metadata": {},
   "source": [
    "# Упражнение 4. Однопроходная сортировка\n",
    "\n",
    "Отсортируйте список абитуриентов МФТИ так, чтобы в начале списка стояли все девушки, а затем юноши. Реализуйте однопроходный алгоритм, который **не использует** дополнительную память. Список состоит из кортежей: в каждом кортеже нулевой элемент равен или `\"М\"`, или `\"Ж\"` (пол абитуриента), а элементы с первого по третий содержат ФИО."
   ]
  },
  {
   "cell_type": "code",
   "execution_count": 5,
   "metadata": {},
   "outputs": [],
   "source": [
    "def Single_pass_sort(students):\n",
    "    ind_women = 0 # Первый индекс после всех женщин\n",
    "    i = 0\n",
    "    while i < len(students):\n",
    "        if students[i][0] == 'Ж':\n",
    "            students[ind_women], students[i] = students[i], students[ind_women]\n",
    "            ind_women += 1\n",
    "        i += 1"
   ]
  },
  {
   "cell_type": "code",
   "execution_count": 6,
   "metadata": {},
   "outputs": [
    {
     "data": {
      "text/plain": [
       "[('Ж', 'Анна', 'Ф', 'О'),\n",
       " ('Ж', 'Виктория', 'Ф', 'О'),\n",
       " ('Ж', 'Жанна', 'Ф', 'О'),\n",
       " ('Ж', 'Оливия', 'Ф', 'О'),\n",
       " ('М', 'Игнат', 'Ф', 'О'),\n",
       " ('М', 'Иван', 'Ф', 'О'),\n",
       " ('М', 'Алексей', 'Ф', 'О'),\n",
       " ('М', 'Иван', 'Ф', 'О')]"
      ]
     },
     "execution_count": 6,
     "metadata": {},
     "output_type": "execute_result"
    }
   ],
   "source": [
    "students = [('М', 'Иван', 'Ф', 'О'), ('Ж', 'Анна', 'Ф', 'О'), ('Ж', 'Виктория', 'Ф', 'О'), ('М', 'Алексей', 'Ф', 'О'),\n",
    "           ('М', 'Игнат', 'Ф', 'О'), ('Ж', 'Жанна', 'Ф', 'О'), ('Ж', 'Оливия', 'Ф', 'О'), ('М', 'Иван', 'Ф', 'О')]\n",
    "\n",
    "Single_pass_sort(students)\n",
    "students"
   ]
  }
 ],
 "metadata": {
  "kernelspec": {
   "display_name": "Python 3",
   "language": "python",
   "name": "python3"
  },
  "language_info": {
   "codemirror_mode": {
    "name": "ipython",
    "version": 3
   },
   "file_extension": ".py",
   "mimetype": "text/x-python",
   "name": "python",
   "nbconvert_exporter": "python",
   "pygments_lexer": "ipython3",
   "version": "3.6.5"
  }
 },
 "nbformat": 4,
 "nbformat_minor": 2
}
